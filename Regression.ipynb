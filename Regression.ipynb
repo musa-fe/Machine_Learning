{
  "cells": [
    {
      "cell_type": "code",
      "execution_count": 4,
      "metadata": {
        "id": "4LE4ClC2Z3i-"
      },
      "outputs": [],
      "source": [
        "import pandas as pd\n",
        "import numpy as np"
      ]
    },
    {
      "cell_type": "code",
      "execution_count": 5,
      "metadata": {
        "id": "w5pT6E20cPOv"
      },
      "outputs": [],
      "source": [
        "dat = pd.read_excel(\"Concrete_Data.xls\")"
      ]
    },
    {
      "cell_type": "code",
      "execution_count": 6,
      "metadata": {
        "colab": {
          "base_uri": "https://localhost:8080/",
          "height": 206
        },
        "id": "1Ep2QvOWcYsW",
        "outputId": "8624eda8-9153-4488-b3c6-7ef85363ea64"
      },
      "outputs": [
        {
          "output_type": "execute_result",
          "data": {
            "text/plain": [
              "   Cimento  Yuksek_Firin_Curufu  Ucucu_Kul     Su  Akiskanlastirici  \\\n",
              "0    540.0                  0.0        0.0  162.0               2.5   \n",
              "1    540.0                  0.0        0.0  162.0               2.5   \n",
              "2    332.5                142.5        0.0  228.0               0.0   \n",
              "3    332.5                142.5        0.0  228.0               0.0   \n",
              "4    198.6                132.4        0.0  192.0               0.0   \n",
              "\n",
              "   İri_Agregan  İnce_Agregan   Yas  Basinc_Dayanimi  \n",
              "0       1040.0          676.0   28        79.986111  \n",
              "1       1055.0          676.0   28        61.887366  \n",
              "2        932.0          594.0  270        40.269535  \n",
              "3        932.0          594.0  365        41.052780  \n",
              "4        978.4          825.5  360        44.296075  "
            ],
            "text/html": [
              "\n",
              "  <div id=\"df-300fcd55-bbf7-4bc0-b34f-5e0f65cd9252\" class=\"colab-df-container\">\n",
              "    <div>\n",
              "<style scoped>\n",
              "    .dataframe tbody tr th:only-of-type {\n",
              "        vertical-align: middle;\n",
              "    }\n",
              "\n",
              "    .dataframe tbody tr th {\n",
              "        vertical-align: top;\n",
              "    }\n",
              "\n",
              "    .dataframe thead th {\n",
              "        text-align: right;\n",
              "    }\n",
              "</style>\n",
              "<table border=\"1\" class=\"dataframe\">\n",
              "  <thead>\n",
              "    <tr style=\"text-align: right;\">\n",
              "      <th></th>\n",
              "      <th>Cimento</th>\n",
              "      <th>Yuksek_Firin_Curufu</th>\n",
              "      <th>Ucucu_Kul</th>\n",
              "      <th>Su</th>\n",
              "      <th>Akiskanlastirici</th>\n",
              "      <th>İri_Agregan</th>\n",
              "      <th>İnce_Agregan</th>\n",
              "      <th>Yas</th>\n",
              "      <th>Basinc_Dayanimi</th>\n",
              "    </tr>\n",
              "  </thead>\n",
              "  <tbody>\n",
              "    <tr>\n",
              "      <th>0</th>\n",
              "      <td>540.0</td>\n",
              "      <td>0.0</td>\n",
              "      <td>0.0</td>\n",
              "      <td>162.0</td>\n",
              "      <td>2.5</td>\n",
              "      <td>1040.0</td>\n",
              "      <td>676.0</td>\n",
              "      <td>28</td>\n",
              "      <td>79.986111</td>\n",
              "    </tr>\n",
              "    <tr>\n",
              "      <th>1</th>\n",
              "      <td>540.0</td>\n",
              "      <td>0.0</td>\n",
              "      <td>0.0</td>\n",
              "      <td>162.0</td>\n",
              "      <td>2.5</td>\n",
              "      <td>1055.0</td>\n",
              "      <td>676.0</td>\n",
              "      <td>28</td>\n",
              "      <td>61.887366</td>\n",
              "    </tr>\n",
              "    <tr>\n",
              "      <th>2</th>\n",
              "      <td>332.5</td>\n",
              "      <td>142.5</td>\n",
              "      <td>0.0</td>\n",
              "      <td>228.0</td>\n",
              "      <td>0.0</td>\n",
              "      <td>932.0</td>\n",
              "      <td>594.0</td>\n",
              "      <td>270</td>\n",
              "      <td>40.269535</td>\n",
              "    </tr>\n",
              "    <tr>\n",
              "      <th>3</th>\n",
              "      <td>332.5</td>\n",
              "      <td>142.5</td>\n",
              "      <td>0.0</td>\n",
              "      <td>228.0</td>\n",
              "      <td>0.0</td>\n",
              "      <td>932.0</td>\n",
              "      <td>594.0</td>\n",
              "      <td>365</td>\n",
              "      <td>41.052780</td>\n",
              "    </tr>\n",
              "    <tr>\n",
              "      <th>4</th>\n",
              "      <td>198.6</td>\n",
              "      <td>132.4</td>\n",
              "      <td>0.0</td>\n",
              "      <td>192.0</td>\n",
              "      <td>0.0</td>\n",
              "      <td>978.4</td>\n",
              "      <td>825.5</td>\n",
              "      <td>360</td>\n",
              "      <td>44.296075</td>\n",
              "    </tr>\n",
              "  </tbody>\n",
              "</table>\n",
              "</div>\n",
              "    <div class=\"colab-df-buttons\">\n",
              "\n",
              "  <div class=\"colab-df-container\">\n",
              "    <button class=\"colab-df-convert\" onclick=\"convertToInteractive('df-300fcd55-bbf7-4bc0-b34f-5e0f65cd9252')\"\n",
              "            title=\"Convert this dataframe to an interactive table.\"\n",
              "            style=\"display:none;\">\n",
              "\n",
              "  <svg xmlns=\"http://www.w3.org/2000/svg\" height=\"24px\" viewBox=\"0 -960 960 960\">\n",
              "    <path d=\"M120-120v-720h720v720H120Zm60-500h600v-160H180v160Zm220 220h160v-160H400v160Zm0 220h160v-160H400v160ZM180-400h160v-160H180v160Zm440 0h160v-160H620v160ZM180-180h160v-160H180v160Zm440 0h160v-160H620v160Z\"/>\n",
              "  </svg>\n",
              "    </button>\n",
              "\n",
              "  <style>\n",
              "    .colab-df-container {\n",
              "      display:flex;\n",
              "      gap: 12px;\n",
              "    }\n",
              "\n",
              "    .colab-df-convert {\n",
              "      background-color: #E8F0FE;\n",
              "      border: none;\n",
              "      border-radius: 50%;\n",
              "      cursor: pointer;\n",
              "      display: none;\n",
              "      fill: #1967D2;\n",
              "      height: 32px;\n",
              "      padding: 0 0 0 0;\n",
              "      width: 32px;\n",
              "    }\n",
              "\n",
              "    .colab-df-convert:hover {\n",
              "      background-color: #E2EBFA;\n",
              "      box-shadow: 0px 1px 2px rgba(60, 64, 67, 0.3), 0px 1px 3px 1px rgba(60, 64, 67, 0.15);\n",
              "      fill: #174EA6;\n",
              "    }\n",
              "\n",
              "    .colab-df-buttons div {\n",
              "      margin-bottom: 4px;\n",
              "    }\n",
              "\n",
              "    [theme=dark] .colab-df-convert {\n",
              "      background-color: #3B4455;\n",
              "      fill: #D2E3FC;\n",
              "    }\n",
              "\n",
              "    [theme=dark] .colab-df-convert:hover {\n",
              "      background-color: #434B5C;\n",
              "      box-shadow: 0px 1px 3px 1px rgba(0, 0, 0, 0.15);\n",
              "      filter: drop-shadow(0px 1px 2px rgba(0, 0, 0, 0.3));\n",
              "      fill: #FFFFFF;\n",
              "    }\n",
              "  </style>\n",
              "\n",
              "    <script>\n",
              "      const buttonEl =\n",
              "        document.querySelector('#df-300fcd55-bbf7-4bc0-b34f-5e0f65cd9252 button.colab-df-convert');\n",
              "      buttonEl.style.display =\n",
              "        google.colab.kernel.accessAllowed ? 'block' : 'none';\n",
              "\n",
              "      async function convertToInteractive(key) {\n",
              "        const element = document.querySelector('#df-300fcd55-bbf7-4bc0-b34f-5e0f65cd9252');\n",
              "        const dataTable =\n",
              "          await google.colab.kernel.invokeFunction('convertToInteractive',\n",
              "                                                    [key], {});\n",
              "        if (!dataTable) return;\n",
              "\n",
              "        const docLinkHtml = 'Like what you see? Visit the ' +\n",
              "          '<a target=\"_blank\" href=https://colab.research.google.com/notebooks/data_table.ipynb>data table notebook</a>'\n",
              "          + ' to learn more about interactive tables.';\n",
              "        element.innerHTML = '';\n",
              "        dataTable['output_type'] = 'display_data';\n",
              "        await google.colab.output.renderOutput(dataTable, element);\n",
              "        const docLink = document.createElement('div');\n",
              "        docLink.innerHTML = docLinkHtml;\n",
              "        element.appendChild(docLink);\n",
              "      }\n",
              "    </script>\n",
              "  </div>\n",
              "\n",
              "\n",
              "<div id=\"df-98daa5d5-789e-4373-addf-2aa076c79c61\">\n",
              "  <button class=\"colab-df-quickchart\" onclick=\"quickchart('df-98daa5d5-789e-4373-addf-2aa076c79c61')\"\n",
              "            title=\"Suggest charts\"\n",
              "            style=\"display:none;\">\n",
              "\n",
              "<svg xmlns=\"http://www.w3.org/2000/svg\" height=\"24px\"viewBox=\"0 0 24 24\"\n",
              "     width=\"24px\">\n",
              "    <g>\n",
              "        <path d=\"M19 3H5c-1.1 0-2 .9-2 2v14c0 1.1.9 2 2 2h14c1.1 0 2-.9 2-2V5c0-1.1-.9-2-2-2zM9 17H7v-7h2v7zm4 0h-2V7h2v10zm4 0h-2v-4h2v4z\"/>\n",
              "    </g>\n",
              "</svg>\n",
              "  </button>\n",
              "\n",
              "<style>\n",
              "  .colab-df-quickchart {\n",
              "      --bg-color: #E8F0FE;\n",
              "      --fill-color: #1967D2;\n",
              "      --hover-bg-color: #E2EBFA;\n",
              "      --hover-fill-color: #174EA6;\n",
              "      --disabled-fill-color: #AAA;\n",
              "      --disabled-bg-color: #DDD;\n",
              "  }\n",
              "\n",
              "  [theme=dark] .colab-df-quickchart {\n",
              "      --bg-color: #3B4455;\n",
              "      --fill-color: #D2E3FC;\n",
              "      --hover-bg-color: #434B5C;\n",
              "      --hover-fill-color: #FFFFFF;\n",
              "      --disabled-bg-color: #3B4455;\n",
              "      --disabled-fill-color: #666;\n",
              "  }\n",
              "\n",
              "  .colab-df-quickchart {\n",
              "    background-color: var(--bg-color);\n",
              "    border: none;\n",
              "    border-radius: 50%;\n",
              "    cursor: pointer;\n",
              "    display: none;\n",
              "    fill: var(--fill-color);\n",
              "    height: 32px;\n",
              "    padding: 0;\n",
              "    width: 32px;\n",
              "  }\n",
              "\n",
              "  .colab-df-quickchart:hover {\n",
              "    background-color: var(--hover-bg-color);\n",
              "    box-shadow: 0 1px 2px rgba(60, 64, 67, 0.3), 0 1px 3px 1px rgba(60, 64, 67, 0.15);\n",
              "    fill: var(--button-hover-fill-color);\n",
              "  }\n",
              "\n",
              "  .colab-df-quickchart-complete:disabled,\n",
              "  .colab-df-quickchart-complete:disabled:hover {\n",
              "    background-color: var(--disabled-bg-color);\n",
              "    fill: var(--disabled-fill-color);\n",
              "    box-shadow: none;\n",
              "  }\n",
              "\n",
              "  .colab-df-spinner {\n",
              "    border: 2px solid var(--fill-color);\n",
              "    border-color: transparent;\n",
              "    border-bottom-color: var(--fill-color);\n",
              "    animation:\n",
              "      spin 1s steps(1) infinite;\n",
              "  }\n",
              "\n",
              "  @keyframes spin {\n",
              "    0% {\n",
              "      border-color: transparent;\n",
              "      border-bottom-color: var(--fill-color);\n",
              "      border-left-color: var(--fill-color);\n",
              "    }\n",
              "    20% {\n",
              "      border-color: transparent;\n",
              "      border-left-color: var(--fill-color);\n",
              "      border-top-color: var(--fill-color);\n",
              "    }\n",
              "    30% {\n",
              "      border-color: transparent;\n",
              "      border-left-color: var(--fill-color);\n",
              "      border-top-color: var(--fill-color);\n",
              "      border-right-color: var(--fill-color);\n",
              "    }\n",
              "    40% {\n",
              "      border-color: transparent;\n",
              "      border-right-color: var(--fill-color);\n",
              "      border-top-color: var(--fill-color);\n",
              "    }\n",
              "    60% {\n",
              "      border-color: transparent;\n",
              "      border-right-color: var(--fill-color);\n",
              "    }\n",
              "    80% {\n",
              "      border-color: transparent;\n",
              "      border-right-color: var(--fill-color);\n",
              "      border-bottom-color: var(--fill-color);\n",
              "    }\n",
              "    90% {\n",
              "      border-color: transparent;\n",
              "      border-bottom-color: var(--fill-color);\n",
              "    }\n",
              "  }\n",
              "</style>\n",
              "\n",
              "  <script>\n",
              "    async function quickchart(key) {\n",
              "      const quickchartButtonEl =\n",
              "        document.querySelector('#' + key + ' button');\n",
              "      quickchartButtonEl.disabled = true;  // To prevent multiple clicks.\n",
              "      quickchartButtonEl.classList.add('colab-df-spinner');\n",
              "      try {\n",
              "        const charts = await google.colab.kernel.invokeFunction(\n",
              "            'suggestCharts', [key], {});\n",
              "      } catch (error) {\n",
              "        console.error('Error during call to suggestCharts:', error);\n",
              "      }\n",
              "      quickchartButtonEl.classList.remove('colab-df-spinner');\n",
              "      quickchartButtonEl.classList.add('colab-df-quickchart-complete');\n",
              "    }\n",
              "    (() => {\n",
              "      let quickchartButtonEl =\n",
              "        document.querySelector('#df-98daa5d5-789e-4373-addf-2aa076c79c61 button');\n",
              "      quickchartButtonEl.style.display =\n",
              "        google.colab.kernel.accessAllowed ? 'block' : 'none';\n",
              "    })();\n",
              "  </script>\n",
              "</div>\n",
              "\n",
              "    </div>\n",
              "  </div>\n"
            ],
            "application/vnd.google.colaboratory.intrinsic+json": {
              "type": "dataframe",
              "variable_name": "dat",
              "summary": "{\n  \"name\": \"dat\",\n  \"rows\": 1030,\n  \"fields\": [\n    {\n      \"column\": \"Cimento\",\n      \"properties\": {\n        \"dtype\": \"number\",\n        \"std\": 104.50714164287166,\n        \"min\": 102.0,\n        \"max\": 540.0,\n        \"num_unique_values\": 280,\n        \"samples\": [\n          194.68,\n          480.0,\n          145.4\n        ],\n        \"semantic_type\": \"\",\n        \"description\": \"\"\n      }\n    },\n    {\n      \"column\": \"Yuksek_Firin_Curufu\",\n      \"properties\": {\n        \"dtype\": \"number\",\n        \"std\": 86.2791036431688,\n        \"min\": 0.0,\n        \"max\": 359.4,\n        \"num_unique_values\": 187,\n        \"samples\": [\n          186.7,\n          212.0,\n          26.0\n        ],\n        \"semantic_type\": \"\",\n        \"description\": \"\"\n      }\n    },\n    {\n      \"column\": \"Ucucu_Kul\",\n      \"properties\": {\n        \"dtype\": \"number\",\n        \"std\": 63.9964693818656,\n        \"min\": 0.0,\n        \"max\": 200.1,\n        \"num_unique_values\": 163,\n        \"samples\": [\n          81.8,\n          137.9,\n          107.5\n        ],\n        \"semantic_type\": \"\",\n        \"description\": \"\"\n      }\n    },\n    {\n      \"column\": \"Su\",\n      \"properties\": {\n        \"dtype\": \"number\",\n        \"std\": 21.35556706691148,\n        \"min\": 121.75,\n        \"max\": 247.0,\n        \"num_unique_values\": 205,\n        \"samples\": [\n          164.9,\n          181.1,\n          185.7\n        ],\n        \"semantic_type\": \"\",\n        \"description\": \"\"\n      }\n    },\n    {\n      \"column\": \"Akiskanlastirici\",\n      \"properties\": {\n        \"dtype\": \"number\",\n        \"std\": 5.973491650590153,\n        \"min\": 0.0,\n        \"max\": 32.2,\n        \"num_unique_values\": 155,\n        \"samples\": [\n          4.14,\n          9.8,\n          6.13\n        ],\n        \"semantic_type\": \"\",\n        \"description\": \"\"\n      }\n    },\n    {\n      \"column\": \"\\u0130ri_Agregan\",\n      \"properties\": {\n        \"dtype\": \"number\",\n        \"std\": 77.75381809178938,\n        \"min\": 801.0,\n        \"max\": 1145.0,\n        \"num_unique_values\": 284,\n        \"samples\": [\n          852.1,\n          913.9,\n          914.0\n        ],\n        \"semantic_type\": \"\",\n        \"description\": \"\"\n      }\n    },\n    {\n      \"column\": \"\\u0130nce_Agregan \",\n      \"properties\": {\n        \"dtype\": \"number\",\n        \"std\": 80.17542739902382,\n        \"min\": 594.0,\n        \"max\": 992.6,\n        \"num_unique_values\": 304,\n        \"samples\": [\n          698.0,\n          613.0,\n          689.3\n        ],\n        \"semantic_type\": \"\",\n        \"description\": \"\"\n      }\n    },\n    {\n      \"column\": \"Yas\",\n      \"properties\": {\n        \"dtype\": \"number\",\n        \"std\": 63,\n        \"min\": 1,\n        \"max\": 365,\n        \"num_unique_values\": 14,\n        \"samples\": [\n          91,\n          100,\n          28\n        ],\n        \"semantic_type\": \"\",\n        \"description\": \"\"\n      }\n    },\n    {\n      \"column\": \"Basinc_Dayanimi\",\n      \"properties\": {\n        \"dtype\": \"number\",\n        \"std\": 16.70567917486794,\n        \"min\": 2.331807832,\n        \"max\": 82.5992248,\n        \"num_unique_values\": 938,\n        \"samples\": [\n          33.398217439999996,\n          56.63355864,\n          25.559564796\n        ],\n        \"semantic_type\": \"\",\n        \"description\": \"\"\n      }\n    }\n  ]\n}"
            }
          },
          "metadata": {},
          "execution_count": 6
        }
      ],
      "source": [
        "dat.head()"
      ]
    },
    {
      "cell_type": "code",
      "execution_count": 7,
      "metadata": {
        "colab": {
          "base_uri": "https://localhost:8080/",
          "height": 331
        },
        "id": "8YMRCNAd14-l",
        "outputId": "d0556931-528b-4efe-b301-d828cb77fa40"
      },
      "outputs": [
        {
          "output_type": "execute_result",
          "data": {
            "text/plain": [
              "                      count        mean         std         min         25%  \\\n",
              "Cimento              1030.0  281.165631  104.507142  102.000000  192.375000   \n",
              "Yuksek_Firin_Curufu  1030.0   73.895485   86.279104    0.000000    0.000000   \n",
              "Ucucu_Kul            1030.0   54.187136   63.996469    0.000000    0.000000   \n",
              "Su                   1030.0  181.566359   21.355567  121.750000  164.900000   \n",
              "Akiskanlastirici     1030.0    6.203112    5.973492    0.000000    0.000000   \n",
              "İri_Agregan          1030.0  972.918592   77.753818  801.000000  932.000000   \n",
              "İnce_Agregan         1030.0  773.578883   80.175427  594.000000  730.950000   \n",
              "Yas                  1030.0   45.662136   63.169912    1.000000    7.000000   \n",
              "Basinc_Dayanimi      1030.0   35.817836   16.705679    2.331808   23.707115   \n",
              "\n",
              "                            50%          75%          max  \n",
              "Cimento              272.900000   350.000000   540.000000  \n",
              "Yuksek_Firin_Curufu   22.000000   142.950000   359.400000  \n",
              "Ucucu_Kul              0.000000   118.270000   200.100000  \n",
              "Su                   185.000000   192.000000   247.000000  \n",
              "Akiskanlastirici       6.350000    10.160000    32.200000  \n",
              "İri_Agregan          968.000000  1029.400000  1145.000000  \n",
              "İnce_Agregan         779.510000   824.000000   992.600000  \n",
              "Yas                   28.000000    56.000000   365.000000  \n",
              "Basinc_Dayanimi       34.442774    46.136287    82.599225  "
            ],
            "text/html": [
              "\n",
              "  <div id=\"df-149f0cba-b9f1-438e-89c2-53bcf4330677\" class=\"colab-df-container\">\n",
              "    <div>\n",
              "<style scoped>\n",
              "    .dataframe tbody tr th:only-of-type {\n",
              "        vertical-align: middle;\n",
              "    }\n",
              "\n",
              "    .dataframe tbody tr th {\n",
              "        vertical-align: top;\n",
              "    }\n",
              "\n",
              "    .dataframe thead th {\n",
              "        text-align: right;\n",
              "    }\n",
              "</style>\n",
              "<table border=\"1\" class=\"dataframe\">\n",
              "  <thead>\n",
              "    <tr style=\"text-align: right;\">\n",
              "      <th></th>\n",
              "      <th>count</th>\n",
              "      <th>mean</th>\n",
              "      <th>std</th>\n",
              "      <th>min</th>\n",
              "      <th>25%</th>\n",
              "      <th>50%</th>\n",
              "      <th>75%</th>\n",
              "      <th>max</th>\n",
              "    </tr>\n",
              "  </thead>\n",
              "  <tbody>\n",
              "    <tr>\n",
              "      <th>Cimento</th>\n",
              "      <td>1030.0</td>\n",
              "      <td>281.165631</td>\n",
              "      <td>104.507142</td>\n",
              "      <td>102.000000</td>\n",
              "      <td>192.375000</td>\n",
              "      <td>272.900000</td>\n",
              "      <td>350.000000</td>\n",
              "      <td>540.000000</td>\n",
              "    </tr>\n",
              "    <tr>\n",
              "      <th>Yuksek_Firin_Curufu</th>\n",
              "      <td>1030.0</td>\n",
              "      <td>73.895485</td>\n",
              "      <td>86.279104</td>\n",
              "      <td>0.000000</td>\n",
              "      <td>0.000000</td>\n",
              "      <td>22.000000</td>\n",
              "      <td>142.950000</td>\n",
              "      <td>359.400000</td>\n",
              "    </tr>\n",
              "    <tr>\n",
              "      <th>Ucucu_Kul</th>\n",
              "      <td>1030.0</td>\n",
              "      <td>54.187136</td>\n",
              "      <td>63.996469</td>\n",
              "      <td>0.000000</td>\n",
              "      <td>0.000000</td>\n",
              "      <td>0.000000</td>\n",
              "      <td>118.270000</td>\n",
              "      <td>200.100000</td>\n",
              "    </tr>\n",
              "    <tr>\n",
              "      <th>Su</th>\n",
              "      <td>1030.0</td>\n",
              "      <td>181.566359</td>\n",
              "      <td>21.355567</td>\n",
              "      <td>121.750000</td>\n",
              "      <td>164.900000</td>\n",
              "      <td>185.000000</td>\n",
              "      <td>192.000000</td>\n",
              "      <td>247.000000</td>\n",
              "    </tr>\n",
              "    <tr>\n",
              "      <th>Akiskanlastirici</th>\n",
              "      <td>1030.0</td>\n",
              "      <td>6.203112</td>\n",
              "      <td>5.973492</td>\n",
              "      <td>0.000000</td>\n",
              "      <td>0.000000</td>\n",
              "      <td>6.350000</td>\n",
              "      <td>10.160000</td>\n",
              "      <td>32.200000</td>\n",
              "    </tr>\n",
              "    <tr>\n",
              "      <th>İri_Agregan</th>\n",
              "      <td>1030.0</td>\n",
              "      <td>972.918592</td>\n",
              "      <td>77.753818</td>\n",
              "      <td>801.000000</td>\n",
              "      <td>932.000000</td>\n",
              "      <td>968.000000</td>\n",
              "      <td>1029.400000</td>\n",
              "      <td>1145.000000</td>\n",
              "    </tr>\n",
              "    <tr>\n",
              "      <th>İnce_Agregan</th>\n",
              "      <td>1030.0</td>\n",
              "      <td>773.578883</td>\n",
              "      <td>80.175427</td>\n",
              "      <td>594.000000</td>\n",
              "      <td>730.950000</td>\n",
              "      <td>779.510000</td>\n",
              "      <td>824.000000</td>\n",
              "      <td>992.600000</td>\n",
              "    </tr>\n",
              "    <tr>\n",
              "      <th>Yas</th>\n",
              "      <td>1030.0</td>\n",
              "      <td>45.662136</td>\n",
              "      <td>63.169912</td>\n",
              "      <td>1.000000</td>\n",
              "      <td>7.000000</td>\n",
              "      <td>28.000000</td>\n",
              "      <td>56.000000</td>\n",
              "      <td>365.000000</td>\n",
              "    </tr>\n",
              "    <tr>\n",
              "      <th>Basinc_Dayanimi</th>\n",
              "      <td>1030.0</td>\n",
              "      <td>35.817836</td>\n",
              "      <td>16.705679</td>\n",
              "      <td>2.331808</td>\n",
              "      <td>23.707115</td>\n",
              "      <td>34.442774</td>\n",
              "      <td>46.136287</td>\n",
              "      <td>82.599225</td>\n",
              "    </tr>\n",
              "  </tbody>\n",
              "</table>\n",
              "</div>\n",
              "    <div class=\"colab-df-buttons\">\n",
              "\n",
              "  <div class=\"colab-df-container\">\n",
              "    <button class=\"colab-df-convert\" onclick=\"convertToInteractive('df-149f0cba-b9f1-438e-89c2-53bcf4330677')\"\n",
              "            title=\"Convert this dataframe to an interactive table.\"\n",
              "            style=\"display:none;\">\n",
              "\n",
              "  <svg xmlns=\"http://www.w3.org/2000/svg\" height=\"24px\" viewBox=\"0 -960 960 960\">\n",
              "    <path d=\"M120-120v-720h720v720H120Zm60-500h600v-160H180v160Zm220 220h160v-160H400v160Zm0 220h160v-160H400v160ZM180-400h160v-160H180v160Zm440 0h160v-160H620v160ZM180-180h160v-160H180v160Zm440 0h160v-160H620v160Z\"/>\n",
              "  </svg>\n",
              "    </button>\n",
              "\n",
              "  <style>\n",
              "    .colab-df-container {\n",
              "      display:flex;\n",
              "      gap: 12px;\n",
              "    }\n",
              "\n",
              "    .colab-df-convert {\n",
              "      background-color: #E8F0FE;\n",
              "      border: none;\n",
              "      border-radius: 50%;\n",
              "      cursor: pointer;\n",
              "      display: none;\n",
              "      fill: #1967D2;\n",
              "      height: 32px;\n",
              "      padding: 0 0 0 0;\n",
              "      width: 32px;\n",
              "    }\n",
              "\n",
              "    .colab-df-convert:hover {\n",
              "      background-color: #E2EBFA;\n",
              "      box-shadow: 0px 1px 2px rgba(60, 64, 67, 0.3), 0px 1px 3px 1px rgba(60, 64, 67, 0.15);\n",
              "      fill: #174EA6;\n",
              "    }\n",
              "\n",
              "    .colab-df-buttons div {\n",
              "      margin-bottom: 4px;\n",
              "    }\n",
              "\n",
              "    [theme=dark] .colab-df-convert {\n",
              "      background-color: #3B4455;\n",
              "      fill: #D2E3FC;\n",
              "    }\n",
              "\n",
              "    [theme=dark] .colab-df-convert:hover {\n",
              "      background-color: #434B5C;\n",
              "      box-shadow: 0px 1px 3px 1px rgba(0, 0, 0, 0.15);\n",
              "      filter: drop-shadow(0px 1px 2px rgba(0, 0, 0, 0.3));\n",
              "      fill: #FFFFFF;\n",
              "    }\n",
              "  </style>\n",
              "\n",
              "    <script>\n",
              "      const buttonEl =\n",
              "        document.querySelector('#df-149f0cba-b9f1-438e-89c2-53bcf4330677 button.colab-df-convert');\n",
              "      buttonEl.style.display =\n",
              "        google.colab.kernel.accessAllowed ? 'block' : 'none';\n",
              "\n",
              "      async function convertToInteractive(key) {\n",
              "        const element = document.querySelector('#df-149f0cba-b9f1-438e-89c2-53bcf4330677');\n",
              "        const dataTable =\n",
              "          await google.colab.kernel.invokeFunction('convertToInteractive',\n",
              "                                                    [key], {});\n",
              "        if (!dataTable) return;\n",
              "\n",
              "        const docLinkHtml = 'Like what you see? Visit the ' +\n",
              "          '<a target=\"_blank\" href=https://colab.research.google.com/notebooks/data_table.ipynb>data table notebook</a>'\n",
              "          + ' to learn more about interactive tables.';\n",
              "        element.innerHTML = '';\n",
              "        dataTable['output_type'] = 'display_data';\n",
              "        await google.colab.output.renderOutput(dataTable, element);\n",
              "        const docLink = document.createElement('div');\n",
              "        docLink.innerHTML = docLinkHtml;\n",
              "        element.appendChild(docLink);\n",
              "      }\n",
              "    </script>\n",
              "  </div>\n",
              "\n",
              "\n",
              "<div id=\"df-5951e032-61d3-4e27-9ed5-ff6b9b23349d\">\n",
              "  <button class=\"colab-df-quickchart\" onclick=\"quickchart('df-5951e032-61d3-4e27-9ed5-ff6b9b23349d')\"\n",
              "            title=\"Suggest charts\"\n",
              "            style=\"display:none;\">\n",
              "\n",
              "<svg xmlns=\"http://www.w3.org/2000/svg\" height=\"24px\"viewBox=\"0 0 24 24\"\n",
              "     width=\"24px\">\n",
              "    <g>\n",
              "        <path d=\"M19 3H5c-1.1 0-2 .9-2 2v14c0 1.1.9 2 2 2h14c1.1 0 2-.9 2-2V5c0-1.1-.9-2-2-2zM9 17H7v-7h2v7zm4 0h-2V7h2v10zm4 0h-2v-4h2v4z\"/>\n",
              "    </g>\n",
              "</svg>\n",
              "  </button>\n",
              "\n",
              "<style>\n",
              "  .colab-df-quickchart {\n",
              "      --bg-color: #E8F0FE;\n",
              "      --fill-color: #1967D2;\n",
              "      --hover-bg-color: #E2EBFA;\n",
              "      --hover-fill-color: #174EA6;\n",
              "      --disabled-fill-color: #AAA;\n",
              "      --disabled-bg-color: #DDD;\n",
              "  }\n",
              "\n",
              "  [theme=dark] .colab-df-quickchart {\n",
              "      --bg-color: #3B4455;\n",
              "      --fill-color: #D2E3FC;\n",
              "      --hover-bg-color: #434B5C;\n",
              "      --hover-fill-color: #FFFFFF;\n",
              "      --disabled-bg-color: #3B4455;\n",
              "      --disabled-fill-color: #666;\n",
              "  }\n",
              "\n",
              "  .colab-df-quickchart {\n",
              "    background-color: var(--bg-color);\n",
              "    border: none;\n",
              "    border-radius: 50%;\n",
              "    cursor: pointer;\n",
              "    display: none;\n",
              "    fill: var(--fill-color);\n",
              "    height: 32px;\n",
              "    padding: 0;\n",
              "    width: 32px;\n",
              "  }\n",
              "\n",
              "  .colab-df-quickchart:hover {\n",
              "    background-color: var(--hover-bg-color);\n",
              "    box-shadow: 0 1px 2px rgba(60, 64, 67, 0.3), 0 1px 3px 1px rgba(60, 64, 67, 0.15);\n",
              "    fill: var(--button-hover-fill-color);\n",
              "  }\n",
              "\n",
              "  .colab-df-quickchart-complete:disabled,\n",
              "  .colab-df-quickchart-complete:disabled:hover {\n",
              "    background-color: var(--disabled-bg-color);\n",
              "    fill: var(--disabled-fill-color);\n",
              "    box-shadow: none;\n",
              "  }\n",
              "\n",
              "  .colab-df-spinner {\n",
              "    border: 2px solid var(--fill-color);\n",
              "    border-color: transparent;\n",
              "    border-bottom-color: var(--fill-color);\n",
              "    animation:\n",
              "      spin 1s steps(1) infinite;\n",
              "  }\n",
              "\n",
              "  @keyframes spin {\n",
              "    0% {\n",
              "      border-color: transparent;\n",
              "      border-bottom-color: var(--fill-color);\n",
              "      border-left-color: var(--fill-color);\n",
              "    }\n",
              "    20% {\n",
              "      border-color: transparent;\n",
              "      border-left-color: var(--fill-color);\n",
              "      border-top-color: var(--fill-color);\n",
              "    }\n",
              "    30% {\n",
              "      border-color: transparent;\n",
              "      border-left-color: var(--fill-color);\n",
              "      border-top-color: var(--fill-color);\n",
              "      border-right-color: var(--fill-color);\n",
              "    }\n",
              "    40% {\n",
              "      border-color: transparent;\n",
              "      border-right-color: var(--fill-color);\n",
              "      border-top-color: var(--fill-color);\n",
              "    }\n",
              "    60% {\n",
              "      border-color: transparent;\n",
              "      border-right-color: var(--fill-color);\n",
              "    }\n",
              "    80% {\n",
              "      border-color: transparent;\n",
              "      border-right-color: var(--fill-color);\n",
              "      border-bottom-color: var(--fill-color);\n",
              "    }\n",
              "    90% {\n",
              "      border-color: transparent;\n",
              "      border-bottom-color: var(--fill-color);\n",
              "    }\n",
              "  }\n",
              "</style>\n",
              "\n",
              "  <script>\n",
              "    async function quickchart(key) {\n",
              "      const quickchartButtonEl =\n",
              "        document.querySelector('#' + key + ' button');\n",
              "      quickchartButtonEl.disabled = true;  // To prevent multiple clicks.\n",
              "      quickchartButtonEl.classList.add('colab-df-spinner');\n",
              "      try {\n",
              "        const charts = await google.colab.kernel.invokeFunction(\n",
              "            'suggestCharts', [key], {});\n",
              "      } catch (error) {\n",
              "        console.error('Error during call to suggestCharts:', error);\n",
              "      }\n",
              "      quickchartButtonEl.classList.remove('colab-df-spinner');\n",
              "      quickchartButtonEl.classList.add('colab-df-quickchart-complete');\n",
              "    }\n",
              "    (() => {\n",
              "      let quickchartButtonEl =\n",
              "        document.querySelector('#df-5951e032-61d3-4e27-9ed5-ff6b9b23349d button');\n",
              "      quickchartButtonEl.style.display =\n",
              "        google.colab.kernel.accessAllowed ? 'block' : 'none';\n",
              "    })();\n",
              "  </script>\n",
              "</div>\n",
              "\n",
              "    </div>\n",
              "  </div>\n"
            ],
            "application/vnd.google.colaboratory.intrinsic+json": {
              "type": "dataframe",
              "summary": "{\n  \"name\": \"dat\",\n  \"rows\": 9,\n  \"fields\": [\n    {\n      \"column\": \"count\",\n      \"properties\": {\n        \"dtype\": \"number\",\n        \"std\": 0.0,\n        \"min\": 1030.0,\n        \"max\": 1030.0,\n        \"num_unique_values\": 1,\n        \"samples\": [\n          1030.0\n        ],\n        \"semantic_type\": \"\",\n        \"description\": \"\"\n      }\n    },\n    {\n      \"column\": \"mean\",\n      \"properties\": {\n        \"dtype\": \"number\",\n        \"std\": 356.2685733252147,\n        \"min\": 6.203111650485437,\n        \"max\": 972.9185922330097,\n        \"num_unique_values\": 9,\n        \"samples\": [\n          45.662135922330094\n        ],\n        \"semantic_type\": \"\",\n        \"description\": \"\"\n      }\n    },\n    {\n      \"column\": \"std\",\n      \"properties\": {\n        \"dtype\": \"number\",\n        \"std\": 34.75194447063997,\n        \"min\": 5.973491650590153,\n        \"max\": 104.50714164287166,\n        \"num_unique_values\": 9,\n        \"samples\": [\n          63.169911581033155\n        ],\n        \"semantic_type\": \"\",\n        \"description\": \"\"\n      }\n    },\n    {\n      \"column\": \"min\",\n      \"properties\": {\n        \"dtype\": \"number\",\n        \"std\": 301.5212611618688,\n        \"min\": 0.0,\n        \"max\": 801.0,\n        \"num_unique_values\": 7,\n        \"samples\": [\n          102.0\n        ],\n        \"semantic_type\": \"\",\n        \"description\": \"\"\n      }\n    },\n    {\n      \"column\": \"25%\",\n      \"properties\": {\n        \"dtype\": \"number\",\n        \"std\": 353.61594796039634,\n        \"min\": 0.0,\n        \"max\": 932.0,\n        \"num_unique_values\": 7,\n        \"samples\": [\n          192.375\n        ],\n        \"semantic_type\": \"\",\n        \"description\": \"\"\n      }\n    },\n    {\n      \"column\": \"50%\",\n      \"properties\": {\n        \"dtype\": \"number\",\n        \"std\": 365.7210860043496,\n        \"min\": 0.0,\n        \"max\": 968.0,\n        \"num_unique_values\": 9,\n        \"samples\": [\n          28.0\n        ],\n        \"semantic_type\": \"\",\n        \"description\": \"\"\n      }\n    },\n    {\n      \"column\": \"75%\",\n      \"properties\": {\n        \"dtype\": \"number\",\n        \"std\": 368.4286139877417,\n        \"min\": 10.16,\n        \"max\": 1029.4,\n        \"num_unique_values\": 9,\n        \"samples\": [\n          56.0\n        ],\n        \"semantic_type\": \"\",\n        \"description\": \"\"\n      }\n    },\n    {\n      \"column\": \"max\",\n      \"properties\": {\n        \"dtype\": \"number\",\n        \"std\": 389.4464974141721,\n        \"min\": 32.2,\n        \"max\": 1145.0,\n        \"num_unique_values\": 9,\n        \"samples\": [\n          365.0\n        ],\n        \"semantic_type\": \"\",\n        \"description\": \"\"\n      }\n    }\n  ]\n}"
            }
          },
          "metadata": {},
          "execution_count": 7
        }
      ],
      "source": [
        "dat.describe().T"
      ]
    },
    {
      "cell_type": "code",
      "execution_count": 8,
      "metadata": {
        "colab": {
          "base_uri": "https://localhost:8080/",
          "height": 351
        },
        "id": "Pb7DuyiMljpT",
        "outputId": "edbd086f-f7ad-4b1a-a2e7-7ed59c481b0d"
      },
      "outputs": [
        {
          "output_type": "execute_result",
          "data": {
            "text/plain": [
              "                      Cimento  Yuksek_Firin_Curufu  Ucucu_Kul        Su  \\\n",
              "Cimento              1.000000            -0.275193  -0.397475 -0.081544   \n",
              "Yuksek_Firin_Curufu -0.275193             1.000000  -0.323569  0.107286   \n",
              "Ucucu_Kul           -0.397475            -0.323569   1.000000 -0.257044   \n",
              "Su                  -0.081544             0.107286  -0.257044  1.000000   \n",
              "Akiskanlastirici     0.092771             0.043376   0.377340 -0.657464   \n",
              "İri_Agregan         -0.109356            -0.283998  -0.009977 -0.182312   \n",
              "İnce_Agregan        -0.222720            -0.281593   0.079076 -0.450635   \n",
              "Yas                  0.081947            -0.044246  -0.154370  0.277604   \n",
              "Basinc_Dayanimi      0.497833             0.134824  -0.105753 -0.289613   \n",
              "\n",
              "                     Akiskanlastirici  İri_Agregan  İnce_Agregan        Yas  \\\n",
              "Cimento                      0.092771    -0.109356      -0.222720  0.081947   \n",
              "Yuksek_Firin_Curufu          0.043376    -0.283998      -0.281593 -0.044246   \n",
              "Ucucu_Kul                    0.377340    -0.009977       0.079076 -0.154370   \n",
              "Su                          -0.657464    -0.182312      -0.450635  0.277604   \n",
              "Akiskanlastirici             1.000000    -0.266303       0.222501 -0.192717   \n",
              "İri_Agregan                 -0.266303     1.000000      -0.178506 -0.003016   \n",
              "İnce_Agregan                 0.222501    -0.178506       1.000000 -0.156094   \n",
              "Yas                         -0.192717    -0.003016      -0.156094  1.000000   \n",
              "Basinc_Dayanimi              0.366102    -0.164928      -0.167249  0.328877   \n",
              "\n",
              "                     Basinc_Dayanimi  \n",
              "Cimento                     0.497833  \n",
              "Yuksek_Firin_Curufu         0.134824  \n",
              "Ucucu_Kul                  -0.105753  \n",
              "Su                         -0.289613  \n",
              "Akiskanlastirici            0.366102  \n",
              "İri_Agregan                -0.164928  \n",
              "İnce_Agregan               -0.167249  \n",
              "Yas                         0.328877  \n",
              "Basinc_Dayanimi             1.000000  "
            ],
            "text/html": [
              "\n",
              "  <div id=\"df-2344fb3c-5aba-4642-8838-7e6dd08f8f39\" class=\"colab-df-container\">\n",
              "    <div>\n",
              "<style scoped>\n",
              "    .dataframe tbody tr th:only-of-type {\n",
              "        vertical-align: middle;\n",
              "    }\n",
              "\n",
              "    .dataframe tbody tr th {\n",
              "        vertical-align: top;\n",
              "    }\n",
              "\n",
              "    .dataframe thead th {\n",
              "        text-align: right;\n",
              "    }\n",
              "</style>\n",
              "<table border=\"1\" class=\"dataframe\">\n",
              "  <thead>\n",
              "    <tr style=\"text-align: right;\">\n",
              "      <th></th>\n",
              "      <th>Cimento</th>\n",
              "      <th>Yuksek_Firin_Curufu</th>\n",
              "      <th>Ucucu_Kul</th>\n",
              "      <th>Su</th>\n",
              "      <th>Akiskanlastirici</th>\n",
              "      <th>İri_Agregan</th>\n",
              "      <th>İnce_Agregan</th>\n",
              "      <th>Yas</th>\n",
              "      <th>Basinc_Dayanimi</th>\n",
              "    </tr>\n",
              "  </thead>\n",
              "  <tbody>\n",
              "    <tr>\n",
              "      <th>Cimento</th>\n",
              "      <td>1.000000</td>\n",
              "      <td>-0.275193</td>\n",
              "      <td>-0.397475</td>\n",
              "      <td>-0.081544</td>\n",
              "      <td>0.092771</td>\n",
              "      <td>-0.109356</td>\n",
              "      <td>-0.222720</td>\n",
              "      <td>0.081947</td>\n",
              "      <td>0.497833</td>\n",
              "    </tr>\n",
              "    <tr>\n",
              "      <th>Yuksek_Firin_Curufu</th>\n",
              "      <td>-0.275193</td>\n",
              "      <td>1.000000</td>\n",
              "      <td>-0.323569</td>\n",
              "      <td>0.107286</td>\n",
              "      <td>0.043376</td>\n",
              "      <td>-0.283998</td>\n",
              "      <td>-0.281593</td>\n",
              "      <td>-0.044246</td>\n",
              "      <td>0.134824</td>\n",
              "    </tr>\n",
              "    <tr>\n",
              "      <th>Ucucu_Kul</th>\n",
              "      <td>-0.397475</td>\n",
              "      <td>-0.323569</td>\n",
              "      <td>1.000000</td>\n",
              "      <td>-0.257044</td>\n",
              "      <td>0.377340</td>\n",
              "      <td>-0.009977</td>\n",
              "      <td>0.079076</td>\n",
              "      <td>-0.154370</td>\n",
              "      <td>-0.105753</td>\n",
              "    </tr>\n",
              "    <tr>\n",
              "      <th>Su</th>\n",
              "      <td>-0.081544</td>\n",
              "      <td>0.107286</td>\n",
              "      <td>-0.257044</td>\n",
              "      <td>1.000000</td>\n",
              "      <td>-0.657464</td>\n",
              "      <td>-0.182312</td>\n",
              "      <td>-0.450635</td>\n",
              "      <td>0.277604</td>\n",
              "      <td>-0.289613</td>\n",
              "    </tr>\n",
              "    <tr>\n",
              "      <th>Akiskanlastirici</th>\n",
              "      <td>0.092771</td>\n",
              "      <td>0.043376</td>\n",
              "      <td>0.377340</td>\n",
              "      <td>-0.657464</td>\n",
              "      <td>1.000000</td>\n",
              "      <td>-0.266303</td>\n",
              "      <td>0.222501</td>\n",
              "      <td>-0.192717</td>\n",
              "      <td>0.366102</td>\n",
              "    </tr>\n",
              "    <tr>\n",
              "      <th>İri_Agregan</th>\n",
              "      <td>-0.109356</td>\n",
              "      <td>-0.283998</td>\n",
              "      <td>-0.009977</td>\n",
              "      <td>-0.182312</td>\n",
              "      <td>-0.266303</td>\n",
              "      <td>1.000000</td>\n",
              "      <td>-0.178506</td>\n",
              "      <td>-0.003016</td>\n",
              "      <td>-0.164928</td>\n",
              "    </tr>\n",
              "    <tr>\n",
              "      <th>İnce_Agregan</th>\n",
              "      <td>-0.222720</td>\n",
              "      <td>-0.281593</td>\n",
              "      <td>0.079076</td>\n",
              "      <td>-0.450635</td>\n",
              "      <td>0.222501</td>\n",
              "      <td>-0.178506</td>\n",
              "      <td>1.000000</td>\n",
              "      <td>-0.156094</td>\n",
              "      <td>-0.167249</td>\n",
              "    </tr>\n",
              "    <tr>\n",
              "      <th>Yas</th>\n",
              "      <td>0.081947</td>\n",
              "      <td>-0.044246</td>\n",
              "      <td>-0.154370</td>\n",
              "      <td>0.277604</td>\n",
              "      <td>-0.192717</td>\n",
              "      <td>-0.003016</td>\n",
              "      <td>-0.156094</td>\n",
              "      <td>1.000000</td>\n",
              "      <td>0.328877</td>\n",
              "    </tr>\n",
              "    <tr>\n",
              "      <th>Basinc_Dayanimi</th>\n",
              "      <td>0.497833</td>\n",
              "      <td>0.134824</td>\n",
              "      <td>-0.105753</td>\n",
              "      <td>-0.289613</td>\n",
              "      <td>0.366102</td>\n",
              "      <td>-0.164928</td>\n",
              "      <td>-0.167249</td>\n",
              "      <td>0.328877</td>\n",
              "      <td>1.000000</td>\n",
              "    </tr>\n",
              "  </tbody>\n",
              "</table>\n",
              "</div>\n",
              "    <div class=\"colab-df-buttons\">\n",
              "\n",
              "  <div class=\"colab-df-container\">\n",
              "    <button class=\"colab-df-convert\" onclick=\"convertToInteractive('df-2344fb3c-5aba-4642-8838-7e6dd08f8f39')\"\n",
              "            title=\"Convert this dataframe to an interactive table.\"\n",
              "            style=\"display:none;\">\n",
              "\n",
              "  <svg xmlns=\"http://www.w3.org/2000/svg\" height=\"24px\" viewBox=\"0 -960 960 960\">\n",
              "    <path d=\"M120-120v-720h720v720H120Zm60-500h600v-160H180v160Zm220 220h160v-160H400v160Zm0 220h160v-160H400v160ZM180-400h160v-160H180v160Zm440 0h160v-160H620v160ZM180-180h160v-160H180v160Zm440 0h160v-160H620v160Z\"/>\n",
              "  </svg>\n",
              "    </button>\n",
              "\n",
              "  <style>\n",
              "    .colab-df-container {\n",
              "      display:flex;\n",
              "      gap: 12px;\n",
              "    }\n",
              "\n",
              "    .colab-df-convert {\n",
              "      background-color: #E8F0FE;\n",
              "      border: none;\n",
              "      border-radius: 50%;\n",
              "      cursor: pointer;\n",
              "      display: none;\n",
              "      fill: #1967D2;\n",
              "      height: 32px;\n",
              "      padding: 0 0 0 0;\n",
              "      width: 32px;\n",
              "    }\n",
              "\n",
              "    .colab-df-convert:hover {\n",
              "      background-color: #E2EBFA;\n",
              "      box-shadow: 0px 1px 2px rgba(60, 64, 67, 0.3), 0px 1px 3px 1px rgba(60, 64, 67, 0.15);\n",
              "      fill: #174EA6;\n",
              "    }\n",
              "\n",
              "    .colab-df-buttons div {\n",
              "      margin-bottom: 4px;\n",
              "    }\n",
              "\n",
              "    [theme=dark] .colab-df-convert {\n",
              "      background-color: #3B4455;\n",
              "      fill: #D2E3FC;\n",
              "    }\n",
              "\n",
              "    [theme=dark] .colab-df-convert:hover {\n",
              "      background-color: #434B5C;\n",
              "      box-shadow: 0px 1px 3px 1px rgba(0, 0, 0, 0.15);\n",
              "      filter: drop-shadow(0px 1px 2px rgba(0, 0, 0, 0.3));\n",
              "      fill: #FFFFFF;\n",
              "    }\n",
              "  </style>\n",
              "\n",
              "    <script>\n",
              "      const buttonEl =\n",
              "        document.querySelector('#df-2344fb3c-5aba-4642-8838-7e6dd08f8f39 button.colab-df-convert');\n",
              "      buttonEl.style.display =\n",
              "        google.colab.kernel.accessAllowed ? 'block' : 'none';\n",
              "\n",
              "      async function convertToInteractive(key) {\n",
              "        const element = document.querySelector('#df-2344fb3c-5aba-4642-8838-7e6dd08f8f39');\n",
              "        const dataTable =\n",
              "          await google.colab.kernel.invokeFunction('convertToInteractive',\n",
              "                                                    [key], {});\n",
              "        if (!dataTable) return;\n",
              "\n",
              "        const docLinkHtml = 'Like what you see? Visit the ' +\n",
              "          '<a target=\"_blank\" href=https://colab.research.google.com/notebooks/data_table.ipynb>data table notebook</a>'\n",
              "          + ' to learn more about interactive tables.';\n",
              "        element.innerHTML = '';\n",
              "        dataTable['output_type'] = 'display_data';\n",
              "        await google.colab.output.renderOutput(dataTable, element);\n",
              "        const docLink = document.createElement('div');\n",
              "        docLink.innerHTML = docLinkHtml;\n",
              "        element.appendChild(docLink);\n",
              "      }\n",
              "    </script>\n",
              "  </div>\n",
              "\n",
              "\n",
              "<div id=\"df-27248a67-d60c-4d6a-ae25-4ffd8c00db47\">\n",
              "  <button class=\"colab-df-quickchart\" onclick=\"quickchart('df-27248a67-d60c-4d6a-ae25-4ffd8c00db47')\"\n",
              "            title=\"Suggest charts\"\n",
              "            style=\"display:none;\">\n",
              "\n",
              "<svg xmlns=\"http://www.w3.org/2000/svg\" height=\"24px\"viewBox=\"0 0 24 24\"\n",
              "     width=\"24px\">\n",
              "    <g>\n",
              "        <path d=\"M19 3H5c-1.1 0-2 .9-2 2v14c0 1.1.9 2 2 2h14c1.1 0 2-.9 2-2V5c0-1.1-.9-2-2-2zM9 17H7v-7h2v7zm4 0h-2V7h2v10zm4 0h-2v-4h2v4z\"/>\n",
              "    </g>\n",
              "</svg>\n",
              "  </button>\n",
              "\n",
              "<style>\n",
              "  .colab-df-quickchart {\n",
              "      --bg-color: #E8F0FE;\n",
              "      --fill-color: #1967D2;\n",
              "      --hover-bg-color: #E2EBFA;\n",
              "      --hover-fill-color: #174EA6;\n",
              "      --disabled-fill-color: #AAA;\n",
              "      --disabled-bg-color: #DDD;\n",
              "  }\n",
              "\n",
              "  [theme=dark] .colab-df-quickchart {\n",
              "      --bg-color: #3B4455;\n",
              "      --fill-color: #D2E3FC;\n",
              "      --hover-bg-color: #434B5C;\n",
              "      --hover-fill-color: #FFFFFF;\n",
              "      --disabled-bg-color: #3B4455;\n",
              "      --disabled-fill-color: #666;\n",
              "  }\n",
              "\n",
              "  .colab-df-quickchart {\n",
              "    background-color: var(--bg-color);\n",
              "    border: none;\n",
              "    border-radius: 50%;\n",
              "    cursor: pointer;\n",
              "    display: none;\n",
              "    fill: var(--fill-color);\n",
              "    height: 32px;\n",
              "    padding: 0;\n",
              "    width: 32px;\n",
              "  }\n",
              "\n",
              "  .colab-df-quickchart:hover {\n",
              "    background-color: var(--hover-bg-color);\n",
              "    box-shadow: 0 1px 2px rgba(60, 64, 67, 0.3), 0 1px 3px 1px rgba(60, 64, 67, 0.15);\n",
              "    fill: var(--button-hover-fill-color);\n",
              "  }\n",
              "\n",
              "  .colab-df-quickchart-complete:disabled,\n",
              "  .colab-df-quickchart-complete:disabled:hover {\n",
              "    background-color: var(--disabled-bg-color);\n",
              "    fill: var(--disabled-fill-color);\n",
              "    box-shadow: none;\n",
              "  }\n",
              "\n",
              "  .colab-df-spinner {\n",
              "    border: 2px solid var(--fill-color);\n",
              "    border-color: transparent;\n",
              "    border-bottom-color: var(--fill-color);\n",
              "    animation:\n",
              "      spin 1s steps(1) infinite;\n",
              "  }\n",
              "\n",
              "  @keyframes spin {\n",
              "    0% {\n",
              "      border-color: transparent;\n",
              "      border-bottom-color: var(--fill-color);\n",
              "      border-left-color: var(--fill-color);\n",
              "    }\n",
              "    20% {\n",
              "      border-color: transparent;\n",
              "      border-left-color: var(--fill-color);\n",
              "      border-top-color: var(--fill-color);\n",
              "    }\n",
              "    30% {\n",
              "      border-color: transparent;\n",
              "      border-left-color: var(--fill-color);\n",
              "      border-top-color: var(--fill-color);\n",
              "      border-right-color: var(--fill-color);\n",
              "    }\n",
              "    40% {\n",
              "      border-color: transparent;\n",
              "      border-right-color: var(--fill-color);\n",
              "      border-top-color: var(--fill-color);\n",
              "    }\n",
              "    60% {\n",
              "      border-color: transparent;\n",
              "      border-right-color: var(--fill-color);\n",
              "    }\n",
              "    80% {\n",
              "      border-color: transparent;\n",
              "      border-right-color: var(--fill-color);\n",
              "      border-bottom-color: var(--fill-color);\n",
              "    }\n",
              "    90% {\n",
              "      border-color: transparent;\n",
              "      border-bottom-color: var(--fill-color);\n",
              "    }\n",
              "  }\n",
              "</style>\n",
              "\n",
              "  <script>\n",
              "    async function quickchart(key) {\n",
              "      const quickchartButtonEl =\n",
              "        document.querySelector('#' + key + ' button');\n",
              "      quickchartButtonEl.disabled = true;  // To prevent multiple clicks.\n",
              "      quickchartButtonEl.classList.add('colab-df-spinner');\n",
              "      try {\n",
              "        const charts = await google.colab.kernel.invokeFunction(\n",
              "            'suggestCharts', [key], {});\n",
              "      } catch (error) {\n",
              "        console.error('Error during call to suggestCharts:', error);\n",
              "      }\n",
              "      quickchartButtonEl.classList.remove('colab-df-spinner');\n",
              "      quickchartButtonEl.classList.add('colab-df-quickchart-complete');\n",
              "    }\n",
              "    (() => {\n",
              "      let quickchartButtonEl =\n",
              "        document.querySelector('#df-27248a67-d60c-4d6a-ae25-4ffd8c00db47 button');\n",
              "      quickchartButtonEl.style.display =\n",
              "        google.colab.kernel.accessAllowed ? 'block' : 'none';\n",
              "    })();\n",
              "  </script>\n",
              "</div>\n",
              "\n",
              "    </div>\n",
              "  </div>\n"
            ],
            "application/vnd.google.colaboratory.intrinsic+json": {
              "type": "dataframe",
              "summary": "{\n  \"name\": \"dat\",\n  \"rows\": 9,\n  \"fields\": [\n    {\n      \"column\": \"Cimento\",\n      \"properties\": {\n        \"dtype\": \"number\",\n        \"std\": 0.4368782030878597,\n        \"min\": -0.3974754395621214,\n        \"max\": 1.0,\n        \"num_unique_values\": 9,\n        \"samples\": [\n          0.08194726384370798,\n          -0.27519344339469337,\n          -0.10935603936014719\n        ],\n        \"semantic_type\": \"\",\n        \"description\": \"\"\n      }\n    },\n    {\n      \"column\": \"Yuksek_Firin_Curufu\",\n      \"properties\": {\n        \"dtype\": \"number\",\n        \"std\": 0.414313983474308,\n        \"min\": -0.32356946824892,\n        \"max\": 1.0,\n        \"num_unique_values\": 9,\n        \"samples\": [\n          -0.044245800532207086,\n          1.0,\n          -0.28399823041671474\n        ],\n        \"semantic_type\": \"\",\n        \"description\": \"\"\n      }\n    },\n    {\n      \"column\": \"Ucucu_Kul\",\n      \"properties\": {\n        \"dtype\": \"number\",\n        \"std\": 0.434121183103927,\n        \"min\": -0.3974754395621214,\n        \"max\": 1.0,\n        \"num_unique_values\": 9,\n        \"samples\": [\n          -0.15437016471642628,\n          -0.32356946824892,\n          -0.009976787860816511\n        ],\n        \"semantic_type\": \"\",\n        \"description\": \"\"\n      }\n    },\n    {\n      \"column\": \"Su\",\n      \"properties\": {\n        \"dtype\": \"number\",\n        \"std\": 0.48503728622887965,\n        \"min\": -0.65746443675148,\n        \"max\": 1.0,\n        \"num_unique_values\": 9,\n        \"samples\": [\n          0.27760442934523716,\n          0.10728594305402202,\n          -0.18231166840932136\n        ],\n        \"semantic_type\": \"\",\n        \"description\": \"\"\n      }\n    },\n    {\n      \"column\": \"Akiskanlastirici\",\n      \"properties\": {\n        \"dtype\": \"number\",\n        \"std\": 0.4702116015356633,\n        \"min\": -0.65746443675148,\n        \"max\": 1.0,\n        \"num_unique_values\": 9,\n        \"samples\": [\n          -0.1927165176358352,\n          0.04337573608658627,\n          -0.26630275524248953\n        ],\n        \"semantic_type\": \"\",\n        \"description\": \"\"\n      }\n    },\n    {\n      \"column\": \"\\u0130ri_Agregan\",\n      \"properties\": {\n        \"dtype\": \"number\",\n        \"std\": 0.3955327391898957,\n        \"min\": -0.28399823041671474,\n        \"max\": 1.0,\n        \"num_unique_values\": 9,\n        \"samples\": [\n          -0.003015507363305309,\n          -0.28399823041671474,\n          1.0\n        ],\n        \"semantic_type\": \"\",\n        \"description\": \"\"\n      }\n    },\n    {\n      \"column\": \"\\u0130nce_Agregan \",\n      \"properties\": {\n        \"dtype\": \"number\",\n        \"std\": 0.4285521808837439,\n        \"min\": -0.4506349763929071,\n        \"max\": 1.0,\n        \"num_unique_values\": 9,\n        \"samples\": [\n          -0.15609404945514643,\n          -0.281593262546014,\n          -0.1785057546607854\n        ],\n        \"semantic_type\": \"\",\n        \"description\": \"\"\n      }\n    },\n    {\n      \"column\": \"Yas\",\n      \"properties\": {\n        \"dtype\": \"number\",\n        \"std\": 0.37672124677836083,\n        \"min\": -0.1927165176358352,\n        \"max\": 1.0,\n        \"num_unique_values\": 9,\n        \"samples\": [\n          1.0,\n          -0.044245800532207086,\n          -0.003015507363305309\n        ],\n        \"semantic_type\": \"\",\n        \"description\": \"\"\n      }\n    },\n    {\n      \"column\": \"Basinc_Dayanimi\",\n      \"properties\": {\n        \"dtype\": \"number\",\n        \"std\": 0.4144215383989957,\n        \"min\": -0.2896134756904166,\n        \"max\": 1.0,\n        \"num_unique_values\": 9,\n        \"samples\": [\n          0.32887697551028533,\n          0.13482444514334285,\n          -0.16492782105733567\n        ],\n        \"semantic_type\": \"\",\n        \"description\": \"\"\n      }\n    }\n  ]\n}"
            }
          },
          "metadata": {},
          "execution_count": 8
        }
      ],
      "source": [
        "dat.corr()"
      ]
    },
    {
      "cell_type": "code",
      "source": [
        "\n",
        "dat.columns"
      ],
      "metadata": {
        "colab": {
          "base_uri": "https://localhost:8080/"
        },
        "id": "Bkmh-W6lo9Z7",
        "outputId": "a7e0f258-9e7c-4fad-b1df-6ecbf2595ad2"
      },
      "execution_count": 9,
      "outputs": [
        {
          "output_type": "execute_result",
          "data": {
            "text/plain": [
              "Index(['Cimento', 'Yuksek_Firin_Curufu', 'Ucucu_Kul', 'Su', 'Akiskanlastirici',\n",
              "       'İri_Agregan', 'İnce_Agregan ', 'Yas', 'Basinc_Dayanimi'],\n",
              "      dtype='object')"
            ]
          },
          "metadata": {},
          "execution_count": 9
        }
      ]
    },
    {
      "cell_type": "code",
      "execution_count": 10,
      "metadata": {
        "colab": {
          "base_uri": "https://localhost:8080/"
        },
        "id": "zghva9Btgfeo",
        "outputId": "73fce075-6884-427a-b4e8-5bbf8078f0a0"
      },
      "outputs": [
        {
          "output_type": "execute_result",
          "data": {
            "text/plain": [
              "np.False_"
            ]
          },
          "metadata": {},
          "execution_count": 10
        }
      ],
      "source": [
        "dat.isnull().values.any()"
      ]
    },
    {
      "cell_type": "markdown",
      "source": [
        "# **BASIT DOGRUSAL REGRESYON**"
      ],
      "metadata": {
        "id": "K_GDiTBFyZ96"
      }
    },
    {
      "cell_type": "code",
      "source": [
        "y = dat[[\"Basinc_Dayanimi\"]]\n",
        "x = dat[[\"Su\"]]"
      ],
      "metadata": {
        "id": "0sH-PP2pxi8_"
      },
      "execution_count": 11,
      "outputs": []
    },
    {
      "cell_type": "code",
      "source": [
        "import statsmodels.api as sm\n",
        "import statsmodels.formula.api as smf"
      ],
      "metadata": {
        "id": "E2Q_vYO1z8gZ"
      },
      "execution_count": 12,
      "outputs": []
    },
    {
      "cell_type": "code",
      "source": [
        "x = sm.add_constant(x)\n",
        "model = sm.OLS(y, x)\n",
        "mod = model.fit()\n",
        "mod = sm.OLS(y, x).fit()\n",
        "mod.summary()"
      ],
      "metadata": {
        "colab": {
          "base_uri": "https://localhost:8080/",
          "height": 478
        },
        "id": "m367kn9w0P2v",
        "outputId": "1910f311-9f1c-40ab-d50c-107c13f6afee"
      },
      "execution_count": 13,
      "outputs": [
        {
          "output_type": "execute_result",
          "data": {
            "text/plain": [
              "<class 'statsmodels.iolib.summary.Summary'>\n",
              "\"\"\"\n",
              "                            OLS Regression Results                            \n",
              "==============================================================================\n",
              "Dep. Variable:        Basinc_Dayanimi   R-squared:                       0.084\n",
              "Model:                            OLS   Adj. R-squared:                  0.083\n",
              "Method:                 Least Squares   F-statistic:                     94.12\n",
              "Date:                Wed, 02 Apr 2025   Prob (F-statistic):           2.37e-21\n",
              "Time:                        15:04:15   Log-Likelihood:                -4316.1\n",
              "No. Observations:                1030   AIC:                             8636.\n",
              "Df Residuals:                    1028   BIC:                             8646.\n",
              "Df Model:                           1                                         \n",
              "Covariance Type:            nonrobust                                         \n",
              "==============================================================================\n",
              "                 coef    std err          t      P>|t|      [0.025      0.975]\n",
              "------------------------------------------------------------------------------\n",
              "const         76.9524      4.269     18.025      0.000      68.575      85.330\n",
              "Su            -0.2266      0.023     -9.701      0.000      -0.272      -0.181\n",
              "==============================================================================\n",
              "Omnibus:                       33.418   Durbin-Watson:                   0.970\n",
              "Prob(Omnibus):                  0.000   Jarque-Bera (JB):               24.860\n",
              "Skew:                           0.281   Prob(JB):                     4.00e-06\n",
              "Kurtosis:                       2.488   Cond. No.                     1.57e+03\n",
              "==============================================================================\n",
              "\n",
              "Notes:\n",
              "[1] Standard Errors assume that the covariance matrix of the errors is correctly specified.\n",
              "[2] The condition number is large, 1.57e+03. This might indicate that there are\n",
              "strong multicollinearity or other numerical problems.\n",
              "\"\"\""
            ],
            "text/html": [
              "<table class=\"simpletable\">\n",
              "<caption>OLS Regression Results</caption>\n",
              "<tr>\n",
              "  <th>Dep. Variable:</th>     <td>Basinc_Dayanimi</td> <th>  R-squared:         </th> <td>   0.084</td>\n",
              "</tr>\n",
              "<tr>\n",
              "  <th>Model:</th>                   <td>OLS</td>       <th>  Adj. R-squared:    </th> <td>   0.083</td>\n",
              "</tr>\n",
              "<tr>\n",
              "  <th>Method:</th>             <td>Least Squares</td>  <th>  F-statistic:       </th> <td>   94.12</td>\n",
              "</tr>\n",
              "<tr>\n",
              "  <th>Date:</th>             <td>Wed, 02 Apr 2025</td> <th>  Prob (F-statistic):</th> <td>2.37e-21</td>\n",
              "</tr>\n",
              "<tr>\n",
              "  <th>Time:</th>                 <td>15:04:15</td>     <th>  Log-Likelihood:    </th> <td> -4316.1</td>\n",
              "</tr>\n",
              "<tr>\n",
              "  <th>No. Observations:</th>      <td>  1030</td>      <th>  AIC:               </th> <td>   8636.</td>\n",
              "</tr>\n",
              "<tr>\n",
              "  <th>Df Residuals:</th>          <td>  1028</td>      <th>  BIC:               </th> <td>   8646.</td>\n",
              "</tr>\n",
              "<tr>\n",
              "  <th>Df Model:</th>              <td>     1</td>      <th>                     </th>     <td> </td>   \n",
              "</tr>\n",
              "<tr>\n",
              "  <th>Covariance Type:</th>      <td>nonrobust</td>    <th>                     </th>     <td> </td>   \n",
              "</tr>\n",
              "</table>\n",
              "<table class=\"simpletable\">\n",
              "<tr>\n",
              "    <td></td>       <th>coef</th>     <th>std err</th>      <th>t</th>      <th>P>|t|</th>  <th>[0.025</th>    <th>0.975]</th>  \n",
              "</tr>\n",
              "<tr>\n",
              "  <th>const</th> <td>   76.9524</td> <td>    4.269</td> <td>   18.025</td> <td> 0.000</td> <td>   68.575</td> <td>   85.330</td>\n",
              "</tr>\n",
              "<tr>\n",
              "  <th>Su</th>    <td>   -0.2266</td> <td>    0.023</td> <td>   -9.701</td> <td> 0.000</td> <td>   -0.272</td> <td>   -0.181</td>\n",
              "</tr>\n",
              "</table>\n",
              "<table class=\"simpletable\">\n",
              "<tr>\n",
              "  <th>Omnibus:</th>       <td>33.418</td> <th>  Durbin-Watson:     </th> <td>   0.970</td>\n",
              "</tr>\n",
              "<tr>\n",
              "  <th>Prob(Omnibus):</th> <td> 0.000</td> <th>  Jarque-Bera (JB):  </th> <td>  24.860</td>\n",
              "</tr>\n",
              "<tr>\n",
              "  <th>Skew:</th>          <td> 0.281</td> <th>  Prob(JB):          </th> <td>4.00e-06</td>\n",
              "</tr>\n",
              "<tr>\n",
              "  <th>Kurtosis:</th>      <td> 2.488</td> <th>  Cond. No.          </th> <td>1.57e+03</td>\n",
              "</tr>\n",
              "</table><br/><br/>Notes:<br/>[1] Standard Errors assume that the covariance matrix of the errors is correctly specified.<br/>[2] The condition number is large, 1.57e+03. This might indicate that there are<br/>strong multicollinearity or other numerical problems."
            ],
            "text/latex": "\\begin{center}\n\\begin{tabular}{lclc}\n\\toprule\n\\textbf{Dep. Variable:}    & Basinc\\_Dayanimi & \\textbf{  R-squared:         } &     0.084   \\\\\n\\textbf{Model:}            &       OLS        & \\textbf{  Adj. R-squared:    } &     0.083   \\\\\n\\textbf{Method:}           &  Least Squares   & \\textbf{  F-statistic:       } &     94.12   \\\\\n\\textbf{Date:}             & Wed, 02 Apr 2025 & \\textbf{  Prob (F-statistic):} &  2.37e-21   \\\\\n\\textbf{Time:}             &     15:04:15     & \\textbf{  Log-Likelihood:    } &   -4316.1   \\\\\n\\textbf{No. Observations:} &        1030      & \\textbf{  AIC:               } &     8636.   \\\\\n\\textbf{Df Residuals:}     &        1028      & \\textbf{  BIC:               } &     8646.   \\\\\n\\textbf{Df Model:}         &           1      & \\textbf{                     } &             \\\\\n\\textbf{Covariance Type:}  &    nonrobust     & \\textbf{                     } &             \\\\\n\\bottomrule\n\\end{tabular}\n\\begin{tabular}{lcccccc}\n               & \\textbf{coef} & \\textbf{std err} & \\textbf{t} & \\textbf{P$> |$t$|$} & \\textbf{[0.025} & \\textbf{0.975]}  \\\\\n\\midrule\n\\textbf{const} &      76.9524  &        4.269     &    18.025  &         0.000        &       68.575    &       85.330     \\\\\n\\textbf{Su}    &      -0.2266  &        0.023     &    -9.701  &         0.000        &       -0.272    &       -0.181     \\\\\n\\bottomrule\n\\end{tabular}\n\\begin{tabular}{lclc}\n\\textbf{Omnibus:}       & 33.418 & \\textbf{  Durbin-Watson:     } &    0.970  \\\\\n\\textbf{Prob(Omnibus):} &  0.000 & \\textbf{  Jarque-Bera (JB):  } &   24.860  \\\\\n\\textbf{Skew:}          &  0.281 & \\textbf{  Prob(JB):          } & 4.00e-06  \\\\\n\\textbf{Kurtosis:}      &  2.488 & \\textbf{  Cond. No.          } & 1.57e+03  \\\\\n\\bottomrule\n\\end{tabular}\n%\\caption{OLS Regression Results}\n\\end{center}\n\nNotes: \\newline\n [1] Standard Errors assume that the covariance matrix of the errors is correctly specified. \\newline\n [2] The condition number is large, 1.57e+03. This might indicate that there are \\newline\n strong multicollinearity or other numerical problems."
          },
          "metadata": {},
          "execution_count": 13
        }
      ]
    },
    {
      "cell_type": "code",
      "source": [
        "mod = smf.ols(\"Basinc_Dayanimi~Su\", data = dat).fit()\n",
        "mod.summary()\n"
      ],
      "metadata": {
        "colab": {
          "base_uri": "https://localhost:8080/",
          "height": 478
        },
        "id": "Ro1wWKxv0eCB",
        "outputId": "50588d96-04c0-4968-e2e4-13e43fca430c"
      },
      "execution_count": 14,
      "outputs": [
        {
          "output_type": "execute_result",
          "data": {
            "text/plain": [
              "<class 'statsmodels.iolib.summary.Summary'>\n",
              "\"\"\"\n",
              "                            OLS Regression Results                            \n",
              "==============================================================================\n",
              "Dep. Variable:        Basinc_Dayanimi   R-squared:                       0.084\n",
              "Model:                            OLS   Adj. R-squared:                  0.083\n",
              "Method:                 Least Squares   F-statistic:                     94.12\n",
              "Date:                Wed, 02 Apr 2025   Prob (F-statistic):           2.37e-21\n",
              "Time:                        15:04:15   Log-Likelihood:                -4316.1\n",
              "No. Observations:                1030   AIC:                             8636.\n",
              "Df Residuals:                    1028   BIC:                             8646.\n",
              "Df Model:                           1                                         \n",
              "Covariance Type:            nonrobust                                         \n",
              "==============================================================================\n",
              "                 coef    std err          t      P>|t|      [0.025      0.975]\n",
              "------------------------------------------------------------------------------\n",
              "Intercept     76.9524      4.269     18.025      0.000      68.575      85.330\n",
              "Su            -0.2266      0.023     -9.701      0.000      -0.272      -0.181\n",
              "==============================================================================\n",
              "Omnibus:                       33.418   Durbin-Watson:                   0.970\n",
              "Prob(Omnibus):                  0.000   Jarque-Bera (JB):               24.860\n",
              "Skew:                           0.281   Prob(JB):                     4.00e-06\n",
              "Kurtosis:                       2.488   Cond. No.                     1.57e+03\n",
              "==============================================================================\n",
              "\n",
              "Notes:\n",
              "[1] Standard Errors assume that the covariance matrix of the errors is correctly specified.\n",
              "[2] The condition number is large, 1.57e+03. This might indicate that there are\n",
              "strong multicollinearity or other numerical problems.\n",
              "\"\"\""
            ],
            "text/html": [
              "<table class=\"simpletable\">\n",
              "<caption>OLS Regression Results</caption>\n",
              "<tr>\n",
              "  <th>Dep. Variable:</th>     <td>Basinc_Dayanimi</td> <th>  R-squared:         </th> <td>   0.084</td>\n",
              "</tr>\n",
              "<tr>\n",
              "  <th>Model:</th>                   <td>OLS</td>       <th>  Adj. R-squared:    </th> <td>   0.083</td>\n",
              "</tr>\n",
              "<tr>\n",
              "  <th>Method:</th>             <td>Least Squares</td>  <th>  F-statistic:       </th> <td>   94.12</td>\n",
              "</tr>\n",
              "<tr>\n",
              "  <th>Date:</th>             <td>Wed, 02 Apr 2025</td> <th>  Prob (F-statistic):</th> <td>2.37e-21</td>\n",
              "</tr>\n",
              "<tr>\n",
              "  <th>Time:</th>                 <td>15:04:15</td>     <th>  Log-Likelihood:    </th> <td> -4316.1</td>\n",
              "</tr>\n",
              "<tr>\n",
              "  <th>No. Observations:</th>      <td>  1030</td>      <th>  AIC:               </th> <td>   8636.</td>\n",
              "</tr>\n",
              "<tr>\n",
              "  <th>Df Residuals:</th>          <td>  1028</td>      <th>  BIC:               </th> <td>   8646.</td>\n",
              "</tr>\n",
              "<tr>\n",
              "  <th>Df Model:</th>              <td>     1</td>      <th>                     </th>     <td> </td>   \n",
              "</tr>\n",
              "<tr>\n",
              "  <th>Covariance Type:</th>      <td>nonrobust</td>    <th>                     </th>     <td> </td>   \n",
              "</tr>\n",
              "</table>\n",
              "<table class=\"simpletable\">\n",
              "<tr>\n",
              "      <td></td>         <th>coef</th>     <th>std err</th>      <th>t</th>      <th>P>|t|</th>  <th>[0.025</th>    <th>0.975]</th>  \n",
              "</tr>\n",
              "<tr>\n",
              "  <th>Intercept</th> <td>   76.9524</td> <td>    4.269</td> <td>   18.025</td> <td> 0.000</td> <td>   68.575</td> <td>   85.330</td>\n",
              "</tr>\n",
              "<tr>\n",
              "  <th>Su</th>        <td>   -0.2266</td> <td>    0.023</td> <td>   -9.701</td> <td> 0.000</td> <td>   -0.272</td> <td>   -0.181</td>\n",
              "</tr>\n",
              "</table>\n",
              "<table class=\"simpletable\">\n",
              "<tr>\n",
              "  <th>Omnibus:</th>       <td>33.418</td> <th>  Durbin-Watson:     </th> <td>   0.970</td>\n",
              "</tr>\n",
              "<tr>\n",
              "  <th>Prob(Omnibus):</th> <td> 0.000</td> <th>  Jarque-Bera (JB):  </th> <td>  24.860</td>\n",
              "</tr>\n",
              "<tr>\n",
              "  <th>Skew:</th>          <td> 0.281</td> <th>  Prob(JB):          </th> <td>4.00e-06</td>\n",
              "</tr>\n",
              "<tr>\n",
              "  <th>Kurtosis:</th>      <td> 2.488</td> <th>  Cond. No.          </th> <td>1.57e+03</td>\n",
              "</tr>\n",
              "</table><br/><br/>Notes:<br/>[1] Standard Errors assume that the covariance matrix of the errors is correctly specified.<br/>[2] The condition number is large, 1.57e+03. This might indicate that there are<br/>strong multicollinearity or other numerical problems."
            ],
            "text/latex": "\\begin{center}\n\\begin{tabular}{lclc}\n\\toprule\n\\textbf{Dep. Variable:}    & Basinc\\_Dayanimi & \\textbf{  R-squared:         } &     0.084   \\\\\n\\textbf{Model:}            &       OLS        & \\textbf{  Adj. R-squared:    } &     0.083   \\\\\n\\textbf{Method:}           &  Least Squares   & \\textbf{  F-statistic:       } &     94.12   \\\\\n\\textbf{Date:}             & Wed, 02 Apr 2025 & \\textbf{  Prob (F-statistic):} &  2.37e-21   \\\\\n\\textbf{Time:}             &     15:04:15     & \\textbf{  Log-Likelihood:    } &   -4316.1   \\\\\n\\textbf{No. Observations:} &        1030      & \\textbf{  AIC:               } &     8636.   \\\\\n\\textbf{Df Residuals:}     &        1028      & \\textbf{  BIC:               } &     8646.   \\\\\n\\textbf{Df Model:}         &           1      & \\textbf{                     } &             \\\\\n\\textbf{Covariance Type:}  &    nonrobust     & \\textbf{                     } &             \\\\\n\\bottomrule\n\\end{tabular}\n\\begin{tabular}{lcccccc}\n                   & \\textbf{coef} & \\textbf{std err} & \\textbf{t} & \\textbf{P$> |$t$|$} & \\textbf{[0.025} & \\textbf{0.975]}  \\\\\n\\midrule\n\\textbf{Intercept} &      76.9524  &        4.269     &    18.025  &         0.000        &       68.575    &       85.330     \\\\\n\\textbf{Su}        &      -0.2266  &        0.023     &    -9.701  &         0.000        &       -0.272    &       -0.181     \\\\\n\\bottomrule\n\\end{tabular}\n\\begin{tabular}{lclc}\n\\textbf{Omnibus:}       & 33.418 & \\textbf{  Durbin-Watson:     } &    0.970  \\\\\n\\textbf{Prob(Omnibus):} &  0.000 & \\textbf{  Jarque-Bera (JB):  } &   24.860  \\\\\n\\textbf{Skew:}          &  0.281 & \\textbf{  Prob(JB):          } & 4.00e-06  \\\\\n\\textbf{Kurtosis:}      &  2.488 & \\textbf{  Cond. No.          } & 1.57e+03  \\\\\n\\bottomrule\n\\end{tabular}\n%\\caption{OLS Regression Results}\n\\end{center}\n\nNotes: \\newline\n [1] Standard Errors assume that the covariance matrix of the errors is correctly specified. \\newline\n [2] The condition number is large, 1.57e+03. This might indicate that there are \\newline\n strong multicollinearity or other numerical problems."
          },
          "metadata": {},
          "execution_count": 14
        }
      ]
    },
    {
      "cell_type": "code",
      "source": [
        "from sklearn.linear_model import LinearRegression\n",
        "model = LinearRegression().fit(x,y)\n",
        "model.coef_"
      ],
      "metadata": {
        "colab": {
          "base_uri": "https://localhost:8080/"
        },
        "id": "LowBaeI0pFRb",
        "outputId": "3fd40de6-2b85-4fe2-fc36-ae17e767457f"
      },
      "execution_count": 15,
      "outputs": [
        {
          "output_type": "execute_result",
          "data": {
            "text/plain": [
              "array([[ 0.        , -0.22655403]])"
            ]
          },
          "metadata": {},
          "execution_count": 15
        }
      ]
    },
    {
      "cell_type": "code",
      "source": [
        "model.score(x, y)"
      ],
      "metadata": {
        "colab": {
          "base_uri": "https://localhost:8080/"
        },
        "id": "RC7rXOvB0xjY",
        "outputId": "4af8fc5f-cba7-40f6-d2bb-ba688bca2610"
      },
      "execution_count": 16,
      "outputs": [
        {
          "output_type": "execute_result",
          "data": {
            "text/plain": [
              "0.08387596530148289"
            ]
          },
          "metadata": {},
          "execution_count": 16
        }
      ]
    },
    {
      "cell_type": "code",
      "source": [
        "model.predict(x)"
      ],
      "metadata": {
        "colab": {
          "base_uri": "https://localhost:8080/"
        },
        "id": "hkFQcyab0xgn",
        "outputId": "2c1195ca-3829-4241-e156-9cb34532c42f"
      },
      "execution_count": 17,
      "outputs": [
        {
          "output_type": "execute_result",
          "data": {
            "text/plain": [
              "array([[40.25067339],\n",
              "       [40.25067339],\n",
              "       [25.29810732],\n",
              "       ...,\n",
              "       [33.29546463],\n",
              "       [37.16953856],\n",
              "       [31.50568778]])"
            ]
          },
          "metadata": {},
          "execution_count": 17
        }
      ]
    },
    {
      "cell_type": "code",
      "source": [
        "from sklearn.metrics import mean_squared_error, r2_score\n",
        "mean_squared_error(y, model.predict(x))"
      ],
      "metadata": {
        "colab": {
          "base_uri": "https://localhost:8080/"
        },
        "id": "HLzBjIIG0xWt",
        "outputId": "91c94fc6-c0fd-43a2-bea5-0cc40c10ff67"
      },
      "execution_count": 18,
      "outputs": [
        {
          "output_type": "execute_result",
          "data": {
            "text/plain": [
              "255.4234111704966"
            ]
          },
          "metadata": {},
          "execution_count": 18
        }
      ]
    },
    {
      "cell_type": "code",
      "source": [
        "mean_squared_error(y, model.predict(x))\n",
        "r2_score(y, model.predict(x))"
      ],
      "metadata": {
        "colab": {
          "base_uri": "https://localhost:8080/"
        },
        "id": "WyH155NU07X1",
        "outputId": "bddb6d2c-c375-4513-d752-3240e333fc38"
      },
      "execution_count": 19,
      "outputs": [
        {
          "output_type": "execute_result",
          "data": {
            "text/plain": [
              "0.08387596530148289"
            ]
          },
          "metadata": {},
          "execution_count": 19
        }
      ]
    },
    {
      "cell_type": "markdown",
      "source": [
        "# **COKLU DOGRUSAL REGRESYON**"
      ],
      "metadata": {
        "id": "XOdq-28e1BJu"
      }
    },
    {
      "cell_type": "code",
      "source": [
        "y = dat[\"Basinc_Dayanimi\"]\n",
        "x = dat.drop(\"Basinc_Dayanimi\", axis = 1)"
      ],
      "metadata": {
        "id": "3PYmppKz07RJ"
      },
      "execution_count": 20,
      "outputs": []
    },
    {
      "cell_type": "code",
      "source": [
        "from sklearn.model_selection import train_test_split\n",
        "x_egitim, x_test, y_egitim, y_test = train_test_split(x, y, test_size=151, random_state=101)"
      ],
      "metadata": {
        "id": "e6tjaBu71btr"
      },
      "execution_count": 21,
      "outputs": []
    },
    {
      "cell_type": "code",
      "source": [
        "model = sm.OLS(y_egitim, x_egitim).fit()\n",
        "model.summary()"
      ],
      "metadata": {
        "colab": {
          "base_uri": "https://localhost:8080/",
          "height": 587
        },
        "id": "bmXaXY-Y1gs7",
        "outputId": "d3450147-9d7a-4b92-8652-4abc1a222603"
      },
      "execution_count": 22,
      "outputs": [
        {
          "output_type": "execute_result",
          "data": {
            "text/plain": [
              "<class 'statsmodels.iolib.summary.Summary'>\n",
              "\"\"\"\n",
              "                                 OLS Regression Results                                \n",
              "=======================================================================================\n",
              "Dep. Variable:        Basinc_Dayanimi   R-squared (uncentered):                   0.932\n",
              "Model:                            OLS   Adj. R-squared (uncentered):              0.932\n",
              "Method:                 Least Squares   F-statistic:                              1503.\n",
              "Date:                Wed, 02 Apr 2025   Prob (F-statistic):                        0.00\n",
              "Time:                        15:04:15   Log-Likelihood:                         -3291.7\n",
              "No. Observations:                 879   AIC:                                      6599.\n",
              "Df Residuals:                     871   BIC:                                      6638.\n",
              "Df Model:                           8                                                  \n",
              "Covariance Type:            nonrobust                                                  \n",
              "=======================================================================================\n",
              "                          coef    std err          t      P>|t|      [0.025      0.975]\n",
              "---------------------------------------------------------------------------------------\n",
              "Cimento                 0.1128      0.005     24.929      0.000       0.104       0.122\n",
              "Yuksek_Firin_Curufu     0.0948      0.006     16.969      0.000       0.084       0.106\n",
              "Ucucu_Kul               0.0810      0.008      9.604      0.000       0.064       0.098\n",
              "Su                     -0.1733      0.017     -9.966      0.000      -0.207      -0.139\n",
              "Akiskanlastirici        0.2658      0.094      2.832      0.005       0.082       0.450\n",
              "İri_Agregan             0.0094      0.003      2.889      0.004       0.003       0.016\n",
              "İnce_Agregan            0.0103      0.004      2.712      0.007       0.003       0.018\n",
              "Yas                     0.1192      0.006     19.862      0.000       0.107       0.131\n",
              "==============================================================================\n",
              "Omnibus:                        1.352   Durbin-Watson:                   1.947\n",
              "Prob(Omnibus):                  0.509   Jarque-Bera (JB):                1.280\n",
              "Skew:                          -0.092   Prob(JB):                        0.527\n",
              "Kurtosis:                       3.028   Cond. No.                         353.\n",
              "==============================================================================\n",
              "\n",
              "Notes:\n",
              "[1] R² is computed without centering (uncentered) since the model does not contain a constant.\n",
              "[2] Standard Errors assume that the covariance matrix of the errors is correctly specified.\n",
              "\"\"\""
            ],
            "text/html": [
              "<table class=\"simpletable\">\n",
              "<caption>OLS Regression Results</caption>\n",
              "<tr>\n",
              "  <th>Dep. Variable:</th>     <td>Basinc_Dayanimi</td> <th>  R-squared (uncentered):</th>      <td>   0.932</td>\n",
              "</tr>\n",
              "<tr>\n",
              "  <th>Model:</th>                   <td>OLS</td>       <th>  Adj. R-squared (uncentered):</th> <td>   0.932</td>\n",
              "</tr>\n",
              "<tr>\n",
              "  <th>Method:</th>             <td>Least Squares</td>  <th>  F-statistic:       </th>          <td>   1503.</td>\n",
              "</tr>\n",
              "<tr>\n",
              "  <th>Date:</th>             <td>Wed, 02 Apr 2025</td> <th>  Prob (F-statistic):</th>           <td>  0.00</td> \n",
              "</tr>\n",
              "<tr>\n",
              "  <th>Time:</th>                 <td>15:04:15</td>     <th>  Log-Likelihood:    </th>          <td> -3291.7</td>\n",
              "</tr>\n",
              "<tr>\n",
              "  <th>No. Observations:</th>      <td>   879</td>      <th>  AIC:               </th>          <td>   6599.</td>\n",
              "</tr>\n",
              "<tr>\n",
              "  <th>Df Residuals:</th>          <td>   871</td>      <th>  BIC:               </th>          <td>   6638.</td>\n",
              "</tr>\n",
              "<tr>\n",
              "  <th>Df Model:</th>              <td>     8</td>      <th>                     </th>              <td> </td>   \n",
              "</tr>\n",
              "<tr>\n",
              "  <th>Covariance Type:</th>      <td>nonrobust</td>    <th>                     </th>              <td> </td>   \n",
              "</tr>\n",
              "</table>\n",
              "<table class=\"simpletable\">\n",
              "<tr>\n",
              "           <td></td>              <th>coef</th>     <th>std err</th>      <th>t</th>      <th>P>|t|</th>  <th>[0.025</th>    <th>0.975]</th>  \n",
              "</tr>\n",
              "<tr>\n",
              "  <th>Cimento</th>             <td>    0.1128</td> <td>    0.005</td> <td>   24.929</td> <td> 0.000</td> <td>    0.104</td> <td>    0.122</td>\n",
              "</tr>\n",
              "<tr>\n",
              "  <th>Yuksek_Firin_Curufu</th> <td>    0.0948</td> <td>    0.006</td> <td>   16.969</td> <td> 0.000</td> <td>    0.084</td> <td>    0.106</td>\n",
              "</tr>\n",
              "<tr>\n",
              "  <th>Ucucu_Kul</th>           <td>    0.0810</td> <td>    0.008</td> <td>    9.604</td> <td> 0.000</td> <td>    0.064</td> <td>    0.098</td>\n",
              "</tr>\n",
              "<tr>\n",
              "  <th>Su</th>                  <td>   -0.1733</td> <td>    0.017</td> <td>   -9.966</td> <td> 0.000</td> <td>   -0.207</td> <td>   -0.139</td>\n",
              "</tr>\n",
              "<tr>\n",
              "  <th>Akiskanlastirici</th>    <td>    0.2658</td> <td>    0.094</td> <td>    2.832</td> <td> 0.005</td> <td>    0.082</td> <td>    0.450</td>\n",
              "</tr>\n",
              "<tr>\n",
              "  <th>İri_Agregan</th>         <td>    0.0094</td> <td>    0.003</td> <td>    2.889</td> <td> 0.004</td> <td>    0.003</td> <td>    0.016</td>\n",
              "</tr>\n",
              "<tr>\n",
              "  <th>İnce_Agregan </th>       <td>    0.0103</td> <td>    0.004</td> <td>    2.712</td> <td> 0.007</td> <td>    0.003</td> <td>    0.018</td>\n",
              "</tr>\n",
              "<tr>\n",
              "  <th>Yas</th>                 <td>    0.1192</td> <td>    0.006</td> <td>   19.862</td> <td> 0.000</td> <td>    0.107</td> <td>    0.131</td>\n",
              "</tr>\n",
              "</table>\n",
              "<table class=\"simpletable\">\n",
              "<tr>\n",
              "  <th>Omnibus:</th>       <td> 1.352</td> <th>  Durbin-Watson:     </th> <td>   1.947</td>\n",
              "</tr>\n",
              "<tr>\n",
              "  <th>Prob(Omnibus):</th> <td> 0.509</td> <th>  Jarque-Bera (JB):  </th> <td>   1.280</td>\n",
              "</tr>\n",
              "<tr>\n",
              "  <th>Skew:</th>          <td>-0.092</td> <th>  Prob(JB):          </th> <td>   0.527</td>\n",
              "</tr>\n",
              "<tr>\n",
              "  <th>Kurtosis:</th>      <td> 3.028</td> <th>  Cond. No.          </th> <td>    353.</td>\n",
              "</tr>\n",
              "</table><br/><br/>Notes:<br/>[1] R² is computed without centering (uncentered) since the model does not contain a constant.<br/>[2] Standard Errors assume that the covariance matrix of the errors is correctly specified."
            ],
            "text/latex": "\\begin{center}\n\\begin{tabular}{lclc}\n\\toprule\n\\textbf{Dep. Variable:}        & Basinc\\_Dayanimi & \\textbf{  R-squared (uncentered):}      &     0.932   \\\\\n\\textbf{Model:}                &       OLS        & \\textbf{  Adj. R-squared (uncentered):} &     0.932   \\\\\n\\textbf{Method:}               &  Least Squares   & \\textbf{  F-statistic:       }          &     1503.   \\\\\n\\textbf{Date:}                 & Wed, 02 Apr 2025 & \\textbf{  Prob (F-statistic):}          &     0.00    \\\\\n\\textbf{Time:}                 &     15:04:15     & \\textbf{  Log-Likelihood:    }          &   -3291.7   \\\\\n\\textbf{No. Observations:}     &         879      & \\textbf{  AIC:               }          &     6599.   \\\\\n\\textbf{Df Residuals:}         &         871      & \\textbf{  BIC:               }          &     6638.   \\\\\n\\textbf{Df Model:}             &           8      & \\textbf{                     }          &             \\\\\n\\textbf{Covariance Type:}      &    nonrobust     & \\textbf{                     }          &             \\\\\n\\bottomrule\n\\end{tabular}\n\\begin{tabular}{lcccccc}\n                               & \\textbf{coef} & \\textbf{std err} & \\textbf{t} & \\textbf{P$> |$t$|$} & \\textbf{[0.025} & \\textbf{0.975]}  \\\\\n\\midrule\n\\textbf{Cimento}               &       0.1128  &        0.005     &    24.929  &         0.000        &        0.104    &        0.122     \\\\\n\\textbf{Yuksek\\_Firin\\_Curufu} &       0.0948  &        0.006     &    16.969  &         0.000        &        0.084    &        0.106     \\\\\n\\textbf{Ucucu\\_Kul}            &       0.0810  &        0.008     &     9.604  &         0.000        &        0.064    &        0.098     \\\\\n\\textbf{Su}                    &      -0.1733  &        0.017     &    -9.966  &         0.000        &       -0.207    &       -0.139     \\\\\n\\textbf{Akiskanlastirici}      &       0.2658  &        0.094     &     2.832  &         0.005        &        0.082    &        0.450     \\\\\n\\textbf{İri\\_Agregan}          &       0.0094  &        0.003     &     2.889  &         0.004        &        0.003    &        0.016     \\\\\n\\textbf{İnce\\_Agregan }        &       0.0103  &        0.004     &     2.712  &         0.007        &        0.003    &        0.018     \\\\\n\\textbf{Yas}                   &       0.1192  &        0.006     &    19.862  &         0.000        &        0.107    &        0.131     \\\\\n\\bottomrule\n\\end{tabular}\n\\begin{tabular}{lclc}\n\\textbf{Omnibus:}       &  1.352 & \\textbf{  Durbin-Watson:     } &    1.947  \\\\\n\\textbf{Prob(Omnibus):} &  0.509 & \\textbf{  Jarque-Bera (JB):  } &    1.280  \\\\\n\\textbf{Skew:}          & -0.092 & \\textbf{  Prob(JB):          } &    0.527  \\\\\n\\textbf{Kurtosis:}      &  3.028 & \\textbf{  Cond. No.          } &     353.  \\\\\n\\bottomrule\n\\end{tabular}\n%\\caption{OLS Regression Results}\n\\end{center}\n\nNotes: \\newline\n [1] R² is computed without centering (uncentered) since the model does not contain a constant. \\newline\n [2] Standard Errors assume that the covariance matrix of the errors is correctly specified."
          },
          "metadata": {},
          "execution_count": 22
        }
      ]
    },
    {
      "cell_type": "code",
      "source": [
        "fit = model.predict(x)\n",
        "mean_squared_error(y, fit)"
      ],
      "metadata": {
        "colab": {
          "base_uri": "https://localhost:8080/"
        },
        "id": "2nHEwXty1bq9",
        "outputId": "864e350a-de62-493f-e2d4-c7306c2d41be"
      },
      "execution_count": 23,
      "outputs": [
        {
          "output_type": "execute_result",
          "data": {
            "text/plain": [
              "107.508038200126"
            ]
          },
          "metadata": {},
          "execution_count": 23
        }
      ]
    },
    {
      "cell_type": "code",
      "source": [
        "r2_score(y, fit)"
      ],
      "metadata": {
        "colab": {
          "base_uri": "https://localhost:8080/"
        },
        "id": "qu0HfEzX1bot",
        "outputId": "cbeeeebd-31b5-4ef5-b64f-53a3d72a0dce"
      },
      "execution_count": 24,
      "outputs": [
        {
          "output_type": "execute_result",
          "data": {
            "text/plain": [
              "0.614402230135911"
            ]
          },
          "metadata": {},
          "execution_count": 24
        }
      ]
    },
    {
      "cell_type": "code",
      "source": [
        "pred = model.predict(x_test)\n",
        "mean_squared_error(y_test, pred)"
      ],
      "metadata": {
        "colab": {
          "base_uri": "https://localhost:8080/"
        },
        "id": "lrYukmgM1bmQ",
        "outputId": "22093040-2613-45da-bfc6-95b79fb1ce3f"
      },
      "execution_count": 25,
      "outputs": [
        {
          "output_type": "execute_result",
          "data": {
            "text/plain": [
              "123.40037124858337"
            ]
          },
          "metadata": {},
          "execution_count": 25
        }
      ]
    },
    {
      "cell_type": "code",
      "source": [
        "r2_score(y_test, pred)"
      ],
      "metadata": {
        "colab": {
          "base_uri": "https://localhost:8080/"
        },
        "id": "4n-CRxO52G3J",
        "outputId": "82775f7a-1d3d-4391-dc19-2a530bc86ef2"
      },
      "execution_count": 26,
      "outputs": [
        {
          "output_type": "execute_result",
          "data": {
            "text/plain": [
              "0.6084444858105594"
            ]
          },
          "metadata": {},
          "execution_count": 26
        }
      ]
    },
    {
      "cell_type": "code",
      "source": [
        "import seaborn as sb\n",
        "import matplotlib.pyplot as mp\n",
        "from sklearn.preprocessing import scale\n",
        "from sklearn.decomposition import PCA\n",
        "from sklearn import model_selection\n",
        "from sklearn.model_selection import KFold"
      ],
      "metadata": {
        "id": "ecdyiWHxB2z_"
      },
      "execution_count": 30,
      "outputs": []
    },
    {
      "cell_type": "markdown",
      "source": [
        "k-fold cross-validation"
      ],
      "metadata": {
        "id": "iXls8Q2bEe--"
      }
    },
    {
      "cell_type": "code",
      "source": [
        "cv= KFold(n_splits=5,shuffle=True,random_state=50)\n",
        "Y= dat[[\"Basinc_Dayanimi\"]]\n",
        "X= dat.drop(\"Basinc_Dayanimi\",axis=1)\n",
        "x_egitim, x_test, y_egitim, y_test= train_test_split(X,Y,test_size=151,random_state=50)"
      ],
      "metadata": {
        "id": "mvOnrmmcB224"
      },
      "execution_count": 35,
      "outputs": []
    },
    {
      "cell_type": "code",
      "source": [
        "pca= PCA()\n",
        "x_egitim_scaled= pca.fit_transform(scale(x_egitim))\n",
        "from sklearn.linear_model import LinearRegression\n",
        "reg= LinearRegression()\n",
        "mse=[]\n",
        "for i in np.arange(1,10):\n",
        "    score = -1*model_selection.cross_val_score(reg,\n",
        "                                               x_egitim_scaled[:,:i], y_egitim,\n",
        "                                               cv=cv,scoring=\"neg_mean_squared_error\").mean()\n",
        "    mse.append(score)\n",
        "\n",
        "print(mse)"
      ],
      "metadata": {
        "id": "f43A0M9TB24_",
        "outputId": "b13e2dc4-924a-4681-c435-31fa77d23452",
        "colab": {
          "base_uri": "https://localhost:8080/"
        }
      },
      "execution_count": 39,
      "outputs": [
        {
          "output_type": "stream",
          "name": "stdout",
          "text": [
            "[np.float64(282.12638270556187), np.float64(244.77306649695143), np.float64(189.98413524780472), np.float64(188.92976569994843), np.float64(153.09715714944963), np.float64(126.96572087600063), np.float64(117.61848046986215), np.float64(113.98033444141231), np.float64(113.98033444141231)]\n"
          ]
        }
      ]
    },
    {
      "cell_type": "code",
      "source": [
        "mp.plot(mse)\n"
      ],
      "metadata": {
        "id": "7Ma-ifczB26-",
        "outputId": "e5f43036-0032-4fe3-a8a3-5acb8e4e0cc7",
        "colab": {
          "base_uri": "https://localhost:8080/",
          "height": 447
        }
      },
      "execution_count": 40,
      "outputs": [
        {
          "output_type": "execute_result",
          "data": {
            "text/plain": [
              "[<matplotlib.lines.Line2D at 0x7b1ed9244c90>]"
            ]
          },
          "metadata": {},
          "execution_count": 40
        },
        {
          "output_type": "display_data",
          "data": {
            "text/plain": [
              "<Figure size 640x480 with 1 Axes>"
            ],
            "image/png": "[encoded data removed]"
          },
          "metadata": {}
        }
      ]
    },
    {
      "cell_type": "code",
      "source": [
        "model= LinearRegression()\n",
        "pcreg= model.fit(x_egitim_scaled, y_egitim)\n",
        "yhat= pcreg.predict(x_egitim_scaled)\n",
        "pcreg.coef_"
      ],
      "metadata": {
        "id": "0oycehtLB28i",
        "outputId": "9e777c92-18c0-452d-db34-7d8c5f490093",
        "colab": {
          "base_uri": "https://localhost:8080/"
        }
      },
      "execution_count": 49,
      "outputs": [
        {
          "output_type": "execute_result",
          "data": {
            "text/plain": [
              "array([[-0.39069077, -5.17476952,  6.40960179,  1.05825098, -6.16960192,\n",
              "         5.94390818, -7.35167884, 11.1724878 ]])"
            ]
          },
          "metadata": {},
          "execution_count": 49
        }
      ]
    },
    {
      "cell_type": "code",
      "source": [
        "x_test_scaled= pca.fit_transform(scale(x_test))\n",
        "predicted_Y=pcreg.predict(x_test_scaled)\n",
        "from sklearn.metrics import r2_score, mean_squared_error\n",
        "r2_score(y_egitim, yhat)"
      ],
      "metadata": {
        "id": "twwq_iwfB2-F",
        "outputId": "58b10c05-e57b-4333-c7be-dec7defea987",
        "colab": {
          "base_uri": "https://localhost:8080/"
        }
      },
      "execution_count": 51,
      "outputs": [
        {
          "output_type": "execute_result",
          "data": {
            "text/plain": [
              "0.607354288625094"
            ]
          },
          "metadata": {},
          "execution_count": 51
        }
      ]
    },
    {
      "cell_type": "code",
      "source": [
        "r2_score(y_test, predicted_Y)"
      ],
      "metadata": {
        "id": "KUl7SNRyEUP7",
        "outputId": "1b4de839-934f-4cb5-f195-199715057a02",
        "colab": {
          "base_uri": "https://localhost:8080/"
        }
      },
      "execution_count": 54,
      "outputs": [
        {
          "output_type": "execute_result",
          "data": {
            "text/plain": [
              "0.04748439840144392"
            ]
          },
          "metadata": {},
          "execution_count": 54
        }
      ]
    },
    {
      "cell_type": "code",
      "source": [
        "y_test[1:10]"
      ],
      "metadata": {
        "id": "OxTYyyUzETAK",
        "outputId": "173441c7-6329-4f92-de63-56726f852202",
        "colab": {
          "base_uri": "https://localhost:8080/",
          "height": 331
        }
      },
      "execution_count": 55,
      "outputs": [
        {
          "output_type": "execute_result",
          "data": {
            "text/plain": [
              "     Basinc_Dayanimi\n",
              "611        21.263440\n",
              "684        50.732334\n",
              "936        28.629801\n",
              "279        13.120728\n",
              "104        33.398217\n",
              "535        48.846617\n",
              "10         38.074244\n",
              "11         28.021684\n",
              "234        13.182781"
            ],
            "text/html": [
              "\n",
              "  <div id=\"df-3bfeacdb-2b37-45aa-be3c-d76bd6d31682\" class=\"colab-df-container\">\n",
              "    <div>\n",
              "<style scoped>\n",
              "    .dataframe tbody tr th:only-of-type {\n",
              "        vertical-align: middle;\n",
              "    }\n",
              "\n",
              "    .dataframe tbody tr th {\n",
              "        vertical-align: top;\n",
              "    }\n",
              "\n",
              "    .dataframe thead th {\n",
              "        text-align: right;\n",
              "    }\n",
              "</style>\n",
              "<table border=\"1\" class=\"dataframe\">\n",
              "  <thead>\n",
              "    <tr style=\"text-align: right;\">\n",
              "      <th></th>\n",
              "      <th>Basinc_Dayanimi</th>\n",
              "    </tr>\n",
              "  </thead>\n",
              "  <tbody>\n",
              "    <tr>\n",
              "      <th>611</th>\n",
              "      <td>21.263440</td>\n",
              "    </tr>\n",
              "    <tr>\n",
              "      <th>684</th>\n",
              "      <td>50.732334</td>\n",
              "    </tr>\n",
              "    <tr>\n",
              "      <th>936</th>\n",
              "      <td>28.629801</td>\n",
              "    </tr>\n",
              "    <tr>\n",
              "      <th>279</th>\n",
              "      <td>13.120728</td>\n",
              "    </tr>\n",
              "    <tr>\n",
              "      <th>104</th>\n",
              "      <td>33.398217</td>\n",
              "    </tr>\n",
              "    <tr>\n",
              "      <th>535</th>\n",
              "      <td>48.846617</td>\n",
              "    </tr>\n",
              "    <tr>\n",
              "      <th>10</th>\n",
              "      <td>38.074244</td>\n",
              "    </tr>\n",
              "    <tr>\n",
              "      <th>11</th>\n",
              "      <td>28.021684</td>\n",
              "    </tr>\n",
              "    <tr>\n",
              "      <th>234</th>\n",
              "      <td>13.182781</td>\n",
              "    </tr>\n",
              "  </tbody>\n",
              "</table>\n",
              "</div>\n",
              "    <div class=\"colab-df-buttons\">\n",
              "\n",
              "  <div class=\"colab-df-container\">\n",
              "    <button class=\"colab-df-convert\" onclick=\"convertToInteractive('df-3bfeacdb-2b37-45aa-be3c-d76bd6d31682')\"\n",
              "            title=\"Convert this dataframe to an interactive table.\"\n",
              "            style=\"display:none;\">\n",
              "\n",
              "  <svg xmlns=\"http://www.w3.org/2000/svg\" height=\"24px\" viewBox=\"0 -960 960 960\">\n",
              "    <path d=\"M120-120v-720h720v720H120Zm60-500h600v-160H180v160Zm220 220h160v-160H400v160Zm0 220h160v-160H400v160ZM180-400h160v-160H180v160Zm440 0h160v-160H620v160ZM180-180h160v-160H180v160Zm440 0h160v-160H620v160Z\"/>\n",
              "  </svg>\n",
              "    </button>\n",
              "\n",
              "  <style>\n",
              "    .colab-df-container {\n",
              "      display:flex;\n",
              "      gap: 12px;\n",
              "    }\n",
              "\n",
              "    .colab-df-convert {\n",
              "      background-color: #E8F0FE;\n",
              "      border: none;\n",
              "      border-radius: 50%;\n",
              "      cursor: pointer;\n",
              "      display: none;\n",
              "      fill: #1967D2;\n",
              "      height: 32px;\n",
              "      padding: 0 0 0 0;\n",
              "      width: 32px;\n",
              "    }\n",
              "\n",
              "    .colab-df-convert:hover {\n",
              "      background-color: #E2EBFA;\n",
              "      box-shadow: 0px 1px 2px rgba(60, 64, 67, 0.3), 0px 1px 3px 1px rgba(60, 64, 67, 0.15);\n",
              "      fill: #174EA6;\n",
              "    }\n",
              "\n",
              "    .colab-df-buttons div {\n",
              "      margin-bottom: 4px;\n",
              "    }\n",
              "\n",
              "    [theme=dark] .colab-df-convert {\n",
              "      background-color: #3B4455;\n",
              "      fill: #D2E3FC;\n",
              "    }\n",
              "\n",
              "    [theme=dark] .colab-df-convert:hover {\n",
              "      background-color: #434B5C;\n",
              "      box-shadow: 0px 1px 3px 1px rgba(0, 0, 0, 0.15);\n",
              "      filter: drop-shadow(0px 1px 2px rgba(0, 0, 0, 0.3));\n",
              "      fill: #FFFFFF;\n",
              "    }\n",
              "  </style>\n",
              "\n",
              "    <script>\n",
              "      const buttonEl =\n",
              "        document.querySelector('#df-3bfeacdb-2b37-45aa-be3c-d76bd6d31682 button.colab-df-convert');\n",
              "      buttonEl.style.display =\n",
              "        google.colab.kernel.accessAllowed ? 'block' : 'none';\n",
              "\n",
              "      async function convertToInteractive(key) {\n",
              "        const element = document.querySelector('#df-3bfeacdb-2b37-45aa-be3c-d76bd6d31682');\n",
              "        const dataTable =\n",
              "          await google.colab.kernel.invokeFunction('convertToInteractive',\n",
              "                                                    [key], {});\n",
              "        if (!dataTable) return;\n",
              "\n",
              "        const docLinkHtml = 'Like what you see? Visit the ' +\n",
              "          '<a target=\"_blank\" href=https://colab.research.google.com/notebooks/data_table.ipynb>data table notebook</a>'\n",
              "          + ' to learn more about interactive tables.';\n",
              "        element.innerHTML = '';\n",
              "        dataTable['output_type'] = 'display_data';\n",
              "        await google.colab.output.renderOutput(dataTable, element);\n",
              "        const docLink = document.createElement('div');\n",
              "        docLink.innerHTML = docLinkHtml;\n",
              "        element.appendChild(docLink);\n",
              "      }\n",
              "    </script>\n",
              "  </div>\n",
              "\n",
              "\n",
              "<div id=\"df-faa4864b-effb-494e-8588-da0c5b0de03a\">\n",
              "  <button class=\"colab-df-quickchart\" onclick=\"quickchart('df-faa4864b-effb-494e-8588-da0c5b0de03a')\"\n",
              "            title=\"Suggest charts\"\n",
              "            style=\"display:none;\">\n",
              "\n",
              "<svg xmlns=\"http://www.w3.org/2000/svg\" height=\"24px\"viewBox=\"0 0 24 24\"\n",
              "     width=\"24px\">\n",
              "    <g>\n",
              "        <path d=\"M19 3H5c-1.1 0-2 .9-2 2v14c0 1.1.9 2 2 2h14c1.1 0 2-.9 2-2V5c0-1.1-.9-2-2-2zM9 17H7v-7h2v7zm4 0h-2V7h2v10zm4 0h-2v-4h2v4z\"/>\n",
              "    </g>\n",
              "</svg>\n",
              "  </button>\n",
              "\n",
              "<style>\n",
              "  .colab-df-quickchart {\n",
              "      --bg-color: #E8F0FE;\n",
              "      --fill-color: #1967D2;\n",
              "      --hover-bg-color: #E2EBFA;\n",
              "      --hover-fill-color: #174EA6;\n",
              "      --disabled-fill-color: #AAA;\n",
              "      --disabled-bg-color: #DDD;\n",
              "  }\n",
              "\n",
              "  [theme=dark] .colab-df-quickchart {\n",
              "      --bg-color: #3B4455;\n",
              "      --fill-color: #D2E3FC;\n",
              "      --hover-bg-color: #434B5C;\n",
              "      --hover-fill-color: #FFFFFF;\n",
              "      --disabled-bg-color: #3B4455;\n",
              "      --disabled-fill-color: #666;\n",
              "  }\n",
              "\n",
              "  .colab-df-quickchart {\n",
              "    background-color: var(--bg-color);\n",
              "    border: none;\n",
              "    border-radius: 50%;\n",
              "    cursor: pointer;\n",
              "    display: none;\n",
              "    fill: var(--fill-color);\n",
              "    height: 32px;\n",
              "    padding: 0;\n",
              "    width: 32px;\n",
              "  }\n",
              "\n",
              "  .colab-df-quickchart:hover {\n",
              "    background-color: var(--hover-bg-color);\n",
              "    box-shadow: 0 1px 2px rgba(60, 64, 67, 0.3), 0 1px 3px 1px rgba(60, 64, 67, 0.15);\n",
              "    fill: var(--button-hover-fill-color);\n",
              "  }\n",
              "\n",
              "  .colab-df-quickchart-complete:disabled,\n",
              "  .colab-df-quickchart-complete:disabled:hover {\n",
              "    background-color: var(--disabled-bg-color);\n",
              "    fill: var(--disabled-fill-color);\n",
              "    box-shadow: none;\n",
              "  }\n",
              "\n",
              "  .colab-df-spinner {\n",
              "    border: 2px solid var(--fill-color);\n",
              "    border-color: transparent;\n",
              "    border-bottom-color: var(--fill-color);\n",
              "    animation:\n",
              "      spin 1s steps(1) infinite;\n",
              "  }\n",
              "\n",
              "  @keyframes spin {\n",
              "    0% {\n",
              "      border-color: transparent;\n",
              "      border-bottom-color: var(--fill-color);\n",
              "      border-left-color: var(--fill-color);\n",
              "    }\n",
              "    20% {\n",
              "      border-color: transparent;\n",
              "      border-left-color: var(--fill-color);\n",
              "      border-top-color: var(--fill-color);\n",
              "    }\n",
              "    30% {\n",
              "      border-color: transparent;\n",
              "      border-left-color: var(--fill-color);\n",
              "      border-top-color: var(--fill-color);\n",
              "      border-right-color: var(--fill-color);\n",
              "    }\n",
              "    40% {\n",
              "      border-color: transparent;\n",
              "      border-right-color: var(--fill-color);\n",
              "      border-top-color: var(--fill-color);\n",
              "    }\n",
              "    60% {\n",
              "      border-color: transparent;\n",
              "      border-right-color: var(--fill-color);\n",
              "    }\n",
              "    80% {\n",
              "      border-color: transparent;\n",
              "      border-right-color: var(--fill-color);\n",
              "      border-bottom-color: var(--fill-color);\n",
              "    }\n",
              "    90% {\n",
              "      border-color: transparent;\n",
              "      border-bottom-color: var(--fill-color);\n",
              "    }\n",
              "  }\n",
              "</style>\n",
              "\n",
              "  <script>\n",
              "    async function quickchart(key) {\n",
              "      const quickchartButtonEl =\n",
              "        document.querySelector('#' + key + ' button');\n",
              "      quickchartButtonEl.disabled = true;  // To prevent multiple clicks.\n",
              "      quickchartButtonEl.classList.add('colab-df-spinner');\n",
              "      try {\n",
              "        const charts = await google.colab.kernel.invokeFunction(\n",
              "            'suggestCharts', [key], {});\n",
              "      } catch (error) {\n",
              "        console.error('Error during call to suggestCharts:', error);\n",
              "      }\n",
              "      quickchartButtonEl.classList.remove('colab-df-spinner');\n",
              "      quickchartButtonEl.classList.add('colab-df-quickchart-complete');\n",
              "    }\n",
              "    (() => {\n",
              "      let quickchartButtonEl =\n",
              "        document.querySelector('#df-faa4864b-effb-494e-8588-da0c5b0de03a button');\n",
              "      quickchartButtonEl.style.display =\n",
              "        google.colab.kernel.accessAllowed ? 'block' : 'none';\n",
              "    })();\n",
              "  </script>\n",
              "</div>\n",
              "\n",
              "    </div>\n",
              "  </div>\n"
            ],
            "application/vnd.google.colaboratory.intrinsic+json": {
              "type": "dataframe",
              "summary": "{\n  \"name\": \"y_test[1:10]\",\n  \"rows\": 9,\n  \"fields\": [\n    {\n      \"column\": \"Basinc_Dayanimi\",\n      \"properties\": {\n        \"dtype\": \"number\",\n        \"std\": 13.731931488577102,\n        \"min\": 13.12072828,\n        \"max\": 50.732333556,\n        \"num_unique_values\": 9,\n        \"samples\": [\n          28.021683592,\n          50.732333556,\n          48.846616696\n        ],\n        \"semantic_type\": \"\",\n        \"description\": \"\"\n      }\n    }\n  ]\n}"
            }
          },
          "metadata": {},
          "execution_count": 55
        }
      ]
    },
    {
      "cell_type": "code",
      "source": [
        "predicted_Y[1:10]"
      ],
      "metadata": {
        "id": "4ZCJg753ETCU",
        "outputId": "a242e07e-4eca-4b18-d259-7db855a4fa78",
        "colab": {
          "base_uri": "https://localhost:8080/"
        }
      },
      "execution_count": 56,
      "outputs": [
        {
          "output_type": "execute_result",
          "data": {
            "text/plain": [
              "array([[30.89862643],\n",
              "       [30.21913428],\n",
              "       [16.39554643],\n",
              "       [35.0527092 ],\n",
              "       [50.34850385],\n",
              "       [42.0320062 ],\n",
              "       [24.39362883],\n",
              "       [27.40435567],\n",
              "       [33.85699514]])"
            ]
          },
          "metadata": {},
          "execution_count": 56
        }
      ]
    },
    {
      "cell_type": "markdown",
      "source": [
        "Partial Least Squares (PLS)"
      ],
      "metadata": {
        "id": "8EJsqmePEoU4"
      }
    },
    {
      "cell_type": "code",
      "source": [
        "from sklearn.cross_decomposition import PLSRegression\n",
        "pls_model= PLSRegression().fit(x_egitim, y_egitim)\n",
        "pls_model.coef_"
      ],
      "metadata": {
        "id": "-lUxO6HCETEL",
        "outputId": "fa6a81e9-4a4f-41e6-a03f-30e10ac9a745",
        "colab": {
          "base_uri": "https://localhost:8080/"
        }
      },
      "execution_count": 57,
      "outputs": [
        {
          "output_type": "execute_result",
          "data": {
            "text/plain": [
              "array([[ 0.06376871,  0.03300509, -0.0067763 , -0.21025534,  0.73285895,\n",
              "        -0.01379715, -0.04468888,  0.10540647]])"
            ]
          },
          "metadata": {},
          "execution_count": 57
        }
      ]
    },
    {
      "cell_type": "code",
      "source": [
        "yhat_pls= pls_model.predict(x_egitim)\n",
        "mean_squared_error(y_egitim, yhat_pls)"
      ],
      "metadata": {
        "id": "JNdg3cQRETGE",
        "outputId": "53e21660-372c-444d-8fd1-540f3ae2db86",
        "colab": {
          "base_uri": "https://localhost:8080/"
        }
      },
      "execution_count": 59,
      "outputs": [
        {
          "output_type": "execute_result",
          "data": {
            "text/plain": [
              "119.07230518560259"
            ]
          },
          "metadata": {},
          "execution_count": 59
        }
      ]
    },
    {
      "cell_type": "markdown",
      "source": [
        "Hyperparameter tuning"
      ],
      "metadata": {
        "id": "Xck-LadEE37q"
      }
    },
    {
      "cell_type": "code",
      "source": [
        "from sklearn.model_selection import cross_val_predict\n",
        "def optimum_pls(x,y,ncomp):\n",
        "    model= PLSRegression(n_components=ncomp)\n",
        "    cv.step= cross_val_predict(model, x,y,cv=10)\n",
        "    mse= mean_squared_error(y, cv.step)\n",
        "    rsq= r2_score(y, cv.step)\n",
        "    return(cv.step,rsq,mse)"
      ],
      "metadata": {
        "id": "GIkjLQvYETH8"
      },
      "execution_count": 62,
      "outputs": []
    },
    {
      "cell_type": "code",
      "source": [
        "r2=[]\n",
        "mse_sonuc=[]\n",
        "for i in np.arange(1,9):\n",
        "    cv.step,rsq,mse= optimum_pls(x_egitim, y_egitim, i)\n",
        "    r2.append(rsq)\n",
        "    mse_sonuc.append(mse)\n",
        "mse_sonuc"
      ],
      "metadata": {
        "id": "IATzxY8jFANF",
        "outputId": "114cad97-ac7a-4da5-f849-1efcd69a1f82",
        "colab": {
          "base_uri": "https://localhost:8080/"
        }
      },
      "execution_count": 69,
      "outputs": [
        {
          "output_type": "execute_result",
          "data": {
            "text/plain": [
              "[130.98430144523763,\n",
              " 121.24462179466481,\n",
              " 119.25252263459548,\n",
              " 115.94921451979612,\n",
              " 115.0499941407761,\n",
              " 114.87120711179247,\n",
              " 113.00968459426957,\n",
              " 113.04845509867039]"
            ]
          },
          "metadata": {},
          "execution_count": 69
        }
      ]
    },
    {
      "cell_type": "code",
      "source": [
        "r2"
      ],
      "metadata": {
        "id": "MLRwDs6jETJp",
        "outputId": "6a6f97ae-bfe4-40fd-cf53-eef574897388",
        "colab": {
          "base_uri": "https://localhost:8080/"
        }
      },
      "execution_count": 70,
      "outputs": [
        {
          "output_type": "execute_result",
          "data": {
            "text/plain": [
              "[0.5348624360000507,\n",
              " 0.5694489537492893,\n",
              " 0.5765230850790533,\n",
              " 0.5882534426311101,\n",
              " 0.5914466587034296,\n",
              " 0.5920815482452959,\n",
              " 0.5986919896461202,\n",
              " 0.5985543119414405]"
            ]
          },
          "metadata": {},
          "execution_count": 70
        }
      ]
    },
    {
      "cell_type": "code",
      "source": [
        "model3= PLSRegression(n_components=4).fit(x_egitim, y_egitim)\n",
        "ypred3= model3.predict(x_test)"
      ],
      "metadata": {
        "id": "pMxDkI2aSNhX"
      },
      "execution_count": 71,
      "outputs": []
    },
    {
      "cell_type": "code",
      "source": [
        "model14= PLSRegression(n_components=8).fit(x_egitim, y_egitim)\n",
        "ypred14= model14.predict(x_test)\n",
        "mean_squared_error(y_test, ypred3)"
      ],
      "metadata": {
        "id": "gRADZNYoSNly",
        "outputId": "dfdad00b-ec7f-480a-db1b-cbff0df5ccca",
        "colab": {
          "base_uri": "https://localhost:8080/"
        }
      },
      "execution_count": 76,
      "outputs": [
        {
          "output_type": "execute_result",
          "data": {
            "text/plain": [
              "91.772026894556"
            ]
          },
          "metadata": {},
          "execution_count": 76
        }
      ]
    },
    {
      "cell_type": "code",
      "source": [
        "mean_squared_error(y_test, ypred14)"
      ],
      "metadata": {
        "id": "VAyhjreNSNnm",
        "outputId": "ec3bde74-eecd-4a45-ad30-9d596b596895",
        "colab": {
          "base_uri": "https://localhost:8080/"
        }
      },
      "execution_count": 77,
      "outputs": [
        {
          "output_type": "execute_result",
          "data": {
            "text/plain": [
              "88.28798549091287"
            ]
          },
          "metadata": {},
          "execution_count": 77
        }
      ]
    },
    {
      "cell_type": "code",
      "source": [
        "r2_score(y_test, ypred3)"
      ],
      "metadata": {
        "id": "jTLgc9CiSNpm",
        "outputId": "a4fc1b8f-7d37-4429-adaa-d33d629b0762",
        "colab": {
          "base_uri": "https://localhost:8080/"
        }
      },
      "execution_count": 79,
      "outputs": [
        {
          "output_type": "execute_result",
          "data": {
            "text/plain": [
              "0.6382216772570841"
            ]
          },
          "metadata": {},
          "execution_count": 79
        }
      ]
    },
    {
      "cell_type": "code",
      "source": [
        "r2_score(y_test, ypred14)"
      ],
      "metadata": {
        "id": "fTjqt7mcSeRk",
        "outputId": "41bc6cd6-3eee-4a50-be5b-dd3f521f545c",
        "colab": {
          "base_uri": "https://localhost:8080/"
        }
      },
      "execution_count": 81,
      "outputs": [
        {
          "output_type": "execute_result",
          "data": {
            "text/plain": [
              "0.6519562617271984"
            ]
          },
          "metadata": {},
          "execution_count": 81
        }
      ]
    },
    {
      "cell_type": "code",
      "source": [
        "#### DERS-3-"
      ],
      "metadata": {
        "id": "pePTuRxzShzN"
      },
      "execution_count": null,
      "outputs": []
    }
  ],
  "metadata": {
    "colab": {
      "provenance": []
    },
    "kernelspec": {
      "display_name": "base",
      "language": "python",
      "name": "python3"
    },
    "language_info": {
      "codemirror_mode": {
        "name": "ipython",
        "version": 3
      },
      "file_extension": ".py",
      "mimetype": "text/x-python",
      "name": "python",
      "nbconvert_exporter": "python",
      "pygments_lexer": "ipython3",
      "version": "3.12.4"
    }
  },
  "nbformat": 4,
  "nbformat_minor": 0
}