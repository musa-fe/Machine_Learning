{
  "cells": [
    {
      "cell_type": "code",
      "execution_count": 50,
      "metadata": {
        "id": "4LE4ClC2Z3i-"
      },
      "outputs": [],
      "source": [
        "import pandas as pd\n",
        "import numpy as np"
      ]
    },
    {
      "cell_type": "code",
      "execution_count": 51,
      "metadata": {
        "id": "w5pT6E20cPOv"
      },
      "outputs": [],
      "source": [
        "dat = pd.read_excel(\"Concrete_Data.xls\")"
      ]
    },
    {
      "cell_type": "code",
      "execution_count": 52,
      "metadata": {
        "colab": {
          "base_uri": "https://localhost:8080/",
          "height": 206
        },
        "id": "1Ep2QvOWcYsW",
        "outputId": "984548c3-537e-4df6-dadc-09aabac0dd3f"
      },
      "outputs": [
        {
          "output_type": "execute_result",
          "data": {
            "text/plain": [
              "   Cimento  Yuksek_Firin_Curufu  Ucucu_Kul     Su  Akiskanlastirici  \\\n",
              "0    540.0                  0.0        0.0  162.0               2.5   \n",
              "1    540.0                  0.0        0.0  162.0               2.5   \n",
              "2    332.5                142.5        0.0  228.0               0.0   \n",
              "3    332.5                142.5        0.0  228.0               0.0   \n",
              "4    198.6                132.4        0.0  192.0               0.0   \n",
              "\n",
              "   İri_Agregan  İnce_Agregan   Yas  Basinc_Dayanimi  \n",
              "0       1040.0          676.0   28        79.986111  \n",
              "1       1055.0          676.0   28        61.887366  \n",
              "2        932.0          594.0  270        40.269535  \n",
              "3        932.0          594.0  365        41.052780  \n",
              "4        978.4          825.5  360        44.296075  "
            ],
            "text/html": [
              "\n",
              "  <div id=\"df-ed9db0e0-4f8c-4f97-947b-f37a6c507c28\" class=\"colab-df-container\">\n",
              "    <div>\n",
              "<style scoped>\n",
              "    .dataframe tbody tr th:only-of-type {\n",
              "        vertical-align: middle;\n",
              "    }\n",
              "\n",
              "    .dataframe tbody tr th {\n",
              "        vertical-align: top;\n",
              "    }\n",
              "\n",
              "    .dataframe thead th {\n",
              "        text-align: right;\n",
              "    }\n",
              "</style>\n",
              "<table border=\"1\" class=\"dataframe\">\n",
              "  <thead>\n",
              "    <tr style=\"text-align: right;\">\n",
              "      <th></th>\n",
              "      <th>Cimento</th>\n",
              "      <th>Yuksek_Firin_Curufu</th>\n",
              "      <th>Ucucu_Kul</th>\n",
              "      <th>Su</th>\n",
              "      <th>Akiskanlastirici</th>\n",
              "      <th>İri_Agregan</th>\n",
              "      <th>İnce_Agregan</th>\n",
              "      <th>Yas</th>\n",
              "      <th>Basinc_Dayanimi</th>\n",
              "    </tr>\n",
              "  </thead>\n",
              "  <tbody>\n",
              "    <tr>\n",
              "      <th>0</th>\n",
              "      <td>540.0</td>\n",
              "      <td>0.0</td>\n",
              "      <td>0.0</td>\n",
              "      <td>162.0</td>\n",
              "      <td>2.5</td>\n",
              "      <td>1040.0</td>\n",
              "      <td>676.0</td>\n",
              "      <td>28</td>\n",
              "      <td>79.986111</td>\n",
              "    </tr>\n",
              "    <tr>\n",
              "      <th>1</th>\n",
              "      <td>540.0</td>\n",
              "      <td>0.0</td>\n",
              "      <td>0.0</td>\n",
              "      <td>162.0</td>\n",
              "      <td>2.5</td>\n",
              "      <td>1055.0</td>\n",
              "      <td>676.0</td>\n",
              "      <td>28</td>\n",
              "      <td>61.887366</td>\n",
              "    </tr>\n",
              "    <tr>\n",
              "      <th>2</th>\n",
              "      <td>332.5</td>\n",
              "      <td>142.5</td>\n",
              "      <td>0.0</td>\n",
              "      <td>228.0</td>\n",
              "      <td>0.0</td>\n",
              "      <td>932.0</td>\n",
              "      <td>594.0</td>\n",
              "      <td>270</td>\n",
              "      <td>40.269535</td>\n",
              "    </tr>\n",
              "    <tr>\n",
              "      <th>3</th>\n",
              "      <td>332.5</td>\n",
              "      <td>142.5</td>\n",
              "      <td>0.0</td>\n",
              "      <td>228.0</td>\n",
              "      <td>0.0</td>\n",
              "      <td>932.0</td>\n",
              "      <td>594.0</td>\n",
              "      <td>365</td>\n",
              "      <td>41.052780</td>\n",
              "    </tr>\n",
              "    <tr>\n",
              "      <th>4</th>\n",
              "      <td>198.6</td>\n",
              "      <td>132.4</td>\n",
              "      <td>0.0</td>\n",
              "      <td>192.0</td>\n",
              "      <td>0.0</td>\n",
              "      <td>978.4</td>\n",
              "      <td>825.5</td>\n",
              "      <td>360</td>\n",
              "      <td>44.296075</td>\n",
              "    </tr>\n",
              "  </tbody>\n",
              "</table>\n",
              "</div>\n",
              "    <div class=\"colab-df-buttons\">\n",
              "\n",
              "  <div class=\"colab-df-container\">\n",
              "    <button class=\"colab-df-convert\" onclick=\"convertToInteractive('df-ed9db0e0-4f8c-4f97-947b-f37a6c507c28')\"\n",
              "            title=\"Convert this dataframe to an interactive table.\"\n",
              "            style=\"display:none;\">\n",
              "\n",
              "  <svg xmlns=\"http://www.w3.org/2000/svg\" height=\"24px\" viewBox=\"0 -960 960 960\">\n",
              "    <path d=\"M120-120v-720h720v720H120Zm60-500h600v-160H180v160Zm220 220h160v-160H400v160Zm0 220h160v-160H400v160ZM180-400h160v-160H180v160Zm440 0h160v-160H620v160ZM180-180h160v-160H180v160Zm440 0h160v-160H620v160Z\"/>\n",
              "  </svg>\n",
              "    </button>\n",
              "\n",
              "  <style>\n",
              "    .colab-df-container {\n",
              "      display:flex;\n",
              "      gap: 12px;\n",
              "    }\n",
              "\n",
              "    .colab-df-convert {\n",
              "      background-color: #E8F0FE;\n",
              "      border: none;\n",
              "      border-radius: 50%;\n",
              "      cursor: pointer;\n",
              "      display: none;\n",
              "      fill: #1967D2;\n",
              "      height: 32px;\n",
              "      padding: 0 0 0 0;\n",
              "      width: 32px;\n",
              "    }\n",
              "\n",
              "    .colab-df-convert:hover {\n",
              "      background-color: #E2EBFA;\n",
              "      box-shadow: 0px 1px 2px rgba(60, 64, 67, 0.3), 0px 1px 3px 1px rgba(60, 64, 67, 0.15);\n",
              "      fill: #174EA6;\n",
              "    }\n",
              "\n",
              "    .colab-df-buttons div {\n",
              "      margin-bottom: 4px;\n",
              "    }\n",
              "\n",
              "    [theme=dark] .colab-df-convert {\n",
              "      background-color: #3B4455;\n",
              "      fill: #D2E3FC;\n",
              "    }\n",
              "\n",
              "    [theme=dark] .colab-df-convert:hover {\n",
              "      background-color: #434B5C;\n",
              "      box-shadow: 0px 1px 3px 1px rgba(0, 0, 0, 0.15);\n",
              "      filter: drop-shadow(0px 1px 2px rgba(0, 0, 0, 0.3));\n",
              "      fill: #FFFFFF;\n",
              "    }\n",
              "  </style>\n",
              "\n",
              "    <script>\n",
              "      const buttonEl =\n",
              "        document.querySelector('#df-ed9db0e0-4f8c-4f97-947b-f37a6c507c28 button.colab-df-convert');\n",
              "      buttonEl.style.display =\n",
              "        google.colab.kernel.accessAllowed ? 'block' : 'none';\n",
              "\n",
              "      async function convertToInteractive(key) {\n",
              "        const element = document.querySelector('#df-ed9db0e0-4f8c-4f97-947b-f37a6c507c28');\n",
              "        const dataTable =\n",
              "          await google.colab.kernel.invokeFunction('convertToInteractive',\n",
              "                                                    [key], {});\n",
              "        if (!dataTable) return;\n",
              "\n",
              "        const docLinkHtml = 'Like what you see? Visit the ' +\n",
              "          '<a target=\"_blank\" href=https://colab.research.google.com/notebooks/data_table.ipynb>data table notebook</a>'\n",
              "          + ' to learn more about interactive tables.';\n",
              "        element.innerHTML = '';\n",
              "        dataTable['output_type'] = 'display_data';\n",
              "        await google.colab.output.renderOutput(dataTable, element);\n",
              "        const docLink = document.createElement('div');\n",
              "        docLink.innerHTML = docLinkHtml;\n",
              "        element.appendChild(docLink);\n",
              "      }\n",
              "    </script>\n",
              "  </div>\n",
              "\n",
              "\n",
              "<div id=\"df-fdc110c8-a217-4edb-b3ed-4f9b5fbc2a27\">\n",
              "  <button class=\"colab-df-quickchart\" onclick=\"quickchart('df-fdc110c8-a217-4edb-b3ed-4f9b5fbc2a27')\"\n",
              "            title=\"Suggest charts\"\n",
              "            style=\"display:none;\">\n",
              "\n",
              "<svg xmlns=\"http://www.w3.org/2000/svg\" height=\"24px\"viewBox=\"0 0 24 24\"\n",
              "     width=\"24px\">\n",
              "    <g>\n",
              "        <path d=\"M19 3H5c-1.1 0-2 .9-2 2v14c0 1.1.9 2 2 2h14c1.1 0 2-.9 2-2V5c0-1.1-.9-2-2-2zM9 17H7v-7h2v7zm4 0h-2V7h2v10zm4 0h-2v-4h2v4z\"/>\n",
              "    </g>\n",
              "</svg>\n",
              "  </button>\n",
              "\n",
              "<style>\n",
              "  .colab-df-quickchart {\n",
              "      --bg-color: #E8F0FE;\n",
              "      --fill-color: #1967D2;\n",
              "      --hover-bg-color: #E2EBFA;\n",
              "      --hover-fill-color: #174EA6;\n",
              "      --disabled-fill-color: #AAA;\n",
              "      --disabled-bg-color: #DDD;\n",
              "  }\n",
              "\n",
              "  [theme=dark] .colab-df-quickchart {\n",
              "      --bg-color: #3B4455;\n",
              "      --fill-color: #D2E3FC;\n",
              "      --hover-bg-color: #434B5C;\n",
              "      --hover-fill-color: #FFFFFF;\n",
              "      --disabled-bg-color: #3B4455;\n",
              "      --disabled-fill-color: #666;\n",
              "  }\n",
              "\n",
              "  .colab-df-quickchart {\n",
              "    background-color: var(--bg-color);\n",
              "    border: none;\n",
              "    border-radius: 50%;\n",
              "    cursor: pointer;\n",
              "    display: none;\n",
              "    fill: var(--fill-color);\n",
              "    height: 32px;\n",
              "    padding: 0;\n",
              "    width: 32px;\n",
              "  }\n",
              "\n",
              "  .colab-df-quickchart:hover {\n",
              "    background-color: var(--hover-bg-color);\n",
              "    box-shadow: 0 1px 2px rgba(60, 64, 67, 0.3), 0 1px 3px 1px rgba(60, 64, 67, 0.15);\n",
              "    fill: var(--button-hover-fill-color);\n",
              "  }\n",
              "\n",
              "  .colab-df-quickchart-complete:disabled,\n",
              "  .colab-df-quickchart-complete:disabled:hover {\n",
              "    background-color: var(--disabled-bg-color);\n",
              "    fill: var(--disabled-fill-color);\n",
              "    box-shadow: none;\n",
              "  }\n",
              "\n",
              "  .colab-df-spinner {\n",
              "    border: 2px solid var(--fill-color);\n",
              "    border-color: transparent;\n",
              "    border-bottom-color: var(--fill-color);\n",
              "    animation:\n",
              "      spin 1s steps(1) infinite;\n",
              "  }\n",
              "\n",
              "  @keyframes spin {\n",
              "    0% {\n",
              "      border-color: transparent;\n",
              "      border-bottom-color: var(--fill-color);\n",
              "      border-left-color: var(--fill-color);\n",
              "    }\n",
              "    20% {\n",
              "      border-color: transparent;\n",
              "      border-left-color: var(--fill-color);\n",
              "      border-top-color: var(--fill-color);\n",
              "    }\n",
              "    30% {\n",
              "      border-color: transparent;\n",
              "      border-left-color: var(--fill-color);\n",
              "      border-top-color: var(--fill-color);\n",
              "      border-right-color: var(--fill-color);\n",
              "    }\n",
              "    40% {\n",
              "      border-color: transparent;\n",
              "      border-right-color: var(--fill-color);\n",
              "      border-top-color: var(--fill-color);\n",
              "    }\n",
              "    60% {\n",
              "      border-color: transparent;\n",
              "      border-right-color: var(--fill-color);\n",
              "    }\n",
              "    80% {\n",
              "      border-color: transparent;\n",
              "      border-right-color: var(--fill-color);\n",
              "      border-bottom-color: var(--fill-color);\n",
              "    }\n",
              "    90% {\n",
              "      border-color: transparent;\n",
              "      border-bottom-color: var(--fill-color);\n",
              "    }\n",
              "  }\n",
              "</style>\n",
              "\n",
              "  <script>\n",
              "    async function quickchart(key) {\n",
              "      const quickchartButtonEl =\n",
              "        document.querySelector('#' + key + ' button');\n",
              "      quickchartButtonEl.disabled = true;  // To prevent multiple clicks.\n",
              "      quickchartButtonEl.classList.add('colab-df-spinner');\n",
              "      try {\n",
              "        const charts = await google.colab.kernel.invokeFunction(\n",
              "            'suggestCharts', [key], {});\n",
              "      } catch (error) {\n",
              "        console.error('Error during call to suggestCharts:', error);\n",
              "      }\n",
              "      quickchartButtonEl.classList.remove('colab-df-spinner');\n",
              "      quickchartButtonEl.classList.add('colab-df-quickchart-complete');\n",
              "    }\n",
              "    (() => {\n",
              "      let quickchartButtonEl =\n",
              "        document.querySelector('#df-fdc110c8-a217-4edb-b3ed-4f9b5fbc2a27 button');\n",
              "      quickchartButtonEl.style.display =\n",
              "        google.colab.kernel.accessAllowed ? 'block' : 'none';\n",
              "    })();\n",
              "  </script>\n",
              "</div>\n",
              "\n",
              "    </div>\n",
              "  </div>\n"
            ],
            "application/vnd.google.colaboratory.intrinsic+json": {
              "type": "dataframe",
              "variable_name": "dat",
              "summary": "{\n  \"name\": \"dat\",\n  \"rows\": 1030,\n  \"fields\": [\n    {\n      \"column\": \"Cimento\",\n      \"properties\": {\n        \"dtype\": \"number\",\n        \"std\": 104.50714164287166,\n        \"min\": 102.0,\n        \"max\": 540.0,\n        \"num_unique_values\": 280,\n        \"samples\": [\n          194.68,\n          480.0,\n          145.4\n        ],\n        \"semantic_type\": \"\",\n        \"description\": \"\"\n      }\n    },\n    {\n      \"column\": \"Yuksek_Firin_Curufu\",\n      \"properties\": {\n        \"dtype\": \"number\",\n        \"std\": 86.2791036431688,\n        \"min\": 0.0,\n        \"max\": 359.4,\n        \"num_unique_values\": 187,\n        \"samples\": [\n          186.7,\n          212.0,\n          26.0\n        ],\n        \"semantic_type\": \"\",\n        \"description\": \"\"\n      }\n    },\n    {\n      \"column\": \"Ucucu_Kul\",\n      \"properties\": {\n        \"dtype\": \"number\",\n        \"std\": 63.9964693818656,\n        \"min\": 0.0,\n        \"max\": 200.1,\n        \"num_unique_values\": 163,\n        \"samples\": [\n          81.8,\n          137.9,\n          107.5\n        ],\n        \"semantic_type\": \"\",\n        \"description\": \"\"\n      }\n    },\n    {\n      \"column\": \"Su\",\n      \"properties\": {\n        \"dtype\": \"number\",\n        \"std\": 21.35556706691148,\n        \"min\": 121.75,\n        \"max\": 247.0,\n        \"num_unique_values\": 205,\n        \"samples\": [\n          164.9,\n          181.1,\n          185.7\n        ],\n        \"semantic_type\": \"\",\n        \"description\": \"\"\n      }\n    },\n    {\n      \"column\": \"Akiskanlastirici\",\n      \"properties\": {\n        \"dtype\": \"number\",\n        \"std\": 5.973491650590153,\n        \"min\": 0.0,\n        \"max\": 32.2,\n        \"num_unique_values\": 155,\n        \"samples\": [\n          4.14,\n          9.8,\n          6.13\n        ],\n        \"semantic_type\": \"\",\n        \"description\": \"\"\n      }\n    },\n    {\n      \"column\": \"\\u0130ri_Agregan\",\n      \"properties\": {\n        \"dtype\": \"number\",\n        \"std\": 77.75381809178938,\n        \"min\": 801.0,\n        \"max\": 1145.0,\n        \"num_unique_values\": 284,\n        \"samples\": [\n          852.1,\n          913.9,\n          914.0\n        ],\n        \"semantic_type\": \"\",\n        \"description\": \"\"\n      }\n    },\n    {\n      \"column\": \"\\u0130nce_Agregan \",\n      \"properties\": {\n        \"dtype\": \"number\",\n        \"std\": 80.17542739902382,\n        \"min\": 594.0,\n        \"max\": 992.6,\n        \"num_unique_values\": 304,\n        \"samples\": [\n          698.0,\n          613.0,\n          689.3\n        ],\n        \"semantic_type\": \"\",\n        \"description\": \"\"\n      }\n    },\n    {\n      \"column\": \"Yas\",\n      \"properties\": {\n        \"dtype\": \"number\",\n        \"std\": 63,\n        \"min\": 1,\n        \"max\": 365,\n        \"num_unique_values\": 14,\n        \"samples\": [\n          91,\n          100,\n          28\n        ],\n        \"semantic_type\": \"\",\n        \"description\": \"\"\n      }\n    },\n    {\n      \"column\": \"Basinc_Dayanimi\",\n      \"properties\": {\n        \"dtype\": \"number\",\n        \"std\": 16.70567917486794,\n        \"min\": 2.331807832,\n        \"max\": 82.5992248,\n        \"num_unique_values\": 938,\n        \"samples\": [\n          33.398217439999996,\n          56.63355864,\n          25.559564796\n        ],\n        \"semantic_type\": \"\",\n        \"description\": \"\"\n      }\n    }\n  ]\n}"
            }
          },
          "metadata": {},
          "execution_count": 52
        }
      ],
      "source": [
        "dat.head()"
      ]
    },
    {
      "cell_type": "code",
      "execution_count": 53,
      "metadata": {
        "colab": {
          "base_uri": "https://localhost:8080/",
          "height": 331
        },
        "id": "8YMRCNAd14-l",
        "outputId": "81cde5c8-dfb7-4f79-fc6a-f22f4a1756e4"
      },
      "outputs": [
        {
          "output_type": "execute_result",
          "data": {
            "text/plain": [
              "                      count        mean         std         min         25%  \\\n",
              "Cimento              1030.0  281.165631  104.507142  102.000000  192.375000   \n",
              "Yuksek_Firin_Curufu  1030.0   73.895485   86.279104    0.000000    0.000000   \n",
              "Ucucu_Kul            1030.0   54.187136   63.996469    0.000000    0.000000   \n",
              "Su                   1030.0  181.566359   21.355567  121.750000  164.900000   \n",
              "Akiskanlastirici     1030.0    6.203112    5.973492    0.000000    0.000000   \n",
              "İri_Agregan          1030.0  972.918592   77.753818  801.000000  932.000000   \n",
              "İnce_Agregan         1030.0  773.578883   80.175427  594.000000  730.950000   \n",
              "Yas                  1030.0   45.662136   63.169912    1.000000    7.000000   \n",
              "Basinc_Dayanimi      1030.0   35.817836   16.705679    2.331808   23.707115   \n",
              "\n",
              "                            50%          75%          max  \n",
              "Cimento              272.900000   350.000000   540.000000  \n",
              "Yuksek_Firin_Curufu   22.000000   142.950000   359.400000  \n",
              "Ucucu_Kul              0.000000   118.270000   200.100000  \n",
              "Su                   185.000000   192.000000   247.000000  \n",
              "Akiskanlastirici       6.350000    10.160000    32.200000  \n",
              "İri_Agregan          968.000000  1029.400000  1145.000000  \n",
              "İnce_Agregan         779.510000   824.000000   992.600000  \n",
              "Yas                   28.000000    56.000000   365.000000  \n",
              "Basinc_Dayanimi       34.442774    46.136287    82.599225  "
            ],
            "text/html": [
              "\n",
              "  <div id=\"df-d1e6c64b-91ff-451d-9fc4-e6548bbd6597\" class=\"colab-df-container\">\n",
              "    <div>\n",
              "<style scoped>\n",
              "    .dataframe tbody tr th:only-of-type {\n",
              "        vertical-align: middle;\n",
              "    }\n",
              "\n",
              "    .dataframe tbody tr th {\n",
              "        vertical-align: top;\n",
              "    }\n",
              "\n",
              "    .dataframe thead th {\n",
              "        text-align: right;\n",
              "    }\n",
              "</style>\n",
              "<table border=\"1\" class=\"dataframe\">\n",
              "  <thead>\n",
              "    <tr style=\"text-align: right;\">\n",
              "      <th></th>\n",
              "      <th>count</th>\n",
              "      <th>mean</th>\n",
              "      <th>std</th>\n",
              "      <th>min</th>\n",
              "      <th>25%</th>\n",
              "      <th>50%</th>\n",
              "      <th>75%</th>\n",
              "      <th>max</th>\n",
              "    </tr>\n",
              "  </thead>\n",
              "  <tbody>\n",
              "    <tr>\n",
              "      <th>Cimento</th>\n",
              "      <td>1030.0</td>\n",
              "      <td>281.165631</td>\n",
              "      <td>104.507142</td>\n",
              "      <td>102.000000</td>\n",
              "      <td>192.375000</td>\n",
              "      <td>272.900000</td>\n",
              "      <td>350.000000</td>\n",
              "      <td>540.000000</td>\n",
              "    </tr>\n",
              "    <tr>\n",
              "      <th>Yuksek_Firin_Curufu</th>\n",
              "      <td>1030.0</td>\n",
              "      <td>73.895485</td>\n",
              "      <td>86.279104</td>\n",
              "      <td>0.000000</td>\n",
              "      <td>0.000000</td>\n",
              "      <td>22.000000</td>\n",
              "      <td>142.950000</td>\n",
              "      <td>359.400000</td>\n",
              "    </tr>\n",
              "    <tr>\n",
              "      <th>Ucucu_Kul</th>\n",
              "      <td>1030.0</td>\n",
              "      <td>54.187136</td>\n",
              "      <td>63.996469</td>\n",
              "      <td>0.000000</td>\n",
              "      <td>0.000000</td>\n",
              "      <td>0.000000</td>\n",
              "      <td>118.270000</td>\n",
              "      <td>200.100000</td>\n",
              "    </tr>\n",
              "    <tr>\n",
              "      <th>Su</th>\n",
              "      <td>1030.0</td>\n",
              "      <td>181.566359</td>\n",
              "      <td>21.355567</td>\n",
              "      <td>121.750000</td>\n",
              "      <td>164.900000</td>\n",
              "      <td>185.000000</td>\n",
              "      <td>192.000000</td>\n",
              "      <td>247.000000</td>\n",
              "    </tr>\n",
              "    <tr>\n",
              "      <th>Akiskanlastirici</th>\n",
              "      <td>1030.0</td>\n",
              "      <td>6.203112</td>\n",
              "      <td>5.973492</td>\n",
              "      <td>0.000000</td>\n",
              "      <td>0.000000</td>\n",
              "      <td>6.350000</td>\n",
              "      <td>10.160000</td>\n",
              "      <td>32.200000</td>\n",
              "    </tr>\n",
              "    <tr>\n",
              "      <th>İri_Agregan</th>\n",
              "      <td>1030.0</td>\n",
              "      <td>972.918592</td>\n",
              "      <td>77.753818</td>\n",
              "      <td>801.000000</td>\n",
              "      <td>932.000000</td>\n",
              "      <td>968.000000</td>\n",
              "      <td>1029.400000</td>\n",
              "      <td>1145.000000</td>\n",
              "    </tr>\n",
              "    <tr>\n",
              "      <th>İnce_Agregan</th>\n",
              "      <td>1030.0</td>\n",
              "      <td>773.578883</td>\n",
              "      <td>80.175427</td>\n",
              "      <td>594.000000</td>\n",
              "      <td>730.950000</td>\n",
              "      <td>779.510000</td>\n",
              "      <td>824.000000</td>\n",
              "      <td>992.600000</td>\n",
              "    </tr>\n",
              "    <tr>\n",
              "      <th>Yas</th>\n",
              "      <td>1030.0</td>\n",
              "      <td>45.662136</td>\n",
              "      <td>63.169912</td>\n",
              "      <td>1.000000</td>\n",
              "      <td>7.000000</td>\n",
              "      <td>28.000000</td>\n",
              "      <td>56.000000</td>\n",
              "      <td>365.000000</td>\n",
              "    </tr>\n",
              "    <tr>\n",
              "      <th>Basinc_Dayanimi</th>\n",
              "      <td>1030.0</td>\n",
              "      <td>35.817836</td>\n",
              "      <td>16.705679</td>\n",
              "      <td>2.331808</td>\n",
              "      <td>23.707115</td>\n",
              "      <td>34.442774</td>\n",
              "      <td>46.136287</td>\n",
              "      <td>82.599225</td>\n",
              "    </tr>\n",
              "  </tbody>\n",
              "</table>\n",
              "</div>\n",
              "    <div class=\"colab-df-buttons\">\n",
              "\n",
              "  <div class=\"colab-df-container\">\n",
              "    <button class=\"colab-df-convert\" onclick=\"convertToInteractive('df-d1e6c64b-91ff-451d-9fc4-e6548bbd6597')\"\n",
              "            title=\"Convert this dataframe to an interactive table.\"\n",
              "            style=\"display:none;\">\n",
              "\n",
              "  <svg xmlns=\"http://www.w3.org/2000/svg\" height=\"24px\" viewBox=\"0 -960 960 960\">\n",
              "    <path d=\"M120-120v-720h720v720H120Zm60-500h600v-160H180v160Zm220 220h160v-160H400v160Zm0 220h160v-160H400v160ZM180-400h160v-160H180v160Zm440 0h160v-160H620v160ZM180-180h160v-160H180v160Zm440 0h160v-160H620v160Z\"/>\n",
              "  </svg>\n",
              "    </button>\n",
              "\n",
              "  <style>\n",
              "    .colab-df-container {\n",
              "      display:flex;\n",
              "      gap: 12px;\n",
              "    }\n",
              "\n",
              "    .colab-df-convert {\n",
              "      background-color: #E8F0FE;\n",
              "      border: none;\n",
              "      border-radius: 50%;\n",
              "      cursor: pointer;\n",
              "      display: none;\n",
              "      fill: #1967D2;\n",
              "      height: 32px;\n",
              "      padding: 0 0 0 0;\n",
              "      width: 32px;\n",
              "    }\n",
              "\n",
              "    .colab-df-convert:hover {\n",
              "      background-color: #E2EBFA;\n",
              "      box-shadow: 0px 1px 2px rgba(60, 64, 67, 0.3), 0px 1px 3px 1px rgba(60, 64, 67, 0.15);\n",
              "      fill: #174EA6;\n",
              "    }\n",
              "\n",
              "    .colab-df-buttons div {\n",
              "      margin-bottom: 4px;\n",
              "    }\n",
              "\n",
              "    [theme=dark] .colab-df-convert {\n",
              "      background-color: #3B4455;\n",
              "      fill: #D2E3FC;\n",
              "    }\n",
              "\n",
              "    [theme=dark] .colab-df-convert:hover {\n",
              "      background-color: #434B5C;\n",
              "      box-shadow: 0px 1px 3px 1px rgba(0, 0, 0, 0.15);\n",
              "      filter: drop-shadow(0px 1px 2px rgba(0, 0, 0, 0.3));\n",
              "      fill: #FFFFFF;\n",
              "    }\n",
              "  </style>\n",
              "\n",
              "    <script>\n",
              "      const buttonEl =\n",
              "        document.querySelector('#df-d1e6c64b-91ff-451d-9fc4-e6548bbd6597 button.colab-df-convert');\n",
              "      buttonEl.style.display =\n",
              "        google.colab.kernel.accessAllowed ? 'block' : 'none';\n",
              "\n",
              "      async function convertToInteractive(key) {\n",
              "        const element = document.querySelector('#df-d1e6c64b-91ff-451d-9fc4-e6548bbd6597');\n",
              "        const dataTable =\n",
              "          await google.colab.kernel.invokeFunction('convertToInteractive',\n",
              "                                                    [key], {});\n",
              "        if (!dataTable) return;\n",
              "\n",
              "        const docLinkHtml = 'Like what you see? Visit the ' +\n",
              "          '<a target=\"_blank\" href=https://colab.research.google.com/notebooks/data_table.ipynb>data table notebook</a>'\n",
              "          + ' to learn more about interactive tables.';\n",
              "        element.innerHTML = '';\n",
              "        dataTable['output_type'] = 'display_data';\n",
              "        await google.colab.output.renderOutput(dataTable, element);\n",
              "        const docLink = document.createElement('div');\n",
              "        docLink.innerHTML = docLinkHtml;\n",
              "        element.appendChild(docLink);\n",
              "      }\n",
              "    </script>\n",
              "  </div>\n",
              "\n",
              "\n",
              "<div id=\"df-b79cf22a-8533-443c-b189-7c025429947c\">\n",
              "  <button class=\"colab-df-quickchart\" onclick=\"quickchart('df-b79cf22a-8533-443c-b189-7c025429947c')\"\n",
              "            title=\"Suggest charts\"\n",
              "            style=\"display:none;\">\n",
              "\n",
              "<svg xmlns=\"http://www.w3.org/2000/svg\" height=\"24px\"viewBox=\"0 0 24 24\"\n",
              "     width=\"24px\">\n",
              "    <g>\n",
              "        <path d=\"M19 3H5c-1.1 0-2 .9-2 2v14c0 1.1.9 2 2 2h14c1.1 0 2-.9 2-2V5c0-1.1-.9-2-2-2zM9 17H7v-7h2v7zm4 0h-2V7h2v10zm4 0h-2v-4h2v4z\"/>\n",
              "    </g>\n",
              "</svg>\n",
              "  </button>\n",
              "\n",
              "<style>\n",
              "  .colab-df-quickchart {\n",
              "      --bg-color: #E8F0FE;\n",
              "      --fill-color: #1967D2;\n",
              "      --hover-bg-color: #E2EBFA;\n",
              "      --hover-fill-color: #174EA6;\n",
              "      --disabled-fill-color: #AAA;\n",
              "      --disabled-bg-color: #DDD;\n",
              "  }\n",
              "\n",
              "  [theme=dark] .colab-df-quickchart {\n",
              "      --bg-color: #3B4455;\n",
              "      --fill-color: #D2E3FC;\n",
              "      --hover-bg-color: #434B5C;\n",
              "      --hover-fill-color: #FFFFFF;\n",
              "      --disabled-bg-color: #3B4455;\n",
              "      --disabled-fill-color: #666;\n",
              "  }\n",
              "\n",
              "  .colab-df-quickchart {\n",
              "    background-color: var(--bg-color);\n",
              "    border: none;\n",
              "    border-radius: 50%;\n",
              "    cursor: pointer;\n",
              "    display: none;\n",
              "    fill: var(--fill-color);\n",
              "    height: 32px;\n",
              "    padding: 0;\n",
              "    width: 32px;\n",
              "  }\n",
              "\n",
              "  .colab-df-quickchart:hover {\n",
              "    background-color: var(--hover-bg-color);\n",
              "    box-shadow: 0 1px 2px rgba(60, 64, 67, 0.3), 0 1px 3px 1px rgba(60, 64, 67, 0.15);\n",
              "    fill: var(--button-hover-fill-color);\n",
              "  }\n",
              "\n",
              "  .colab-df-quickchart-complete:disabled,\n",
              "  .colab-df-quickchart-complete:disabled:hover {\n",
              "    background-color: var(--disabled-bg-color);\n",
              "    fill: var(--disabled-fill-color);\n",
              "    box-shadow: none;\n",
              "  }\n",
              "\n",
              "  .colab-df-spinner {\n",
              "    border: 2px solid var(--fill-color);\n",
              "    border-color: transparent;\n",
              "    border-bottom-color: var(--fill-color);\n",
              "    animation:\n",
              "      spin 1s steps(1) infinite;\n",
              "  }\n",
              "\n",
              "  @keyframes spin {\n",
              "    0% {\n",
              "      border-color: transparent;\n",
              "      border-bottom-color: var(--fill-color);\n",
              "      border-left-color: var(--fill-color);\n",
              "    }\n",
              "    20% {\n",
              "      border-color: transparent;\n",
              "      border-left-color: var(--fill-color);\n",
              "      border-top-color: var(--fill-color);\n",
              "    }\n",
              "    30% {\n",
              "      border-color: transparent;\n",
              "      border-left-color: var(--fill-color);\n",
              "      border-top-color: var(--fill-color);\n",
              "      border-right-color: var(--fill-color);\n",
              "    }\n",
              "    40% {\n",
              "      border-color: transparent;\n",
              "      border-right-color: var(--fill-color);\n",
              "      border-top-color: var(--fill-color);\n",
              "    }\n",
              "    60% {\n",
              "      border-color: transparent;\n",
              "      border-right-color: var(--fill-color);\n",
              "    }\n",
              "    80% {\n",
              "      border-color: transparent;\n",
              "      border-right-color: var(--fill-color);\n",
              "      border-bottom-color: var(--fill-color);\n",
              "    }\n",
              "    90% {\n",
              "      border-color: transparent;\n",
              "      border-bottom-color: var(--fill-color);\n",
              "    }\n",
              "  }\n",
              "</style>\n",
              "\n",
              "  <script>\n",
              "    async function quickchart(key) {\n",
              "      const quickchartButtonEl =\n",
              "        document.querySelector('#' + key + ' button');\n",
              "      quickchartButtonEl.disabled = true;  // To prevent multiple clicks.\n",
              "      quickchartButtonEl.classList.add('colab-df-spinner');\n",
              "      try {\n",
              "        const charts = await google.colab.kernel.invokeFunction(\n",
              "            'suggestCharts', [key], {});\n",
              "      } catch (error) {\n",
              "        console.error('Error during call to suggestCharts:', error);\n",
              "      }\n",
              "      quickchartButtonEl.classList.remove('colab-df-spinner');\n",
              "      quickchartButtonEl.classList.add('colab-df-quickchart-complete');\n",
              "    }\n",
              "    (() => {\n",
              "      let quickchartButtonEl =\n",
              "        document.querySelector('#df-b79cf22a-8533-443c-b189-7c025429947c button');\n",
              "      quickchartButtonEl.style.display =\n",
              "        google.colab.kernel.accessAllowed ? 'block' : 'none';\n",
              "    })();\n",
              "  </script>\n",
              "</div>\n",
              "\n",
              "    </div>\n",
              "  </div>\n"
            ],
            "application/vnd.google.colaboratory.intrinsic+json": {
              "type": "dataframe",
              "summary": "{\n  \"name\": \"dat\",\n  \"rows\": 9,\n  \"fields\": [\n    {\n      \"column\": \"count\",\n      \"properties\": {\n        \"dtype\": \"number\",\n        \"std\": 0.0,\n        \"min\": 1030.0,\n        \"max\": 1030.0,\n        \"num_unique_values\": 1,\n        \"samples\": [\n          1030.0\n        ],\n        \"semantic_type\": \"\",\n        \"description\": \"\"\n      }\n    },\n    {\n      \"column\": \"mean\",\n      \"properties\": {\n        \"dtype\": \"number\",\n        \"std\": 356.2685733252147,\n        \"min\": 6.203111650485437,\n        \"max\": 972.9185922330097,\n        \"num_unique_values\": 9,\n        \"samples\": [\n          45.662135922330094\n        ],\n        \"semantic_type\": \"\",\n        \"description\": \"\"\n      }\n    },\n    {\n      \"column\": \"std\",\n      \"properties\": {\n        \"dtype\": \"number\",\n        \"std\": 34.75194447063997,\n        \"min\": 5.973491650590153,\n        \"max\": 104.50714164287166,\n        \"num_unique_values\": 9,\n        \"samples\": [\n          63.169911581033155\n        ],\n        \"semantic_type\": \"\",\n        \"description\": \"\"\n      }\n    },\n    {\n      \"column\": \"min\",\n      \"properties\": {\n        \"dtype\": \"number\",\n        \"std\": 301.5212611618688,\n        \"min\": 0.0,\n        \"max\": 801.0,\n        \"num_unique_values\": 7,\n        \"samples\": [\n          102.0\n        ],\n        \"semantic_type\": \"\",\n        \"description\": \"\"\n      }\n    },\n    {\n      \"column\": \"25%\",\n      \"properties\": {\n        \"dtype\": \"number\",\n        \"std\": 353.61594796039634,\n        \"min\": 0.0,\n        \"max\": 932.0,\n        \"num_unique_values\": 7,\n        \"samples\": [\n          192.375\n        ],\n        \"semantic_type\": \"\",\n        \"description\": \"\"\n      }\n    },\n    {\n      \"column\": \"50%\",\n      \"properties\": {\n        \"dtype\": \"number\",\n        \"std\": 365.7210860043496,\n        \"min\": 0.0,\n        \"max\": 968.0,\n        \"num_unique_values\": 9,\n        \"samples\": [\n          28.0\n        ],\n        \"semantic_type\": \"\",\n        \"description\": \"\"\n      }\n    },\n    {\n      \"column\": \"75%\",\n      \"properties\": {\n        \"dtype\": \"number\",\n        \"std\": 368.4286139877417,\n        \"min\": 10.16,\n        \"max\": 1029.4,\n        \"num_unique_values\": 9,\n        \"samples\": [\n          56.0\n        ],\n        \"semantic_type\": \"\",\n        \"description\": \"\"\n      }\n    },\n    {\n      \"column\": \"max\",\n      \"properties\": {\n        \"dtype\": \"number\",\n        \"std\": 389.4464974141721,\n        \"min\": 32.2,\n        \"max\": 1145.0,\n        \"num_unique_values\": 9,\n        \"samples\": [\n          365.0\n        ],\n        \"semantic_type\": \"\",\n        \"description\": \"\"\n      }\n    }\n  ]\n}"
            }
          },
          "metadata": {},
          "execution_count": 53
        }
      ],
      "source": [
        "dat.describe().T"
      ]
    },
    {
      "cell_type": "code",
      "execution_count": 54,
      "metadata": {
        "colab": {
          "base_uri": "https://localhost:8080/",
          "height": 331
        },
        "id": "Pb7DuyiMljpT",
        "outputId": "28549c84-12ab-4817-d39b-5062e7e1b26b"
      },
      "outputs": [
        {
          "output_type": "execute_result",
          "data": {
            "text/plain": [
              "                      Cimento  Yuksek_Firin_Curufu  Ucucu_Kul        Su  \\\n",
              "Cimento              1.000000            -0.275193  -0.397475 -0.081544   \n",
              "Yuksek_Firin_Curufu -0.275193             1.000000  -0.323569  0.107286   \n",
              "Ucucu_Kul           -0.397475            -0.323569   1.000000 -0.257044   \n",
              "Su                  -0.081544             0.107286  -0.257044  1.000000   \n",
              "Akiskanlastirici     0.092771             0.043376   0.377340 -0.657464   \n",
              "İri_Agregan         -0.109356            -0.283998  -0.009977 -0.182312   \n",
              "İnce_Agregan        -0.222720            -0.281593   0.079076 -0.450635   \n",
              "Yas                  0.081947            -0.044246  -0.154370  0.277604   \n",
              "Basinc_Dayanimi      0.497833             0.134824  -0.105753 -0.289613   \n",
              "\n",
              "                     Akiskanlastirici  İri_Agregan  İnce_Agregan        Yas  \\\n",
              "Cimento                      0.092771    -0.109356      -0.222720  0.081947   \n",
              "Yuksek_Firin_Curufu          0.043376    -0.283998      -0.281593 -0.044246   \n",
              "Ucucu_Kul                    0.377340    -0.009977       0.079076 -0.154370   \n",
              "Su                          -0.657464    -0.182312      -0.450635  0.277604   \n",
              "Akiskanlastirici             1.000000    -0.266303       0.222501 -0.192717   \n",
              "İri_Agregan                 -0.266303     1.000000      -0.178506 -0.003016   \n",
              "İnce_Agregan                 0.222501    -0.178506       1.000000 -0.156094   \n",
              "Yas                         -0.192717    -0.003016      -0.156094  1.000000   \n",
              "Basinc_Dayanimi              0.366102    -0.164928      -0.167249  0.328877   \n",
              "\n",
              "                     Basinc_Dayanimi  \n",
              "Cimento                     0.497833  \n",
              "Yuksek_Firin_Curufu         0.134824  \n",
              "Ucucu_Kul                  -0.105753  \n",
              "Su                         -0.289613  \n",
              "Akiskanlastirici            0.366102  \n",
              "İri_Agregan                -0.164928  \n",
              "İnce_Agregan               -0.167249  \n",
              "Yas                         0.328877  \n",
              "Basinc_Dayanimi             1.000000  "
            ],
            "text/html": [
              "\n",
              "  <div id=\"df-4cb81141-99f8-4cb1-b083-bbdcf7a52004\" class=\"colab-df-container\">\n",
              "    <div>\n",
              "<style scoped>\n",
              "    .dataframe tbody tr th:only-of-type {\n",
              "        vertical-align: middle;\n",
              "    }\n",
              "\n",
              "    .dataframe tbody tr th {\n",
              "        vertical-align: top;\n",
              "    }\n",
              "\n",
              "    .dataframe thead th {\n",
              "        text-align: right;\n",
              "    }\n",
              "</style>\n",
              "<table border=\"1\" class=\"dataframe\">\n",
              "  <thead>\n",
              "    <tr style=\"text-align: right;\">\n",
              "      <th></th>\n",
              "      <th>Cimento</th>\n",
              "      <th>Yuksek_Firin_Curufu</th>\n",
              "      <th>Ucucu_Kul</th>\n",
              "      <th>Su</th>\n",
              "      <th>Akiskanlastirici</th>\n",
              "      <th>İri_Agregan</th>\n",
              "      <th>İnce_Agregan</th>\n",
              "      <th>Yas</th>\n",
              "      <th>Basinc_Dayanimi</th>\n",
              "    </tr>\n",
              "  </thead>\n",
              "  <tbody>\n",
              "    <tr>\n",
              "      <th>Cimento</th>\n",
              "      <td>1.000000</td>\n",
              "      <td>-0.275193</td>\n",
              "      <td>-0.397475</td>\n",
              "      <td>-0.081544</td>\n",
              "      <td>0.092771</td>\n",
              "      <td>-0.109356</td>\n",
              "      <td>-0.222720</td>\n",
              "      <td>0.081947</td>\n",
              "      <td>0.497833</td>\n",
              "    </tr>\n",
              "    <tr>\n",
              "      <th>Yuksek_Firin_Curufu</th>\n",
              "      <td>-0.275193</td>\n",
              "      <td>1.000000</td>\n",
              "      <td>-0.323569</td>\n",
              "      <td>0.107286</td>\n",
              "      <td>0.043376</td>\n",
              "      <td>-0.283998</td>\n",
              "      <td>-0.281593</td>\n",
              "      <td>-0.044246</td>\n",
              "      <td>0.134824</td>\n",
              "    </tr>\n",
              "    <tr>\n",
              "      <th>Ucucu_Kul</th>\n",
              "      <td>-0.397475</td>\n",
              "      <td>-0.323569</td>\n",
              "      <td>1.000000</td>\n",
              "      <td>-0.257044</td>\n",
              "      <td>0.377340</td>\n",
              "      <td>-0.009977</td>\n",
              "      <td>0.079076</td>\n",
              "      <td>-0.154370</td>\n",
              "      <td>-0.105753</td>\n",
              "    </tr>\n",
              "    <tr>\n",
              "      <th>Su</th>\n",
              "      <td>-0.081544</td>\n",
              "      <td>0.107286</td>\n",
              "      <td>-0.257044</td>\n",
              "      <td>1.000000</td>\n",
              "      <td>-0.657464</td>\n",
              "      <td>-0.182312</td>\n",
              "      <td>-0.450635</td>\n",
              "      <td>0.277604</td>\n",
              "      <td>-0.289613</td>\n",
              "    </tr>\n",
              "    <tr>\n",
              "      <th>Akiskanlastirici</th>\n",
              "      <td>0.092771</td>\n",
              "      <td>0.043376</td>\n",
              "      <td>0.377340</td>\n",
              "      <td>-0.657464</td>\n",
              "      <td>1.000000</td>\n",
              "      <td>-0.266303</td>\n",
              "      <td>0.222501</td>\n",
              "      <td>-0.192717</td>\n",
              "      <td>0.366102</td>\n",
              "    </tr>\n",
              "    <tr>\n",
              "      <th>İri_Agregan</th>\n",
              "      <td>-0.109356</td>\n",
              "      <td>-0.283998</td>\n",
              "      <td>-0.009977</td>\n",
              "      <td>-0.182312</td>\n",
              "      <td>-0.266303</td>\n",
              "      <td>1.000000</td>\n",
              "      <td>-0.178506</td>\n",
              "      <td>-0.003016</td>\n",
              "      <td>-0.164928</td>\n",
              "    </tr>\n",
              "    <tr>\n",
              "      <th>İnce_Agregan</th>\n",
              "      <td>-0.222720</td>\n",
              "      <td>-0.281593</td>\n",
              "      <td>0.079076</td>\n",
              "      <td>-0.450635</td>\n",
              "      <td>0.222501</td>\n",
              "      <td>-0.178506</td>\n",
              "      <td>1.000000</td>\n",
              "      <td>-0.156094</td>\n",
              "      <td>-0.167249</td>\n",
              "    </tr>\n",
              "    <tr>\n",
              "      <th>Yas</th>\n",
              "      <td>0.081947</td>\n",
              "      <td>-0.044246</td>\n",
              "      <td>-0.154370</td>\n",
              "      <td>0.277604</td>\n",
              "      <td>-0.192717</td>\n",
              "      <td>-0.003016</td>\n",
              "      <td>-0.156094</td>\n",
              "      <td>1.000000</td>\n",
              "      <td>0.328877</td>\n",
              "    </tr>\n",
              "    <tr>\n",
              "      <th>Basinc_Dayanimi</th>\n",
              "      <td>0.497833</td>\n",
              "      <td>0.134824</td>\n",
              "      <td>-0.105753</td>\n",
              "      <td>-0.289613</td>\n",
              "      <td>0.366102</td>\n",
              "      <td>-0.164928</td>\n",
              "      <td>-0.167249</td>\n",
              "      <td>0.328877</td>\n",
              "      <td>1.000000</td>\n",
              "    </tr>\n",
              "  </tbody>\n",
              "</table>\n",
              "</div>\n",
              "    <div class=\"colab-df-buttons\">\n",
              "\n",
              "  <div class=\"colab-df-container\">\n",
              "    <button class=\"colab-df-convert\" onclick=\"convertToInteractive('df-4cb81141-99f8-4cb1-b083-bbdcf7a52004')\"\n",
              "            title=\"Convert this dataframe to an interactive table.\"\n",
              "            style=\"display:none;\">\n",
              "\n",
              "  <svg xmlns=\"http://www.w3.org/2000/svg\" height=\"24px\" viewBox=\"0 -960 960 960\">\n",
              "    <path d=\"M120-120v-720h720v720H120Zm60-500h600v-160H180v160Zm220 220h160v-160H400v160Zm0 220h160v-160H400v160ZM180-400h160v-160H180v160Zm440 0h160v-160H620v160ZM180-180h160v-160H180v160Zm440 0h160v-160H620v160Z\"/>\n",
              "  </svg>\n",
              "    </button>\n",
              "\n",
              "  <style>\n",
              "    .colab-df-container {\n",
              "      display:flex;\n",
              "      gap: 12px;\n",
              "    }\n",
              "\n",
              "    .colab-df-convert {\n",
              "      background-color: #E8F0FE;\n",
              "      border: none;\n",
              "      border-radius: 50%;\n",
              "      cursor: pointer;\n",
              "      display: none;\n",
              "      fill: #1967D2;\n",
              "      height: 32px;\n",
              "      padding: 0 0 0 0;\n",
              "      width: 32px;\n",
              "    }\n",
              "\n",
              "    .colab-df-convert:hover {\n",
              "      background-color: #E2EBFA;\n",
              "      box-shadow: 0px 1px 2px rgba(60, 64, 67, 0.3), 0px 1px 3px 1px rgba(60, 64, 67, 0.15);\n",
              "      fill: #174EA6;\n",
              "    }\n",
              "\n",
              "    .colab-df-buttons div {\n",
              "      margin-bottom: 4px;\n",
              "    }\n",
              "\n",
              "    [theme=dark] .colab-df-convert {\n",
              "      background-color: #3B4455;\n",
              "      fill: #D2E3FC;\n",
              "    }\n",
              "\n",
              "    [theme=dark] .colab-df-convert:hover {\n",
              "      background-color: #434B5C;\n",
              "      box-shadow: 0px 1px 3px 1px rgba(0, 0, 0, 0.15);\n",
              "      filter: drop-shadow(0px 1px 2px rgba(0, 0, 0, 0.3));\n",
              "      fill: #FFFFFF;\n",
              "    }\n",
              "  </style>\n",
              "\n",
              "    <script>\n",
              "      const buttonEl =\n",
              "        document.querySelector('#df-4cb81141-99f8-4cb1-b083-bbdcf7a52004 button.colab-df-convert');\n",
              "      buttonEl.style.display =\n",
              "        google.colab.kernel.accessAllowed ? 'block' : 'none';\n",
              "\n",
              "      async function convertToInteractive(key) {\n",
              "        const element = document.querySelector('#df-4cb81141-99f8-4cb1-b083-bbdcf7a52004');\n",
              "        const dataTable =\n",
              "          await google.colab.kernel.invokeFunction('convertToInteractive',\n",
              "                                                    [key], {});\n",
              "        if (!dataTable) return;\n",
              "\n",
              "        const docLinkHtml = 'Like what you see? Visit the ' +\n",
              "          '<a target=\"_blank\" href=https://colab.research.google.com/notebooks/data_table.ipynb>data table notebook</a>'\n",
              "          + ' to learn more about interactive tables.';\n",
              "        element.innerHTML = '';\n",
              "        dataTable['output_type'] = 'display_data';\n",
              "        await google.colab.output.renderOutput(dataTable, element);\n",
              "        const docLink = document.createElement('div');\n",
              "        docLink.innerHTML = docLinkHtml;\n",
              "        element.appendChild(docLink);\n",
              "      }\n",
              "    </script>\n",
              "  </div>\n",
              "\n",
              "\n",
              "<div id=\"df-f5c740bd-1b61-4916-8b3f-07a1a778dc7e\">\n",
              "  <button class=\"colab-df-quickchart\" onclick=\"quickchart('df-f5c740bd-1b61-4916-8b3f-07a1a778dc7e')\"\n",
              "            title=\"Suggest charts\"\n",
              "            style=\"display:none;\">\n",
              "\n",
              "<svg xmlns=\"http://www.w3.org/2000/svg\" height=\"24px\"viewBox=\"0 0 24 24\"\n",
              "     width=\"24px\">\n",
              "    <g>\n",
              "        <path d=\"M19 3H5c-1.1 0-2 .9-2 2v14c0 1.1.9 2 2 2h14c1.1 0 2-.9 2-2V5c0-1.1-.9-2-2-2zM9 17H7v-7h2v7zm4 0h-2V7h2v10zm4 0h-2v-4h2v4z\"/>\n",
              "    </g>\n",
              "</svg>\n",
              "  </button>\n",
              "\n",
              "<style>\n",
              "  .colab-df-quickchart {\n",
              "      --bg-color: #E8F0FE;\n",
              "      --fill-color: #1967D2;\n",
              "      --hover-bg-color: #E2EBFA;\n",
              "      --hover-fill-color: #174EA6;\n",
              "      --disabled-fill-color: #AAA;\n",
              "      --disabled-bg-color: #DDD;\n",
              "  }\n",
              "\n",
              "  [theme=dark] .colab-df-quickchart {\n",
              "      --bg-color: #3B4455;\n",
              "      --fill-color: #D2E3FC;\n",
              "      --hover-bg-color: #434B5C;\n",
              "      --hover-fill-color: #FFFFFF;\n",
              "      --disabled-bg-color: #3B4455;\n",
              "      --disabled-fill-color: #666;\n",
              "  }\n",
              "\n",
              "  .colab-df-quickchart {\n",
              "    background-color: var(--bg-color);\n",
              "    border: none;\n",
              "    border-radius: 50%;\n",
              "    cursor: pointer;\n",
              "    display: none;\n",
              "    fill: var(--fill-color);\n",
              "    height: 32px;\n",
              "    padding: 0;\n",
              "    width: 32px;\n",
              "  }\n",
              "\n",
              "  .colab-df-quickchart:hover {\n",
              "    background-color: var(--hover-bg-color);\n",
              "    box-shadow: 0 1px 2px rgba(60, 64, 67, 0.3), 0 1px 3px 1px rgba(60, 64, 67, 0.15);\n",
              "    fill: var(--button-hover-fill-color);\n",
              "  }\n",
              "\n",
              "  .colab-df-quickchart-complete:disabled,\n",
              "  .colab-df-quickchart-complete:disabled:hover {\n",
              "    background-color: var(--disabled-bg-color);\n",
              "    fill: var(--disabled-fill-color);\n",
              "    box-shadow: none;\n",
              "  }\n",
              "\n",
              "  .colab-df-spinner {\n",
              "    border: 2px solid var(--fill-color);\n",
              "    border-color: transparent;\n",
              "    border-bottom-color: var(--fill-color);\n",
              "    animation:\n",
              "      spin 1s steps(1) infinite;\n",
              "  }\n",
              "\n",
              "  @keyframes spin {\n",
              "    0% {\n",
              "      border-color: transparent;\n",
              "      border-bottom-color: var(--fill-color);\n",
              "      border-left-color: var(--fill-color);\n",
              "    }\n",
              "    20% {\n",
              "      border-color: transparent;\n",
              "      border-left-color: var(--fill-color);\n",
              "      border-top-color: var(--fill-color);\n",
              "    }\n",
              "    30% {\n",
              "      border-color: transparent;\n",
              "      border-left-color: var(--fill-color);\n",
              "      border-top-color: var(--fill-color);\n",
              "      border-right-color: var(--fill-color);\n",
              "    }\n",
              "    40% {\n",
              "      border-color: transparent;\n",
              "      border-right-color: var(--fill-color);\n",
              "      border-top-color: var(--fill-color);\n",
              "    }\n",
              "    60% {\n",
              "      border-color: transparent;\n",
              "      border-right-color: var(--fill-color);\n",
              "    }\n",
              "    80% {\n",
              "      border-color: transparent;\n",
              "      border-right-color: var(--fill-color);\n",
              "      border-bottom-color: var(--fill-color);\n",
              "    }\n",
              "    90% {\n",
              "      border-color: transparent;\n",
              "      border-bottom-color: var(--fill-color);\n",
              "    }\n",
              "  }\n",
              "</style>\n",
              "\n",
              "  <script>\n",
              "    async function quickchart(key) {\n",
              "      const quickchartButtonEl =\n",
              "        document.querySelector('#' + key + ' button');\n",
              "      quickchartButtonEl.disabled = true;  // To prevent multiple clicks.\n",
              "      quickchartButtonEl.classList.add('colab-df-spinner');\n",
              "      try {\n",
              "        const charts = await google.colab.kernel.invokeFunction(\n",
              "            'suggestCharts', [key], {});\n",
              "      } catch (error) {\n",
              "        console.error('Error during call to suggestCharts:', error);\n",
              "      }\n",
              "      quickchartButtonEl.classList.remove('colab-df-spinner');\n",
              "      quickchartButtonEl.classList.add('colab-df-quickchart-complete');\n",
              "    }\n",
              "    (() => {\n",
              "      let quickchartButtonEl =\n",
              "        document.querySelector('#df-f5c740bd-1b61-4916-8b3f-07a1a778dc7e button');\n",
              "      quickchartButtonEl.style.display =\n",
              "        google.colab.kernel.accessAllowed ? 'block' : 'none';\n",
              "    })();\n",
              "  </script>\n",
              "</div>\n",
              "\n",
              "    </div>\n",
              "  </div>\n"
            ],
            "application/vnd.google.colaboratory.intrinsic+json": {
              "type": "dataframe",
              "summary": "{\n  \"name\": \"dat\",\n  \"rows\": 9,\n  \"fields\": [\n    {\n      \"column\": \"Cimento\",\n      \"properties\": {\n        \"dtype\": \"number\",\n        \"std\": 0.4368782030878597,\n        \"min\": -0.3974754395621214,\n        \"max\": 1.0,\n        \"num_unique_values\": 9,\n        \"samples\": [\n          0.08194726384370798,\n          -0.27519344339469337,\n          -0.10935603936014719\n        ],\n        \"semantic_type\": \"\",\n        \"description\": \"\"\n      }\n    },\n    {\n      \"column\": \"Yuksek_Firin_Curufu\",\n      \"properties\": {\n        \"dtype\": \"number\",\n        \"std\": 0.414313983474308,\n        \"min\": -0.32356946824892,\n        \"max\": 1.0,\n        \"num_unique_values\": 9,\n        \"samples\": [\n          -0.044245800532207086,\n          1.0,\n          -0.28399823041671474\n        ],\n        \"semantic_type\": \"\",\n        \"description\": \"\"\n      }\n    },\n    {\n      \"column\": \"Ucucu_Kul\",\n      \"properties\": {\n        \"dtype\": \"number\",\n        \"std\": 0.434121183103927,\n        \"min\": -0.3974754395621214,\n        \"max\": 1.0,\n        \"num_unique_values\": 9,\n        \"samples\": [\n          -0.15437016471642628,\n          -0.32356946824892,\n          -0.009976787860816511\n        ],\n        \"semantic_type\": \"\",\n        \"description\": \"\"\n      }\n    },\n    {\n      \"column\": \"Su\",\n      \"properties\": {\n        \"dtype\": \"number\",\n        \"std\": 0.48503728622887965,\n        \"min\": -0.65746443675148,\n        \"max\": 1.0,\n        \"num_unique_values\": 9,\n        \"samples\": [\n          0.27760442934523716,\n          0.10728594305402202,\n          -0.18231166840932136\n        ],\n        \"semantic_type\": \"\",\n        \"description\": \"\"\n      }\n    },\n    {\n      \"column\": \"Akiskanlastirici\",\n      \"properties\": {\n        \"dtype\": \"number\",\n        \"std\": 0.4702116015356633,\n        \"min\": -0.65746443675148,\n        \"max\": 1.0,\n        \"num_unique_values\": 9,\n        \"samples\": [\n          -0.1927165176358352,\n          0.04337573608658627,\n          -0.26630275524248953\n        ],\n        \"semantic_type\": \"\",\n        \"description\": \"\"\n      }\n    },\n    {\n      \"column\": \"\\u0130ri_Agregan\",\n      \"properties\": {\n        \"dtype\": \"number\",\n        \"std\": 0.3955327391898957,\n        \"min\": -0.28399823041671474,\n        \"max\": 1.0,\n        \"num_unique_values\": 9,\n        \"samples\": [\n          -0.003015507363305309,\n          -0.28399823041671474,\n          1.0\n        ],\n        \"semantic_type\": \"\",\n        \"description\": \"\"\n      }\n    },\n    {\n      \"column\": \"\\u0130nce_Agregan \",\n      \"properties\": {\n        \"dtype\": \"number\",\n        \"std\": 0.4285521808837439,\n        \"min\": -0.4506349763929071,\n        \"max\": 1.0,\n        \"num_unique_values\": 9,\n        \"samples\": [\n          -0.15609404945514643,\n          -0.281593262546014,\n          -0.1785057546607854\n        ],\n        \"semantic_type\": \"\",\n        \"description\": \"\"\n      }\n    },\n    {\n      \"column\": \"Yas\",\n      \"properties\": {\n        \"dtype\": \"number\",\n        \"std\": 0.37672124677836083,\n        \"min\": -0.1927165176358352,\n        \"max\": 1.0,\n        \"num_unique_values\": 9,\n        \"samples\": [\n          1.0,\n          -0.044245800532207086,\n          -0.003015507363305309\n        ],\n        \"semantic_type\": \"\",\n        \"description\": \"\"\n      }\n    },\n    {\n      \"column\": \"Basinc_Dayanimi\",\n      \"properties\": {\n        \"dtype\": \"number\",\n        \"std\": 0.4144215383989957,\n        \"min\": -0.2896134756904166,\n        \"max\": 1.0,\n        \"num_unique_values\": 9,\n        \"samples\": [\n          0.32887697551028533,\n          0.13482444514334285,\n          -0.16492782105733567\n        ],\n        \"semantic_type\": \"\",\n        \"description\": \"\"\n      }\n    }\n  ]\n}"
            }
          },
          "metadata": {},
          "execution_count": 54
        }
      ],
      "source": [
        "dat.corr()"
      ]
    },
    {
      "cell_type": "code",
      "source": [
        "\n",
        "dat.columns"
      ],
      "metadata": {
        "colab": {
          "base_uri": "https://localhost:8080/"
        },
        "id": "Bkmh-W6lo9Z7",
        "outputId": "f6f71fe2-ee79-4e12-ca07-55130b05c7f5"
      },
      "execution_count": 55,
      "outputs": [
        {
          "output_type": "execute_result",
          "data": {
            "text/plain": [
              "Index(['Cimento', 'Yuksek_Firin_Curufu', 'Ucucu_Kul', 'Su', 'Akiskanlastirici',\n",
              "       'İri_Agregan', 'İnce_Agregan ', 'Yas', 'Basinc_Dayanimi'],\n",
              "      dtype='object')"
            ]
          },
          "metadata": {},
          "execution_count": 55
        }
      ]
    },
    {
      "cell_type": "code",
      "execution_count": 56,
      "metadata": {
        "colab": {
          "base_uri": "https://localhost:8080/"
        },
        "id": "zghva9Btgfeo",
        "outputId": "5b460722-0b4b-4c35-ccae-e2e5b2996c32"
      },
      "outputs": [
        {
          "output_type": "execute_result",
          "data": {
            "text/plain": [
              "np.False_"
            ]
          },
          "metadata": {},
          "execution_count": 56
        }
      ],
      "source": [
        "dat.isnull().values.any()"
      ]
    },
    {
      "cell_type": "markdown",
      "source": [
        "# **BASIT DOGRUSAL REGRESYON**"
      ],
      "metadata": {
        "id": "K_GDiTBFyZ96"
      }
    },
    {
      "cell_type": "code",
      "source": [
        "y = dat[[\"Basinc_Dayanimi\"]]\n",
        "x = dat[[\"Su\"]]"
      ],
      "metadata": {
        "id": "0sH-PP2pxi8_"
      },
      "execution_count": 58,
      "outputs": []
    },
    {
      "cell_type": "code",
      "source": [
        "import statsmodels.api as sm\n",
        "import statsmodels.formula.api as smf"
      ],
      "metadata": {
        "id": "E2Q_vYO1z8gZ"
      },
      "execution_count": 59,
      "outputs": []
    },
    {
      "cell_type": "code",
      "source": [
        "x = sm.add_constant(x)\n",
        "model = sm.OLS(y, x)\n",
        "mod = model.fit()\n",
        "mod = sm.OLS(y, x).fit()\n",
        "mod.summary()"
      ],
      "metadata": {
        "colab": {
          "base_uri": "https://localhost:8080/",
          "height": 478
        },
        "id": "m367kn9w0P2v",
        "outputId": "c564324c-f32f-4565-ceec-8c9cca25176a"
      },
      "execution_count": 60,
      "outputs": [
        {
          "output_type": "execute_result",
          "data": {
            "text/plain": [
              "<class 'statsmodels.iolib.summary.Summary'>\n",
              "\"\"\"\n",
              "                            OLS Regression Results                            \n",
              "==============================================================================\n",
              "Dep. Variable:        Basinc_Dayanimi   R-squared:                       0.084\n",
              "Model:                            OLS   Adj. R-squared:                  0.083\n",
              "Method:                 Least Squares   F-statistic:                     94.12\n",
              "Date:                Mon, 07 Apr 2025   Prob (F-statistic):           2.37e-21\n",
              "Time:                        18:08:16   Log-Likelihood:                -4316.1\n",
              "No. Observations:                1030   AIC:                             8636.\n",
              "Df Residuals:                    1028   BIC:                             8646.\n",
              "Df Model:                           1                                         \n",
              "Covariance Type:            nonrobust                                         \n",
              "==============================================================================\n",
              "                 coef    std err          t      P>|t|      [0.025      0.975]\n",
              "------------------------------------------------------------------------------\n",
              "const         76.9524      4.269     18.025      0.000      68.575      85.330\n",
              "Su            -0.2266      0.023     -9.701      0.000      -0.272      -0.181\n",
              "==============================================================================\n",
              "Omnibus:                       33.418   Durbin-Watson:                   0.970\n",
              "Prob(Omnibus):                  0.000   Jarque-Bera (JB):               24.860\n",
              "Skew:                           0.281   Prob(JB):                     4.00e-06\n",
              "Kurtosis:                       2.488   Cond. No.                     1.57e+03\n",
              "==============================================================================\n",
              "\n",
              "Notes:\n",
              "[1] Standard Errors assume that the covariance matrix of the errors is correctly specified.\n",
              "[2] The condition number is large, 1.57e+03. This might indicate that there are\n",
              "strong multicollinearity or other numerical problems.\n",
              "\"\"\""
            ],
            "text/html": [
              "<table class=\"simpletable\">\n",
              "<caption>OLS Regression Results</caption>\n",
              "<tr>\n",
              "  <th>Dep. Variable:</th>     <td>Basinc_Dayanimi</td> <th>  R-squared:         </th> <td>   0.084</td>\n",
              "</tr>\n",
              "<tr>\n",
              "  <th>Model:</th>                   <td>OLS</td>       <th>  Adj. R-squared:    </th> <td>   0.083</td>\n",
              "</tr>\n",
              "<tr>\n",
              "  <th>Method:</th>             <td>Least Squares</td>  <th>  F-statistic:       </th> <td>   94.12</td>\n",
              "</tr>\n",
              "<tr>\n",
              "  <th>Date:</th>             <td>Mon, 07 Apr 2025</td> <th>  Prob (F-statistic):</th> <td>2.37e-21</td>\n",
              "</tr>\n",
              "<tr>\n",
              "  <th>Time:</th>                 <td>18:08:16</td>     <th>  Log-Likelihood:    </th> <td> -4316.1</td>\n",
              "</tr>\n",
              "<tr>\n",
              "  <th>No. Observations:</th>      <td>  1030</td>      <th>  AIC:               </th> <td>   8636.</td>\n",
              "</tr>\n",
              "<tr>\n",
              "  <th>Df Residuals:</th>          <td>  1028</td>      <th>  BIC:               </th> <td>   8646.</td>\n",
              "</tr>\n",
              "<tr>\n",
              "  <th>Df Model:</th>              <td>     1</td>      <th>                     </th>     <td> </td>   \n",
              "</tr>\n",
              "<tr>\n",
              "  <th>Covariance Type:</th>      <td>nonrobust</td>    <th>                     </th>     <td> </td>   \n",
              "</tr>\n",
              "</table>\n",
              "<table class=\"simpletable\">\n",
              "<tr>\n",
              "    <td></td>       <th>coef</th>     <th>std err</th>      <th>t</th>      <th>P>|t|</th>  <th>[0.025</th>    <th>0.975]</th>  \n",
              "</tr>\n",
              "<tr>\n",
              "  <th>const</th> <td>   76.9524</td> <td>    4.269</td> <td>   18.025</td> <td> 0.000</td> <td>   68.575</td> <td>   85.330</td>\n",
              "</tr>\n",
              "<tr>\n",
              "  <th>Su</th>    <td>   -0.2266</td> <td>    0.023</td> <td>   -9.701</td> <td> 0.000</td> <td>   -0.272</td> <td>   -0.181</td>\n",
              "</tr>\n",
              "</table>\n",
              "<table class=\"simpletable\">\n",
              "<tr>\n",
              "  <th>Omnibus:</th>       <td>33.418</td> <th>  Durbin-Watson:     </th> <td>   0.970</td>\n",
              "</tr>\n",
              "<tr>\n",
              "  <th>Prob(Omnibus):</th> <td> 0.000</td> <th>  Jarque-Bera (JB):  </th> <td>  24.860</td>\n",
              "</tr>\n",
              "<tr>\n",
              "  <th>Skew:</th>          <td> 0.281</td> <th>  Prob(JB):          </th> <td>4.00e-06</td>\n",
              "</tr>\n",
              "<tr>\n",
              "  <th>Kurtosis:</th>      <td> 2.488</td> <th>  Cond. No.          </th> <td>1.57e+03</td>\n",
              "</tr>\n",
              "</table><br/><br/>Notes:<br/>[1] Standard Errors assume that the covariance matrix of the errors is correctly specified.<br/>[2] The condition number is large, 1.57e+03. This might indicate that there are<br/>strong multicollinearity or other numerical problems."
            ],
            "text/latex": "\\begin{center}\n\\begin{tabular}{lclc}\n\\toprule\n\\textbf{Dep. Variable:}    & Basinc\\_Dayanimi & \\textbf{  R-squared:         } &     0.084   \\\\\n\\textbf{Model:}            &       OLS        & \\textbf{  Adj. R-squared:    } &     0.083   \\\\\n\\textbf{Method:}           &  Least Squares   & \\textbf{  F-statistic:       } &     94.12   \\\\\n\\textbf{Date:}             & Mon, 07 Apr 2025 & \\textbf{  Prob (F-statistic):} &  2.37e-21   \\\\\n\\textbf{Time:}             &     18:08:16     & \\textbf{  Log-Likelihood:    } &   -4316.1   \\\\\n\\textbf{No. Observations:} &        1030      & \\textbf{  AIC:               } &     8636.   \\\\\n\\textbf{Df Residuals:}     &        1028      & \\textbf{  BIC:               } &     8646.   \\\\\n\\textbf{Df Model:}         &           1      & \\textbf{                     } &             \\\\\n\\textbf{Covariance Type:}  &    nonrobust     & \\textbf{                     } &             \\\\\n\\bottomrule\n\\end{tabular}\n\\begin{tabular}{lcccccc}\n               & \\textbf{coef} & \\textbf{std err} & \\textbf{t} & \\textbf{P$> |$t$|$} & \\textbf{[0.025} & \\textbf{0.975]}  \\\\\n\\midrule\n\\textbf{const} &      76.9524  &        4.269     &    18.025  &         0.000        &       68.575    &       85.330     \\\\\n\\textbf{Su}    &      -0.2266  &        0.023     &    -9.701  &         0.000        &       -0.272    &       -0.181     \\\\\n\\bottomrule\n\\end{tabular}\n\\begin{tabular}{lclc}\n\\textbf{Omnibus:}       & 33.418 & \\textbf{  Durbin-Watson:     } &    0.970  \\\\\n\\textbf{Prob(Omnibus):} &  0.000 & \\textbf{  Jarque-Bera (JB):  } &   24.860  \\\\\n\\textbf{Skew:}          &  0.281 & \\textbf{  Prob(JB):          } & 4.00e-06  \\\\\n\\textbf{Kurtosis:}      &  2.488 & \\textbf{  Cond. No.          } & 1.57e+03  \\\\\n\\bottomrule\n\\end{tabular}\n%\\caption{OLS Regression Results}\n\\end{center}\n\nNotes: \\newline\n [1] Standard Errors assume that the covariance matrix of the errors is correctly specified. \\newline\n [2] The condition number is large, 1.57e+03. This might indicate that there are \\newline\n strong multicollinearity or other numerical problems."
          },
          "metadata": {},
          "execution_count": 60
        }
      ]
    },
    {
      "cell_type": "code",
      "source": [
        "mod = smf.ols(\"Basinc_Dayanimi~Su\", data = dat).fit()\n",
        "mod.summary()\n"
      ],
      "metadata": {
        "colab": {
          "base_uri": "https://localhost:8080/",
          "height": 478
        },
        "id": "Ro1wWKxv0eCB",
        "outputId": "7950b8eb-bfc6-4e7a-b3de-28a5203a948d"
      },
      "execution_count": 61,
      "outputs": [
        {
          "output_type": "execute_result",
          "data": {
            "text/plain": [
              "<class 'statsmodels.iolib.summary.Summary'>\n",
              "\"\"\"\n",
              "                            OLS Regression Results                            \n",
              "==============================================================================\n",
              "Dep. Variable:        Basinc_Dayanimi   R-squared:                       0.084\n",
              "Model:                            OLS   Adj. R-squared:                  0.083\n",
              "Method:                 Least Squares   F-statistic:                     94.12\n",
              "Date:                Mon, 07 Apr 2025   Prob (F-statistic):           2.37e-21\n",
              "Time:                        18:08:18   Log-Likelihood:                -4316.1\n",
              "No. Observations:                1030   AIC:                             8636.\n",
              "Df Residuals:                    1028   BIC:                             8646.\n",
              "Df Model:                           1                                         \n",
              "Covariance Type:            nonrobust                                         \n",
              "==============================================================================\n",
              "                 coef    std err          t      P>|t|      [0.025      0.975]\n",
              "------------------------------------------------------------------------------\n",
              "Intercept     76.9524      4.269     18.025      0.000      68.575      85.330\n",
              "Su            -0.2266      0.023     -9.701      0.000      -0.272      -0.181\n",
              "==============================================================================\n",
              "Omnibus:                       33.418   Durbin-Watson:                   0.970\n",
              "Prob(Omnibus):                  0.000   Jarque-Bera (JB):               24.860\n",
              "Skew:                           0.281   Prob(JB):                     4.00e-06\n",
              "Kurtosis:                       2.488   Cond. No.                     1.57e+03\n",
              "==============================================================================\n",
              "\n",
              "Notes:\n",
              "[1] Standard Errors assume that the covariance matrix of the errors is correctly specified.\n",
              "[2] The condition number is large, 1.57e+03. This might indicate that there are\n",
              "strong multicollinearity or other numerical problems.\n",
              "\"\"\""
            ],
            "text/html": [
              "<table class=\"simpletable\">\n",
              "<caption>OLS Regression Results</caption>\n",
              "<tr>\n",
              "  <th>Dep. Variable:</th>     <td>Basinc_Dayanimi</td> <th>  R-squared:         </th> <td>   0.084</td>\n",
              "</tr>\n",
              "<tr>\n",
              "  <th>Model:</th>                   <td>OLS</td>       <th>  Adj. R-squared:    </th> <td>   0.083</td>\n",
              "</tr>\n",
              "<tr>\n",
              "  <th>Method:</th>             <td>Least Squares</td>  <th>  F-statistic:       </th> <td>   94.12</td>\n",
              "</tr>\n",
              "<tr>\n",
              "  <th>Date:</th>             <td>Mon, 07 Apr 2025</td> <th>  Prob (F-statistic):</th> <td>2.37e-21</td>\n",
              "</tr>\n",
              "<tr>\n",
              "  <th>Time:</th>                 <td>18:08:18</td>     <th>  Log-Likelihood:    </th> <td> -4316.1</td>\n",
              "</tr>\n",
              "<tr>\n",
              "  <th>No. Observations:</th>      <td>  1030</td>      <th>  AIC:               </th> <td>   8636.</td>\n",
              "</tr>\n",
              "<tr>\n",
              "  <th>Df Residuals:</th>          <td>  1028</td>      <th>  BIC:               </th> <td>   8646.</td>\n",
              "</tr>\n",
              "<tr>\n",
              "  <th>Df Model:</th>              <td>     1</td>      <th>                     </th>     <td> </td>   \n",
              "</tr>\n",
              "<tr>\n",
              "  <th>Covariance Type:</th>      <td>nonrobust</td>    <th>                     </th>     <td> </td>   \n",
              "</tr>\n",
              "</table>\n",
              "<table class=\"simpletable\">\n",
              "<tr>\n",
              "      <td></td>         <th>coef</th>     <th>std err</th>      <th>t</th>      <th>P>|t|</th>  <th>[0.025</th>    <th>0.975]</th>  \n",
              "</tr>\n",
              "<tr>\n",
              "  <th>Intercept</th> <td>   76.9524</td> <td>    4.269</td> <td>   18.025</td> <td> 0.000</td> <td>   68.575</td> <td>   85.330</td>\n",
              "</tr>\n",
              "<tr>\n",
              "  <th>Su</th>        <td>   -0.2266</td> <td>    0.023</td> <td>   -9.701</td> <td> 0.000</td> <td>   -0.272</td> <td>   -0.181</td>\n",
              "</tr>\n",
              "</table>\n",
              "<table class=\"simpletable\">\n",
              "<tr>\n",
              "  <th>Omnibus:</th>       <td>33.418</td> <th>  Durbin-Watson:     </th> <td>   0.970</td>\n",
              "</tr>\n",
              "<tr>\n",
              "  <th>Prob(Omnibus):</th> <td> 0.000</td> <th>  Jarque-Bera (JB):  </th> <td>  24.860</td>\n",
              "</tr>\n",
              "<tr>\n",
              "  <th>Skew:</th>          <td> 0.281</td> <th>  Prob(JB):          </th> <td>4.00e-06</td>\n",
              "</tr>\n",
              "<tr>\n",
              "  <th>Kurtosis:</th>      <td> 2.488</td> <th>  Cond. No.          </th> <td>1.57e+03</td>\n",
              "</tr>\n",
              "</table><br/><br/>Notes:<br/>[1] Standard Errors assume that the covariance matrix of the errors is correctly specified.<br/>[2] The condition number is large, 1.57e+03. This might indicate that there are<br/>strong multicollinearity or other numerical problems."
            ],
            "text/latex": "\\begin{center}\n\\begin{tabular}{lclc}\n\\toprule\n\\textbf{Dep. Variable:}    & Basinc\\_Dayanimi & \\textbf{  R-squared:         } &     0.084   \\\\\n\\textbf{Model:}            &       OLS        & \\textbf{  Adj. R-squared:    } &     0.083   \\\\\n\\textbf{Method:}           &  Least Squares   & \\textbf{  F-statistic:       } &     94.12   \\\\\n\\textbf{Date:}             & Mon, 07 Apr 2025 & \\textbf{  Prob (F-statistic):} &  2.37e-21   \\\\\n\\textbf{Time:}             &     18:08:18     & \\textbf{  Log-Likelihood:    } &   -4316.1   \\\\\n\\textbf{No. Observations:} &        1030      & \\textbf{  AIC:               } &     8636.   \\\\\n\\textbf{Df Residuals:}     &        1028      & \\textbf{  BIC:               } &     8646.   \\\\\n\\textbf{Df Model:}         &           1      & \\textbf{                     } &             \\\\\n\\textbf{Covariance Type:}  &    nonrobust     & \\textbf{                     } &             \\\\\n\\bottomrule\n\\end{tabular}\n\\begin{tabular}{lcccccc}\n                   & \\textbf{coef} & \\textbf{std err} & \\textbf{t} & \\textbf{P$> |$t$|$} & \\textbf{[0.025} & \\textbf{0.975]}  \\\\\n\\midrule\n\\textbf{Intercept} &      76.9524  &        4.269     &    18.025  &         0.000        &       68.575    &       85.330     \\\\\n\\textbf{Su}        &      -0.2266  &        0.023     &    -9.701  &         0.000        &       -0.272    &       -0.181     \\\\\n\\bottomrule\n\\end{tabular}\n\\begin{tabular}{lclc}\n\\textbf{Omnibus:}       & 33.418 & \\textbf{  Durbin-Watson:     } &    0.970  \\\\\n\\textbf{Prob(Omnibus):} &  0.000 & \\textbf{  Jarque-Bera (JB):  } &   24.860  \\\\\n\\textbf{Skew:}          &  0.281 & \\textbf{  Prob(JB):          } & 4.00e-06  \\\\\n\\textbf{Kurtosis:}      &  2.488 & \\textbf{  Cond. No.          } & 1.57e+03  \\\\\n\\bottomrule\n\\end{tabular}\n%\\caption{OLS Regression Results}\n\\end{center}\n\nNotes: \\newline\n [1] Standard Errors assume that the covariance matrix of the errors is correctly specified. \\newline\n [2] The condition number is large, 1.57e+03. This might indicate that there are \\newline\n strong multicollinearity or other numerical problems."
          },
          "metadata": {},
          "execution_count": 61
        }
      ]
    },
    {
      "cell_type": "code",
      "source": [
        "from sklearn.linear_model import LinearRegression\n",
        "model = LinearRegression().fit(x,y)\n",
        "model.coef_"
      ],
      "metadata": {
        "colab": {
          "base_uri": "https://localhost:8080/"
        },
        "id": "LowBaeI0pFRb",
        "outputId": "490b5c3c-e778-4f30-f3f2-19be6699fd3e"
      },
      "execution_count": null,
      "outputs": [
        {
          "output_type": "execute_result",
          "data": {
            "text/plain": [
              "array([[ 0.        , -0.22655403]])"
            ]
          },
          "metadata": {},
          "execution_count": 12
        }
      ]
    },
    {
      "cell_type": "code",
      "source": [
        "model.score(x, y)"
      ],
      "metadata": {
        "colab": {
          "base_uri": "https://localhost:8080/"
        },
        "id": "RC7rXOvB0xjY",
        "outputId": "a125ba1a-52ac-4b29-b01a-4a1808fd0e12"
      },
      "execution_count": null,
      "outputs": [
        {
          "output_type": "execute_result",
          "data": {
            "text/plain": [
              "0.08387596530148289"
            ]
          },
          "metadata": {},
          "execution_count": 13
        }
      ]
    },
    {
      "cell_type": "code",
      "source": [
        "model.predict(x)"
      ],
      "metadata": {
        "colab": {
          "base_uri": "https://localhost:8080/"
        },
        "id": "hkFQcyab0xgn",
        "outputId": "87889cd1-d400-4451-e442-611cc4b48aa2"
      },
      "execution_count": null,
      "outputs": [
        {
          "output_type": "execute_result",
          "data": {
            "text/plain": [
              "array([[40.25067339],\n",
              "       [40.25067339],\n",
              "       [25.29810732],\n",
              "       ...,\n",
              "       [33.29546463],\n",
              "       [37.16953856],\n",
              "       [31.50568778]])"
            ]
          },
          "metadata": {},
          "execution_count": 14
        }
      ]
    },
    {
      "cell_type": "code",
      "source": [
        "from sklearn.metrics import mean_squared_error, r2_score"
      ],
      "metadata": {
        "colab": {
          "base_uri": "https://localhost:8080/"
        },
        "id": "HLzBjIIG0xWt",
        "outputId": "0ea6888e-5dc4-4b65-c9d7-7dae67de3487"
      },
      "execution_count": null,
      "outputs": [
        {
          "output_type": "execute_result",
          "data": {
            "text/plain": [
              "255.4234111704966"
            ]
          },
          "metadata": {},
          "execution_count": 15
        }
      ]
    },
    {
      "cell_type": "code",
      "source": [
        "y = dat[\"Basinc_Dayanimi\"]\n",
        "x = dat.drop(\"Basinc_Dayanimi\", axis=1)\n",
        "x_train, x_test, y_train, y_test = train_test_split(x, y, test_size=0.2, random_state=42)\n",
        "model = LinearRegression()\n",
        "model.fit(x_train, y_train)\n",
        "y_pred = model.predict(x_test)\n",
        "mean_squared_error(y_test, y_pred)\n"
      ],
      "metadata": {
        "colab": {
          "base_uri": "https://localhost:8080/"
        },
        "id": "WyH155NU07X1",
        "outputId": "3bdc9374-0956-49b8-c71d-d16f0056d603"
      },
      "execution_count": 62,
      "outputs": [
        {
          "output_type": "execute_result",
          "data": {
            "text/plain": [
              "95.97548435337708"
            ]
          },
          "metadata": {},
          "execution_count": 62
        }
      ]
    },
    {
      "cell_type": "code",
      "source": [
        "r2_score(y_test, y_pred)"
      ],
      "metadata": {
        "id": "bxoZu-46cq4g",
        "outputId": "511634ac-8679-4d0b-9a40-f595d08d6841",
        "colab": {
          "base_uri": "https://localhost:8080/"
        }
      },
      "execution_count": 63,
      "outputs": [
        {
          "output_type": "execute_result",
          "data": {
            "text/plain": [
              "0.627541605542902"
            ]
          },
          "metadata": {},
          "execution_count": 63
        }
      ]
    },
    {
      "cell_type": "markdown",
      "source": [
        "# **COKLU DOGRUSAL REGRESYON**"
      ],
      "metadata": {
        "id": "XOdq-28e1BJu"
      }
    },
    {
      "cell_type": "code",
      "source": [
        "y = dat[\"Basinc_Dayanimi\"]\n",
        "x = dat.drop(\"Basinc_Dayanimi\", axis = 1)"
      ],
      "metadata": {
        "id": "3PYmppKz07RJ"
      },
      "execution_count": null,
      "outputs": []
    },
    {
      "cell_type": "code",
      "source": [
        "from sklearn.model_selection import train_test_split\n",
        "x_egitim, x_test, y_egitim, y_test = train_test_split(x, y, test_size=151, random_state=101)"
      ],
      "metadata": {
        "id": "e6tjaBu71btr"
      },
      "execution_count": null,
      "outputs": []
    },
    {
      "cell_type": "code",
      "source": [
        "model = sm.OLS(y_egitim, x_egitim).fit()\n",
        "model.summary()"
      ],
      "metadata": {
        "colab": {
          "base_uri": "https://localhost:8080/",
          "height": 587
        },
        "id": "bmXaXY-Y1gs7",
        "outputId": "83b2db5a-9189-4926-9823-e8e4a54a25ce"
      },
      "execution_count": null,
      "outputs": [
        {
          "output_type": "execute_result",
          "data": {
            "text/plain": [
              "<class 'statsmodels.iolib.summary.Summary'>\n",
              "\"\"\"\n",
              "                                 OLS Regression Results                                \n",
              "=======================================================================================\n",
              "Dep. Variable:        Basinc_Dayanimi   R-squared (uncentered):                   0.932\n",
              "Model:                            OLS   Adj. R-squared (uncentered):              0.932\n",
              "Method:                 Least Squares   F-statistic:                              1503.\n",
              "Date:                Mon, 07 Apr 2025   Prob (F-statistic):                        0.00\n",
              "Time:                        09:46:30   Log-Likelihood:                         -3291.7\n",
              "No. Observations:                 879   AIC:                                      6599.\n",
              "Df Residuals:                     871   BIC:                                      6638.\n",
              "Df Model:                           8                                                  \n",
              "Covariance Type:            nonrobust                                                  \n",
              "=======================================================================================\n",
              "                          coef    std err          t      P>|t|      [0.025      0.975]\n",
              "---------------------------------------------------------------------------------------\n",
              "Cimento                 0.1128      0.005     24.929      0.000       0.104       0.122\n",
              "Yuksek_Firin_Curufu     0.0948      0.006     16.969      0.000       0.084       0.106\n",
              "Ucucu_Kul               0.0810      0.008      9.604      0.000       0.064       0.098\n",
              "Su                     -0.1733      0.017     -9.966      0.000      -0.207      -0.139\n",
              "Akiskanlastirici        0.2658      0.094      2.832      0.005       0.082       0.450\n",
              "İri_Agregan             0.0094      0.003      2.889      0.004       0.003       0.016\n",
              "İnce_Agregan            0.0103      0.004      2.712      0.007       0.003       0.018\n",
              "Yas                     0.1192      0.006     19.862      0.000       0.107       0.131\n",
              "==============================================================================\n",
              "Omnibus:                        1.352   Durbin-Watson:                   1.947\n",
              "Prob(Omnibus):                  0.509   Jarque-Bera (JB):                1.280\n",
              "Skew:                          -0.092   Prob(JB):                        0.527\n",
              "Kurtosis:                       3.028   Cond. No.                         353.\n",
              "==============================================================================\n",
              "\n",
              "Notes:\n",
              "[1] R² is computed without centering (uncentered) since the model does not contain a constant.\n",
              "[2] Standard Errors assume that the covariance matrix of the errors is correctly specified.\n",
              "\"\"\""
            ],
            "text/html": [
              "<table class=\"simpletable\">\n",
              "<caption>OLS Regression Results</caption>\n",
              "<tr>\n",
              "  <th>Dep. Variable:</th>     <td>Basinc_Dayanimi</td> <th>  R-squared (uncentered):</th>      <td>   0.932</td>\n",
              "</tr>\n",
              "<tr>\n",
              "  <th>Model:</th>                   <td>OLS</td>       <th>  Adj. R-squared (uncentered):</th> <td>   0.932</td>\n",
              "</tr>\n",
              "<tr>\n",
              "  <th>Method:</th>             <td>Least Squares</td>  <th>  F-statistic:       </th>          <td>   1503.</td>\n",
              "</tr>\n",
              "<tr>\n",
              "  <th>Date:</th>             <td>Mon, 07 Apr 2025</td> <th>  Prob (F-statistic):</th>           <td>  0.00</td> \n",
              "</tr>\n",
              "<tr>\n",
              "  <th>Time:</th>                 <td>09:46:30</td>     <th>  Log-Likelihood:    </th>          <td> -3291.7</td>\n",
              "</tr>\n",
              "<tr>\n",
              "  <th>No. Observations:</th>      <td>   879</td>      <th>  AIC:               </th>          <td>   6599.</td>\n",
              "</tr>\n",
              "<tr>\n",
              "  <th>Df Residuals:</th>          <td>   871</td>      <th>  BIC:               </th>          <td>   6638.</td>\n",
              "</tr>\n",
              "<tr>\n",
              "  <th>Df Model:</th>              <td>     8</td>      <th>                     </th>              <td> </td>   \n",
              "</tr>\n",
              "<tr>\n",
              "  <th>Covariance Type:</th>      <td>nonrobust</td>    <th>                     </th>              <td> </td>   \n",
              "</tr>\n",
              "</table>\n",
              "<table class=\"simpletable\">\n",
              "<tr>\n",
              "           <td></td>              <th>coef</th>     <th>std err</th>      <th>t</th>      <th>P>|t|</th>  <th>[0.025</th>    <th>0.975]</th>  \n",
              "</tr>\n",
              "<tr>\n",
              "  <th>Cimento</th>             <td>    0.1128</td> <td>    0.005</td> <td>   24.929</td> <td> 0.000</td> <td>    0.104</td> <td>    0.122</td>\n",
              "</tr>\n",
              "<tr>\n",
              "  <th>Yuksek_Firin_Curufu</th> <td>    0.0948</td> <td>    0.006</td> <td>   16.969</td> <td> 0.000</td> <td>    0.084</td> <td>    0.106</td>\n",
              "</tr>\n",
              "<tr>\n",
              "  <th>Ucucu_Kul</th>           <td>    0.0810</td> <td>    0.008</td> <td>    9.604</td> <td> 0.000</td> <td>    0.064</td> <td>    0.098</td>\n",
              "</tr>\n",
              "<tr>\n",
              "  <th>Su</th>                  <td>   -0.1733</td> <td>    0.017</td> <td>   -9.966</td> <td> 0.000</td> <td>   -0.207</td> <td>   -0.139</td>\n",
              "</tr>\n",
              "<tr>\n",
              "  <th>Akiskanlastirici</th>    <td>    0.2658</td> <td>    0.094</td> <td>    2.832</td> <td> 0.005</td> <td>    0.082</td> <td>    0.450</td>\n",
              "</tr>\n",
              "<tr>\n",
              "  <th>İri_Agregan</th>         <td>    0.0094</td> <td>    0.003</td> <td>    2.889</td> <td> 0.004</td> <td>    0.003</td> <td>    0.016</td>\n",
              "</tr>\n",
              "<tr>\n",
              "  <th>İnce_Agregan </th>       <td>    0.0103</td> <td>    0.004</td> <td>    2.712</td> <td> 0.007</td> <td>    0.003</td> <td>    0.018</td>\n",
              "</tr>\n",
              "<tr>\n",
              "  <th>Yas</th>                 <td>    0.1192</td> <td>    0.006</td> <td>   19.862</td> <td> 0.000</td> <td>    0.107</td> <td>    0.131</td>\n",
              "</tr>\n",
              "</table>\n",
              "<table class=\"simpletable\">\n",
              "<tr>\n",
              "  <th>Omnibus:</th>       <td> 1.352</td> <th>  Durbin-Watson:     </th> <td>   1.947</td>\n",
              "</tr>\n",
              "<tr>\n",
              "  <th>Prob(Omnibus):</th> <td> 0.509</td> <th>  Jarque-Bera (JB):  </th> <td>   1.280</td>\n",
              "</tr>\n",
              "<tr>\n",
              "  <th>Skew:</th>          <td>-0.092</td> <th>  Prob(JB):          </th> <td>   0.527</td>\n",
              "</tr>\n",
              "<tr>\n",
              "  <th>Kurtosis:</th>      <td> 3.028</td> <th>  Cond. No.          </th> <td>    353.</td>\n",
              "</tr>\n",
              "</table><br/><br/>Notes:<br/>[1] R² is computed without centering (uncentered) since the model does not contain a constant.<br/>[2] Standard Errors assume that the covariance matrix of the errors is correctly specified."
            ],
            "text/latex": "\\begin{center}\n\\begin{tabular}{lclc}\n\\toprule\n\\textbf{Dep. Variable:}        & Basinc\\_Dayanimi & \\textbf{  R-squared (uncentered):}      &     0.932   \\\\\n\\textbf{Model:}                &       OLS        & \\textbf{  Adj. R-squared (uncentered):} &     0.932   \\\\\n\\textbf{Method:}               &  Least Squares   & \\textbf{  F-statistic:       }          &     1503.   \\\\\n\\textbf{Date:}                 & Mon, 07 Apr 2025 & \\textbf{  Prob (F-statistic):}          &     0.00    \\\\\n\\textbf{Time:}                 &     09:46:30     & \\textbf{  Log-Likelihood:    }          &   -3291.7   \\\\\n\\textbf{No. Observations:}     &         879      & \\textbf{  AIC:               }          &     6599.   \\\\\n\\textbf{Df Residuals:}         &         871      & \\textbf{  BIC:               }          &     6638.   \\\\\n\\textbf{Df Model:}             &           8      & \\textbf{                     }          &             \\\\\n\\textbf{Covariance Type:}      &    nonrobust     & \\textbf{                     }          &             \\\\\n\\bottomrule\n\\end{tabular}\n\\begin{tabular}{lcccccc}\n                               & \\textbf{coef} & \\textbf{std err} & \\textbf{t} & \\textbf{P$> |$t$|$} & \\textbf{[0.025} & \\textbf{0.975]}  \\\\\n\\midrule\n\\textbf{Cimento}               &       0.1128  &        0.005     &    24.929  &         0.000        &        0.104    &        0.122     \\\\\n\\textbf{Yuksek\\_Firin\\_Curufu} &       0.0948  &        0.006     &    16.969  &         0.000        &        0.084    &        0.106     \\\\\n\\textbf{Ucucu\\_Kul}            &       0.0810  &        0.008     &     9.604  &         0.000        &        0.064    &        0.098     \\\\\n\\textbf{Su}                    &      -0.1733  &        0.017     &    -9.966  &         0.000        &       -0.207    &       -0.139     \\\\\n\\textbf{Akiskanlastirici}      &       0.2658  &        0.094     &     2.832  &         0.005        &        0.082    &        0.450     \\\\\n\\textbf{İri\\_Agregan}          &       0.0094  &        0.003     &     2.889  &         0.004        &        0.003    &        0.016     \\\\\n\\textbf{İnce\\_Agregan }        &       0.0103  &        0.004     &     2.712  &         0.007        &        0.003    &        0.018     \\\\\n\\textbf{Yas}                   &       0.1192  &        0.006     &    19.862  &         0.000        &        0.107    &        0.131     \\\\\n\\bottomrule\n\\end{tabular}\n\\begin{tabular}{lclc}\n\\textbf{Omnibus:}       &  1.352 & \\textbf{  Durbin-Watson:     } &    1.947  \\\\\n\\textbf{Prob(Omnibus):} &  0.509 & \\textbf{  Jarque-Bera (JB):  } &    1.280  \\\\\n\\textbf{Skew:}          & -0.092 & \\textbf{  Prob(JB):          } &    0.527  \\\\\n\\textbf{Kurtosis:}      &  3.028 & \\textbf{  Cond. No.          } &     353.  \\\\\n\\bottomrule\n\\end{tabular}\n%\\caption{OLS Regression Results}\n\\end{center}\n\nNotes: \\newline\n [1] R² is computed without centering (uncentered) since the model does not contain a constant. \\newline\n [2] Standard Errors assume that the covariance matrix of the errors is correctly specified."
          },
          "metadata": {},
          "execution_count": 19
        }
      ]
    },
    {
      "cell_type": "code",
      "source": [
        "fit = model.predict(x)\n",
        "mean_squared_error(y, fit)"
      ],
      "metadata": {
        "colab": {
          "base_uri": "https://localhost:8080/"
        },
        "id": "2nHEwXty1bq9",
        "outputId": "d6d852ce-442f-4dfc-f314-137c8c28e998"
      },
      "execution_count": null,
      "outputs": [
        {
          "output_type": "execute_result",
          "data": {
            "text/plain": [
              "107.508038200126"
            ]
          },
          "metadata": {},
          "execution_count": 20
        }
      ]
    },
    {
      "cell_type": "code",
      "source": [
        "r2_score(y, fit)"
      ],
      "metadata": {
        "colab": {
          "base_uri": "https://localhost:8080/"
        },
        "id": "qu0HfEzX1bot",
        "outputId": "c627580c-5a04-4bc8-9d7f-fda22db3f2f2"
      },
      "execution_count": null,
      "outputs": [
        {
          "output_type": "execute_result",
          "data": {
            "text/plain": [
              "0.614402230135911"
            ]
          },
          "metadata": {},
          "execution_count": 21
        }
      ]
    },
    {
      "cell_type": "code",
      "source": [
        "pred = model.predict(x_test)\n",
        "mean_squared_error(y_test, pred)"
      ],
      "metadata": {
        "colab": {
          "base_uri": "https://localhost:8080/"
        },
        "id": "lrYukmgM1bmQ",
        "outputId": "6c776eb9-7be7-4ec5-b41a-33f29f46ac24"
      },
      "execution_count": null,
      "outputs": [
        {
          "output_type": "execute_result",
          "data": {
            "text/plain": [
              "123.40037124858337"
            ]
          },
          "metadata": {},
          "execution_count": 22
        }
      ]
    },
    {
      "cell_type": "code",
      "source": [
        "r2_score(y_test, pred)"
      ],
      "metadata": {
        "colab": {
          "base_uri": "https://localhost:8080/"
        },
        "id": "4n-CRxO52G3J",
        "outputId": "44309ff2-2f73-43bc-dd5f-7f84da3c8159"
      },
      "execution_count": null,
      "outputs": [
        {
          "output_type": "execute_result",
          "data": {
            "text/plain": [
              "0.6084444858105594"
            ]
          },
          "metadata": {},
          "execution_count": 23
        }
      ]
    },
    {
      "cell_type": "code",
      "source": [
        "import seaborn as sb\n",
        "import matplotlib.pyplot as mp\n",
        "from sklearn.preprocessing import scale\n",
        "from sklearn.decomposition import PCA\n",
        "from sklearn import model_selection\n",
        "from sklearn.model_selection import KFold"
      ],
      "metadata": {
        "id": "ecdyiWHxB2z_"
      },
      "execution_count": null,
      "outputs": []
    },
    {
      "cell_type": "markdown",
      "source": [
        "#k-fold cross-validation"
      ],
      "metadata": {
        "id": "iXls8Q2bEe--"
      }
    },
    {
      "cell_type": "code",
      "source": [
        "cv= KFold(n_splits=5,shuffle=True,random_state=50)\n",
        "Y= dat[[\"Basinc_Dayanimi\"]]\n",
        "X= dat.drop(\"Basinc_Dayanimi\",axis=1)\n",
        "x_egitim, x_test, y_egitim, y_test= train_test_split(X,Y,test_size=151,random_state=50)"
      ],
      "metadata": {
        "id": "mvOnrmmcB224"
      },
      "execution_count": 64,
      "outputs": []
    },
    {
      "cell_type": "code",
      "source": [
        "pca= PCA()\n",
        "x_egitim_scaled= pca.fit_transform(scale(x_egitim))\n",
        "from sklearn.linear_model import LinearRegression\n",
        "reg= LinearRegression()\n",
        "mse=[]\n",
        "for i in np.arange(1,10):\n",
        "    score = -1*model_selection.cross_val_score(reg,\n",
        "                                               x_egitim_scaled[:,:i], y_egitim,\n",
        "                                               cv=cv,scoring=\"neg_mean_squared_error\").mean()\n",
        "    mse.append(score)\n",
        "\n",
        "print(mse)"
      ],
      "metadata": {
        "id": "f43A0M9TB24_",
        "outputId": "30661e69-1e96-4028-9d81-742b4cea1bd5",
        "colab": {
          "base_uri": "https://localhost:8080/"
        }
      },
      "execution_count": 65,
      "outputs": [
        {
          "output_type": "stream",
          "name": "stdout",
          "text": [
            "[np.float64(282.12638270556187), np.float64(244.77306649695143), np.float64(189.98413524780472), np.float64(188.92976569994843), np.float64(153.09715714944963), np.float64(126.96572087600063), np.float64(117.61848046986215), np.float64(113.98033444141231), np.float64(113.98033444141231)]\n"
          ]
        }
      ]
    },
    {
      "cell_type": "code",
      "source": [
        "mp.plot(mse)\n"
      ],
      "metadata": {
        "id": "7Ma-ifczB26-",
        "outputId": "63075119-25b8-4386-ffeb-07677a39e199",
        "colab": {
          "base_uri": "https://localhost:8080/",
          "height": 447
        }
      },
      "execution_count": 66,
      "outputs": [
        {
          "output_type": "execute_result",
          "data": {
            "text/plain": [
              "[<matplotlib.lines.Line2D at 0x799bdcf1cf10>]"
            ]
          },
          "metadata": {},
          "execution_count": 66
        },
        {
          "output_type": "display_data",
          "data": {
            "text/plain": [
              "<Figure size 640x480 with 1 Axes>"
            ],
            "image/png": "[encoded data removed]"
          },
          "metadata": {}
        }
      ]
    },
    {
      "cell_type": "code",
      "source": [
        "model= LinearRegression()\n",
        "pcreg= model.fit(x_egitim_scaled, y_egitim)\n",
        "yhat= pcreg.predict(x_egitim_scaled)\n",
        "pcreg.coef_"
      ],
      "metadata": {
        "id": "0oycehtLB28i",
        "outputId": "c2517061-a096-407d-fc6d-68190972b494",
        "colab": {
          "base_uri": "https://localhost:8080/"
        }
      },
      "execution_count": 67,
      "outputs": [
        {
          "output_type": "execute_result",
          "data": {
            "text/plain": [
              "array([[-0.39069077, -5.17476952,  6.40960179,  1.05825098, -6.16960192,\n",
              "         5.94390818, -7.35167884, 11.1724878 ]])"
            ]
          },
          "metadata": {},
          "execution_count": 67
        }
      ]
    },
    {
      "cell_type": "code",
      "source": [
        "x_test_scaled= pca.fit_transform(scale(x_test))\n",
        "predicted_Y=pcreg.predict(x_test_scaled)\n",
        "from sklearn.metrics import r2_score, mean_squared_error\n",
        "r2_score(y_egitim, yhat)"
      ],
      "metadata": {
        "id": "twwq_iwfB2-F",
        "outputId": "4160b231-cc21-4419-a46f-90464c3694c1",
        "colab": {
          "base_uri": "https://localhost:8080/"
        }
      },
      "execution_count": 68,
      "outputs": [
        {
          "output_type": "execute_result",
          "data": {
            "text/plain": [
              "0.607354288625094"
            ]
          },
          "metadata": {},
          "execution_count": 68
        }
      ]
    },
    {
      "cell_type": "code",
      "source": [
        "mean_squared_error(y_egitim, yhat)"
      ],
      "metadata": {
        "id": "KUl7SNRyEUP7",
        "outputId": "979e88d1-c245-452f-e217-f9d6c3eec47a",
        "colab": {
          "base_uri": "https://localhost:8080/"
        }
      },
      "execution_count": 72,
      "outputs": [
        {
          "output_type": "execute_result",
          "data": {
            "text/plain": [
              "110.5703520860252"
            ]
          },
          "metadata": {},
          "execution_count": 72
        }
      ]
    },
    {
      "cell_type": "markdown",
      "source": [
        "#Partial Least Squares (PLS)"
      ],
      "metadata": {
        "id": "8EJsqmePEoU4"
      }
    },
    {
      "cell_type": "code",
      "source": [
        "from sklearn.cross_decomposition import PLSRegression\n",
        "pls_model= PLSRegression().fit(x_egitim, y_egitim)\n",
        "pls_model.coef_"
      ],
      "metadata": {
        "id": "-lUxO6HCETEL",
        "outputId": "59b96cca-801e-45bf-c56a-b24532f3bea7",
        "colab": {
          "base_uri": "https://localhost:8080/"
        }
      },
      "execution_count": 73,
      "outputs": [
        {
          "output_type": "execute_result",
          "data": {
            "text/plain": [
              "array([[ 0.06376871,  0.03300509, -0.0067763 , -0.21025534,  0.73285895,\n",
              "        -0.01379715, -0.04468888,  0.10540647]])"
            ]
          },
          "metadata": {},
          "execution_count": 73
        }
      ]
    },
    {
      "cell_type": "code",
      "source": [
        "yhat_pls= pls_model.predict(x_egitim)\n",
        "mean_squared_error(y_egitim, yhat_pls)"
      ],
      "metadata": {
        "id": "JNdg3cQRETGE",
        "outputId": "12b1462e-f198-4983-a109-0f26716f6040",
        "colab": {
          "base_uri": "https://localhost:8080/"
        }
      },
      "execution_count": 74,
      "outputs": [
        {
          "output_type": "execute_result",
          "data": {
            "text/plain": [
              "119.07230518560259"
            ]
          },
          "metadata": {},
          "execution_count": 74
        }
      ]
    },
    {
      "cell_type": "code",
      "source": [
        "r2_score(y_egitim, yhat_pls)"
      ],
      "metadata": {
        "id": "UvpYYtFXdvEO",
        "outputId": "d17cc2eb-1b89-4cb6-fdf8-11bd1af4ab7f",
        "colab": {
          "base_uri": "https://localhost:8080/"
        }
      },
      "execution_count": 75,
      "outputs": [
        {
          "output_type": "execute_result",
          "data": {
            "text/plain": [
              "0.5771630541767995"
            ]
          },
          "metadata": {},
          "execution_count": 75
        }
      ]
    },
    {
      "cell_type": "markdown",
      "source": [
        "#Hyperparameter tuning"
      ],
      "metadata": {
        "id": "Xck-LadEE37q"
      }
    },
    {
      "cell_type": "code",
      "source": [
        "from sklearn.model_selection import cross_val_predict\n",
        "def optimum_pls(x,y,ncomp):\n",
        "    model= PLSRegression(n_components=ncomp)\n",
        "    cv.step= cross_val_predict(model, x,y,cv=10)\n",
        "    mse= mean_squared_error(y, cv.step)\n",
        "    rsq= r2_score(y, cv.step)\n",
        "    return(cv.step,rsq,mse)"
      ],
      "metadata": {
        "id": "GIkjLQvYETH8"
      },
      "execution_count": null,
      "outputs": []
    },
    {
      "cell_type": "code",
      "source": [
        "r2=[]\n",
        "mse_sonuc=[]\n",
        "for i in np.arange(1,9):\n",
        "    cv.step,rsq,mse= optimum_pls(x_egitim, y_egitim, i)\n",
        "    r2.append(rsq)\n",
        "    mse_sonuc.append(mse)\n",
        "mse_sonuc"
      ],
      "metadata": {
        "id": "IATzxY8jFANF",
        "outputId": "aa2217dc-44d4-4768-e452-a3d8709a51e8",
        "colab": {
          "base_uri": "https://localhost:8080/"
        }
      },
      "execution_count": null,
      "outputs": [
        {
          "output_type": "execute_result",
          "data": {
            "text/plain": [
              "[130.98430144523763,\n",
              " 121.24462179466481,\n",
              " 119.25252263459548,\n",
              " 115.94921451979612,\n",
              " 115.0499941407761,\n",
              " 114.87120711179247,\n",
              " 113.00968459426957,\n",
              " 113.04845509867039]"
            ]
          },
          "metadata": {},
          "execution_count": 36
        }
      ]
    },
    {
      "cell_type": "code",
      "source": [
        "r2"
      ],
      "metadata": {
        "id": "MLRwDs6jETJp",
        "outputId": "759a891c-2388-4dba-e37f-024653aafd52",
        "colab": {
          "base_uri": "https://localhost:8080/"
        }
      },
      "execution_count": 76,
      "outputs": [
        {
          "output_type": "execute_result",
          "data": {
            "text/plain": [
              "[]"
            ]
          },
          "metadata": {},
          "execution_count": 76
        }
      ]
    },
    {
      "cell_type": "code",
      "source": [
        "model3= PLSRegression(n_components=4).fit(x_egitim, y_egitim)\n",
        "ypred3= model3.predict(x_test)"
      ],
      "metadata": {
        "id": "pMxDkI2aSNhX"
      },
      "execution_count": 77,
      "outputs": []
    },
    {
      "cell_type": "code",
      "source": [
        "model14= PLSRegression(n_components=8).fit(x_egitim, y_egitim)\n",
        "ypred14= model14.predict(x_test)\n",
        "mean_squared_error(y_test, ypred3)"
      ],
      "metadata": {
        "id": "gRADZNYoSNly",
        "outputId": "708658f8-a140-405e-d791-31da1d6dd6ae",
        "colab": {
          "base_uri": "https://localhost:8080/"
        }
      },
      "execution_count": 78,
      "outputs": [
        {
          "output_type": "execute_result",
          "data": {
            "text/plain": [
              "91.772026894556"
            ]
          },
          "metadata": {},
          "execution_count": 78
        }
      ]
    },
    {
      "cell_type": "code",
      "source": [
        "mean_squared_error(y_test, ypred14)"
      ],
      "metadata": {
        "id": "VAyhjreNSNnm",
        "outputId": "37086589-0a24-4c8b-b8e1-7fd14b9680f6",
        "colab": {
          "base_uri": "https://localhost:8080/"
        }
      },
      "execution_count": 79,
      "outputs": [
        {
          "output_type": "execute_result",
          "data": {
            "text/plain": [
              "88.28798549091287"
            ]
          },
          "metadata": {},
          "execution_count": 79
        }
      ]
    },
    {
      "cell_type": "code",
      "source": [
        "r2_score(y_test, ypred3)"
      ],
      "metadata": {
        "id": "jTLgc9CiSNpm",
        "outputId": "ef7a2735-da42-41d5-9d01-88738865a85d",
        "colab": {
          "base_uri": "https://localhost:8080/"
        }
      },
      "execution_count": 80,
      "outputs": [
        {
          "output_type": "execute_result",
          "data": {
            "text/plain": [
              "0.6382216772570841"
            ]
          },
          "metadata": {},
          "execution_count": 80
        }
      ]
    },
    {
      "cell_type": "code",
      "source": [
        "r2_score(y_test, ypred14)"
      ],
      "metadata": {
        "id": "fTjqt7mcSeRk",
        "outputId": "632feff8-fbfe-45d3-9f88-8e44cd5fee82",
        "colab": {
          "base_uri": "https://localhost:8080/"
        }
      },
      "execution_count": 81,
      "outputs": [
        {
          "output_type": "execute_result",
          "data": {
            "text/plain": [
              "0.6519562617271984"
            ]
          },
          "metadata": {},
          "execution_count": 81
        }
      ]
    },
    {
      "cell_type": "markdown",
      "source": [
        "#Ridge Regresyon"
      ],
      "metadata": {
        "id": "mSrxm6Z5ksJk"
      }
    },
    {
      "cell_type": "code",
      "source": [
        "from sklearn.linear_model import Ridge\n",
        "ridge_model = Ridge(alpha=0.35).fit(x_egitim, y_egitim)\n",
        "ridge_model.coef_"
      ],
      "metadata": {
        "id": "pePTuRxzShzN",
        "colab": {
          "base_uri": "https://localhost:8080/"
        },
        "outputId": "54a49094-5168-4c26-f4d4-b5fd73f293da"
      },
      "execution_count": 82,
      "outputs": [
        {
          "output_type": "execute_result",
          "data": {
            "text/plain": [
              "array([ 0.11687791,  0.10043681,  0.08280982, -0.1568737 ,  0.29465768,\n",
              "        0.01743749,  0.01509142,  0.11151259])"
            ]
          },
          "metadata": {},
          "execution_count": 82
        }
      ]
    },
    {
      "cell_type": "code",
      "source": [
        "yhat_ridge = ridge_model.predict(x_egitim)\n",
        "mean_squared_error(y_egitim, yhat_ridge)"
      ],
      "metadata": {
        "colab": {
          "base_uri": "https://localhost:8080/"
        },
        "id": "-gK_VWzTkPLC",
        "outputId": "2e5cecdd-1c35-464d-d8ed-a093948e2846"
      },
      "execution_count": 83,
      "outputs": [
        {
          "output_type": "execute_result",
          "data": {
            "text/plain": [
              "110.57035208688514"
            ]
          },
          "metadata": {},
          "execution_count": 83
        }
      ]
    },
    {
      "cell_type": "code",
      "source": [
        "r2_score(y_egitim, yhat_ridge)"
      ],
      "metadata": {
        "colab": {
          "base_uri": "https://localhost:8080/"
        },
        "id": "143fGN0AlE4X",
        "outputId": "f49b1308-c7c7-4dc2-809d-64ceaf4dd9e2"
      },
      "execution_count": 84,
      "outputs": [
        {
          "output_type": "execute_result",
          "data": {
            "text/plain": [
              "0.6073542886220402"
            ]
          },
          "metadata": {},
          "execution_count": 84
        }
      ]
    },
    {
      "cell_type": "markdown",
      "source": [
        "#Lasso Regresoynu"
      ],
      "metadata": {
        "id": "kdlXnR5olgyM"
      }
    },
    {
      "cell_type": "code",
      "source": [
        "from sklearn.linear_model import Lasso\n",
        "lasso_model = Lasso(alpha=0.35).fit(x_egitim, y_egitim)\n",
        "yhat_lasso = lasso_model.predict(x_egitim)\n",
        "mean_squared_error(y_egitim, yhat_lasso)"
      ],
      "metadata": {
        "colab": {
          "base_uri": "https://localhost:8080/"
        },
        "id": "uVWpp7V_lFD2",
        "outputId": "b0cc4924-9b7a-4d69-8e8f-dbf1e8644ea9"
      },
      "execution_count": 88,
      "outputs": [
        {
          "output_type": "execute_result",
          "data": {
            "text/plain": [
              "110.57755124707936"
            ]
          },
          "metadata": {},
          "execution_count": 88
        }
      ]
    },
    {
      "cell_type": "code",
      "source": [
        "r2_score(y_egitim, yhat_lasso)"
      ],
      "metadata": {
        "colab": {
          "base_uri": "https://localhost:8080/"
        },
        "id": "ydT70mLIlFH4",
        "outputId": "4834cebd-776d-4f63-b91c-eed4d5029b0e"
      },
      "execution_count": 89,
      "outputs": [
        {
          "output_type": "execute_result",
          "data": {
            "text/plain": [
              "0.6073287237276319"
            ]
          },
          "metadata": {},
          "execution_count": 89
        }
      ]
    },
    {
      "cell_type": "code",
      "source": [
        "from sklearn.linear_model import LassoCV\n",
        "from sklearn.preprocessing import StandardScaler\n",
        "scaler = StandardScaler()\n",
        "x_egitim_scaled = scaler.fit_transform(x_egitim)\n",
        "x_test_scaled = scaler.transform(x_test)\n",
        "lasso_model = LassoCV(cv=10, random_state=101, max_iter=10000).fit(x_egitim_scaled, y_egitim.values.ravel())\n",
        "lasso_model.alpha_"
      ],
      "metadata": {
        "colab": {
          "base_uri": "https://localhost:8080/"
        },
        "id": "PoY3T9C0lFLa",
        "outputId": "afa17407-65c0-47c0-e17a-36ca06429272"
      },
      "execution_count": 90,
      "outputs": [
        {
          "output_type": "execute_result",
          "data": {
            "text/plain": [
              "np.float64(0.008482302109609239)"
            ]
          },
          "metadata": {},
          "execution_count": 90
        }
      ]
    },
    {
      "cell_type": "code",
      "source": [
        "lasso_model = Lasso(alpha=lasso_model.alpha_).fit(x_egitim, y_egitim)\n",
        "yhat_lasso = lasso_model.predict(x_test)\n",
        "mean_squared_error(y_test, yhat_lasso)"
      ],
      "metadata": {
        "colab": {
          "base_uri": "https://localhost:8080/"
        },
        "id": "vti-XBFkl1PW",
        "outputId": "d6bb2d6a-91e6-44cd-a4dd-c5056b2231ed"
      },
      "execution_count": 91,
      "outputs": [
        {
          "output_type": "execute_result",
          "data": {
            "text/plain": [
              "91.1204917270345"
            ]
          },
          "metadata": {},
          "execution_count": 91
        }
      ]
    },
    {
      "cell_type": "code",
      "source": [
        "r2_score(y_test, yhat_lasso)"
      ],
      "metadata": {
        "colab": {
          "base_uri": "https://localhost:8080/"
        },
        "id": "jRI_8S_Xl1T1",
        "outputId": "c72a4514-b89a-464f-b831-461248cc3b4c"
      },
      "execution_count": 92,
      "outputs": [
        {
          "output_type": "execute_result",
          "data": {
            "text/plain": [
              "0.6463826957535082"
            ]
          },
          "metadata": {},
          "execution_count": 92
        }
      ]
    },
    {
      "cell_type": "markdown",
      "source": [
        "#KNN"
      ],
      "metadata": {
        "id": "Mis8expQmUG8"
      }
    },
    {
      "cell_type": "code",
      "source": [
        "from sklearn.neighbors import KNeighborsRegressor\n",
        "KNN_model = KNeighborsRegressor().fit(x_egitim, y_egitim)\n",
        "yhatKNN = KNN_model.predict(x_egitim)\n",
        "mean_squared_error(y_egitim, yhatKNN)"
      ],
      "metadata": {
        "colab": {
          "base_uri": "https://localhost:8080/"
        },
        "id": "jEJxXXvgl1XO",
        "outputId": "0fc3c21e-b421-4aa6-af2f-e3ad525356e6"
      },
      "execution_count": 93,
      "outputs": [
        {
          "output_type": "execute_result",
          "data": {
            "text/plain": [
              "52.05857447455609"
            ]
          },
          "metadata": {},
          "execution_count": 93
        }
      ]
    },
    {
      "cell_type": "code",
      "source": [
        "r2_score(y_egitim, yhatKNN)"
      ],
      "metadata": {
        "colab": {
          "base_uri": "https://localhost:8080/"
        },
        "id": "ii55_AV6l1aZ",
        "outputId": "e77c9315-98e8-404b-86ea-1e75fd58e419"
      },
      "execution_count": 94,
      "outputs": [
        {
          "output_type": "execute_result",
          "data": {
            "text/plain": [
              "0.8151351097098564"
            ]
          },
          "metadata": {},
          "execution_count": 94
        }
      ]
    },
    {
      "cell_type": "markdown",
      "source": [
        "#KNN_Grid Search"
      ],
      "metadata": {
        "id": "fKN2PRrtmqrf"
      }
    },
    {
      "cell_type": "code",
      "source": [
        "from sklearn.model_selection import GridSearchCV\n",
        "y = dat[\"Basinc_Dayanimi\"]\n",
        "x = dat.drop(\"Basinc_Dayanimi\", axis=1)\n",
        "\n",
        "x_train, x_test, y_train, y_test = train_test_split(x, y, test_size=0.2, random_state=42)\n",
        "\n",
        "knn = KNeighborsRegressor()\n",
        "param_grid = {\n",
        "    'n_neighbors': [3, 5, 7, 9, 11],\n",
        "    'weights': ['uniform', 'distance']\n",
        "}\n",
        "\n",
        "grid_search = GridSearchCV(knn, param_grid, scoring='neg_mean_squared_error', cv=5)\n",
        "grid_search.fit(x_train, y_train)\n",
        "grid_search.best_params_"
      ],
      "metadata": {
        "colab": {
          "base_uri": "https://localhost:8080/"
        },
        "id": "zKr6UW9Pl1d4",
        "outputId": "18248708-d855-4913-bf66-606d5551708e"
      },
      "execution_count": 95,
      "outputs": [
        {
          "output_type": "execute_result",
          "data": {
            "text/plain": [
              "{'n_neighbors': 7, 'weights': 'distance'}"
            ]
          },
          "metadata": {},
          "execution_count": 95
        }
      ]
    },
    {
      "cell_type": "code",
      "source": [
        "knn_best = KNeighborsRegressor(n_neighbors=7)\n",
        "knn_best.fit(x_train, y_train)\n",
        "y_pred = knn_best.predict(x_test)\n",
        "mean_squared_error(y_test, y_pred)"
      ],
      "metadata": {
        "id": "ot3SyzZUfdmO",
        "outputId": "fff27028-f76d-419c-cd00-46145aec9043",
        "colab": {
          "base_uri": "https://localhost:8080/"
        }
      },
      "execution_count": 96,
      "outputs": [
        {
          "output_type": "execute_result",
          "data": {
            "text/plain": [
              "77.02652662524335"
            ]
          },
          "metadata": {},
          "execution_count": 96
        }
      ]
    },
    {
      "cell_type": "code",
      "source": [
        "r2_score(y_test, y_pred)"
      ],
      "metadata": {
        "id": "8C6L17pcf85P",
        "outputId": "aeeaed9f-49a3-419e-943e-16d52d7f5347",
        "colab": {
          "base_uri": "https://localhost:8080/"
        }
      },
      "execution_count": 97,
      "outputs": [
        {
          "output_type": "execute_result",
          "data": {
            "text/plain": [
              "0.701078076023947"
            ]
          },
          "metadata": {},
          "execution_count": 97
        }
      ]
    },
    {
      "cell_type": "markdown",
      "source": [
        "#Support Vector Machines (SVR) Regresyonu\n"
      ],
      "metadata": {
        "id": "C66bcM4AnKx2"
      }
    },
    {
      "cell_type": "code",
      "source": [
        "from sklearn.svm import SVR\n",
        "model_svr = SVR(kernel=\"linear\")\n",
        "model_svr.fit(x_egitim, y_egitim.values.ravel())\n",
        "y_pred = model_svr.predict(x_test)\n",
        "mean_squared_error(y_test, y_pred)"
      ],
      "metadata": {
        "colab": {
          "base_uri": "https://localhost:8080/"
        },
        "id": "l9yq-8PCm6jm",
        "outputId": "32afbfbb-6307-4057-f295-176ac2113b2f"
      },
      "execution_count": 98,
      "outputs": [
        {
          "output_type": "execute_result",
          "data": {
            "text/plain": [
              "99.84478917840978"
            ]
          },
          "metadata": {},
          "execution_count": 98
        }
      ]
    },
    {
      "cell_type": "code",
      "source": [
        "r2_score(y_test, y_pred)"
      ],
      "metadata": {
        "colab": {
          "base_uri": "https://localhost:8080/"
        },
        "id": "0Udm6VOon9lU",
        "outputId": "fc77e794-bdac-4028-e6b7-f541f67b9891"
      },
      "execution_count": 99,
      "outputs": [
        {
          "output_type": "execute_result",
          "data": {
            "text/plain": [
              "0.6125257390171284"
            ]
          },
          "metadata": {},
          "execution_count": 99
        }
      ]
    },
    {
      "cell_type": "markdown",
      "source": [
        "#Dogrusal olmayan SVR"
      ],
      "metadata": {
        "id": "EM_ZFCSDn6PJ"
      }
    },
    {
      "cell_type": "code",
      "source": [
        "model_svr2 = SVR(kernel=\"rbf\").fit(x_egitim, y_egitim.values.ravel())\n",
        "y_pred2 = model_svr2.predict(x_test)\n",
        "mean_squared_error(y_test, y_pred2)"
      ],
      "metadata": {
        "colab": {
          "base_uri": "https://localhost:8080/"
        },
        "id": "ffoCRN5ol1j4",
        "outputId": "111496c3-8435-4682-ca86-f1346d58e2fe"
      },
      "execution_count": null,
      "outputs": [
        {
          "output_type": "execute_result",
          "data": {
            "text/plain": [
              "197.89234922826202"
            ]
          },
          "metadata": {},
          "execution_count": 67
        }
      ]
    },
    {
      "cell_type": "code",
      "source": [
        "r2_score(y_test, y_pred2)"
      ],
      "metadata": {
        "colab": {
          "base_uri": "https://localhost:8080/"
        },
        "id": "C9V5R20Pl1mj",
        "outputId": "a779b031-0198-415a-dea9-fa565ca6dd98"
      },
      "execution_count": null,
      "outputs": [
        {
          "output_type": "execute_result",
          "data": {
            "text/plain": [
              "0.2320261036920903"
            ]
          },
          "metadata": {},
          "execution_count": 68
        }
      ]
    },
    {
      "cell_type": "markdown",
      "source": [
        "#Yapay Sinir Aglari (ANN - MLP)"
      ],
      "metadata": {
        "id": "tV9Lz5-hrXAF"
      }
    },
    {
      "cell_type": "code",
      "source": [
        "from sklearn.model_selection import train_test_split\n",
        "from sklearn.neural_network import MLPRegressor\n",
        "from sklearn.preprocessing import StandardScaler\n",
        "x_egitim, x_test, y_egitim, y_test = train_test_split(x, y, test_size=0.2, random_state=42)\n",
        "scl = StandardScaler().fit(x_egitim)\n",
        "x_egitim_scl = scl.transform(x_egitim)\n",
        "x_test_scl = scl.transform(x_test)\n",
        "ann_model = MLPRegressor(max_iter=5000, random_state=42, early_stopping=True)\n",
        "ann_model.fit(x_egitim_scl, y_egitim)\n",
        "ann_pred = ann_model.predict(x_test_scl)\n",
        "mean_squared_error(y_test, ann_pred)"
      ],
      "metadata": {
        "colab": {
          "base_uri": "https://localhost:8080/"
        },
        "id": "1aTi3ml2l1pN",
        "outputId": "205f6f75-88a9-44cc-9096-26fe302d8e82"
      },
      "execution_count": 102,
      "outputs": [
        {
          "output_type": "execute_result",
          "data": {
            "text/plain": [
              "38.47947587658203"
            ]
          },
          "metadata": {},
          "execution_count": 102
        }
      ]
    },
    {
      "cell_type": "code",
      "source": [
        "r2_score(y_test, ann_pred)"
      ],
      "metadata": {
        "id": "_B_AbwhM4ehH",
        "outputId": "b1bc0a6d-7522-467e-fcec-ebbe163ab41e",
        "colab": {
          "base_uri": "https://localhost:8080/"
        }
      },
      "execution_count": 103,
      "outputs": [
        {
          "output_type": "execute_result",
          "data": {
            "text/plain": [
              "0.8506701591442598"
            ]
          },
          "metadata": {},
          "execution_count": 103
        }
      ]
    },
    {
      "cell_type": "markdown",
      "source": [
        "Parametre Optimizasyonu"
      ],
      "metadata": {
        "id": "Gb0DOg9n5q-L"
      }
    },
    {
      "cell_type": "code",
      "source": [
        "print(x_egitim_scl.shape)\n",
        "print(y_egitim.shape)"
      ],
      "metadata": {
        "id": "z9JkAZ_fpj1c",
        "outputId": "35047fae-4388-4a9b-b448-63ffaa8ad648",
        "colab": {
          "base_uri": "https://localhost:8080/"
        }
      },
      "execution_count": 104,
      "outputs": [
        {
          "output_type": "stream",
          "name": "stdout",
          "text": [
            "(824, 8)\n",
            "(824,)\n"
          ]
        }
      ]
    },
    {
      "cell_type": "code",
      "source": [
        "from sklearn.model_selection import GridSearchCV\n",
        "from sklearn.neural_network import MLPRegressor\n",
        "\n",
        "params_ann = {\n",
        "    \"alpha\": [0.1, 0.01, 0.02, 0.005],\n",
        "    \"hidden_layer_sizes\": [(20, 20), (100, 50, 150), (300, 200, 100)],\n",
        "    \"activation\": [\"relu\", \"logistic\"]\n",
        "}\n",
        "gs_ann_model = GridSearchCV(\n",
        "    MLPRegressor(max_iter=5000, random_state=42, early_stopping=True),\n",
        "    params_ann,\n",
        "    cv=5\n",
        ")\n",
        "gs_ann_model.fit(x_egitim_scl, y_egitim)\n",
        "best_params = gs_ann_model.best_params_\n",
        "best_params"
      ],
      "metadata": {
        "id": "KOArvekXwE7y",
        "colab": {
          "base_uri": "https://localhost:8080/"
        },
        "outputId": "bd502630-136b-477d-f58e-1d3b082fea5c"
      },
      "execution_count": 105,
      "outputs": [
        {
          "output_type": "execute_result",
          "data": {
            "text/plain": [
              "{'activation': 'relu', 'alpha': 0.1, 'hidden_layer_sizes': (100, 50, 150)}"
            ]
          },
          "metadata": {},
          "execution_count": 105
        }
      ]
    },
    {
      "cell_type": "code",
      "source": [
        "best_ann = MLPRegressor(**best_params, max_iter=5000, random_state=42).fit(x_egitim_scl, y_egitim)\n",
        "best_pred = best_ann.predict(x_test_scl)\n",
        "mean_squared_error(y_test, best_pred)"
      ],
      "metadata": {
        "id": "9cBQcnQmqUr2",
        "outputId": "06c996a5-74d4-49e3-deb6-7d5a55bc4a0c",
        "colab": {
          "base_uri": "https://localhost:8080/"
        }
      },
      "execution_count": 109,
      "outputs": [
        {
          "output_type": "execute_result",
          "data": {
            "text/plain": [
              "33.84613894907102"
            ]
          },
          "metadata": {},
          "execution_count": 109
        }
      ]
    },
    {
      "cell_type": "code",
      "source": [
        "r2_score(y_test, best_pred)"
      ],
      "metadata": {
        "id": "veZ6-35GwEtu",
        "colab": {
          "base_uri": "https://localhost:8080/"
        },
        "outputId": "ce3bf691-4595-481a-d640-41b9ce0b8337"
      },
      "execution_count": 110,
      "outputs": [
        {
          "output_type": "execute_result",
          "data": {
            "text/plain": [
              "0.8686510554598804"
            ]
          },
          "metadata": {},
          "execution_count": 110
        }
      ]
    },
    {
      "cell_type": "markdown",
      "source": [
        "# Classication and Regression Trees (CART)"
      ],
      "metadata": {
        "id": "aNMpWU8h6ULu"
      }
    },
    {
      "cell_type": "code",
      "source": [
        "from sklearn.model_selection import train_test_split\n",
        "from sklearn.metrics import mean_squared_error, r2_score\n",
        "from sklearn.model_selection import GridSearchCV\n",
        "x_egitim, x_test, y_egitim, y_test = train_test_split(x, y, test_size = 30 )\n",
        "from sklearn.tree import DecisionTreeRegressor\n",
        "model = DecisionTreeRegressor().fit(x_egitim, y_egitim)\n",
        "preds = model.predict(x_test)\n",
        "\n",
        "mean_squared_error(y_test, preds)"
      ],
      "metadata": {
        "id": "pym36uAf6HiT",
        "outputId": "cce638d6-a6c6-4bd9-ff84-bde42d2929f7",
        "colab": {
          "base_uri": "https://localhost:8080/"
        }
      },
      "execution_count": null,
      "outputs": [
        {
          "output_type": "execute_result",
          "data": {
            "text/plain": [
              "37.455394999384076"
            ]
          },
          "metadata": {},
          "execution_count": 69
        }
      ]
    },
    {
      "cell_type": "code",
      "source": [
        "r2_score(y_test, preds)"
      ],
      "metadata": {
        "id": "io6Wv4jL6FSX",
        "outputId": "f20b3ad0-63ab-4138-bae5-59b2018b6966",
        "colab": {
          "base_uri": "https://localhost:8080/"
        }
      },
      "execution_count": null,
      "outputs": [
        {
          "output_type": "execute_result",
          "data": {
            "text/plain": [
              "0.8823978622786085"
            ]
          },
          "metadata": {},
          "execution_count": 70
        }
      ]
    },
    {
      "cell_type": "markdown",
      "source": [
        "Model Optimizasyonu"
      ],
      "metadata": {
        "id": "Enwgqamk5_N6"
      }
    },
    {
      "cell_type": "code",
      "source": [
        "cart_pars = {\"min_samples_split\": range(2, 100),\n",
        "             \"max_leaf_nodes\": range(2,10)}\n",
        "\n",
        "cart_grid = GridSearchCV(model, cart_pars, cv = 10).fit(x_egitim, y_egitim)\n",
        "cart_grid.best_params_"
      ],
      "metadata": {
        "id": "tcrKkavHwMcK",
        "outputId": "2cb411bc-59c7-4f89-feec-8222b945672b",
        "colab": {
          "base_uri": "https://localhost:8080/"
        }
      },
      "execution_count": null,
      "outputs": [
        {
          "output_type": "execute_result",
          "data": {
            "text/plain": [
              "{'max_leaf_nodes': 9, 'min_samples_split': 2}"
            ]
          },
          "metadata": {},
          "execution_count": 71
        }
      ]
    },
    {
      "cell_type": "code",
      "source": [
        "model = DecisionTreeRegressor(max_leaf_nodes = 9,\n",
        "                              min_samples_split = 22).fit(x_egitim, y_egitim)\n",
        "preds = model.predict(x_test)\n",
        "mean_squared_error(y_test, preds)"
      ],
      "metadata": {
        "id": "ioB33x6nwMYy",
        "outputId": "008dde22-7397-4785-bbe1-362291631180",
        "colab": {
          "base_uri": "https://localhost:8080/"
        }
      },
      "execution_count": null,
      "outputs": [
        {
          "output_type": "execute_result",
          "data": {
            "text/plain": [
              "85.56887763133282"
            ]
          },
          "metadata": {},
          "execution_count": 72
        }
      ]
    },
    {
      "cell_type": "code",
      "source": [
        "r2_score(y_test, preds)"
      ],
      "metadata": {
        "id": "EOKcEG15w2NM",
        "outputId": "c019f17e-aab3-4661-c020-b06dbcf9661a",
        "colab": {
          "base_uri": "https://localhost:8080/"
        }
      },
      "execution_count": null,
      "outputs": [
        {
          "output_type": "execute_result",
          "data": {
            "text/plain": [
              "0.7313315496464425"
            ]
          },
          "metadata": {},
          "execution_count": 73
        }
      ]
    },
    {
      "cell_type": "markdown",
      "source": [
        "# Bagging (Bootsrap Aggregating)\n"
      ],
      "metadata": {
        "id": "Az_0dWS1w5no"
      }
    },
    {
      "cell_type": "code",
      "source": [
        "from sklearn.ensemble import BaggingRegressor\n",
        "model = BaggingRegressor(bootstrap_features=(True)).fit(x_egitim, y_egitim)\n",
        "preds = model.predict(x_test)\n",
        "mean_squared_error(y_test, preds)"
      ],
      "metadata": {
        "id": "IAULiyFEwMW0",
        "outputId": "afc893c5-9d92-4a09-f048-5a71d24e88be",
        "colab": {
          "base_uri": "https://localhost:8080/"
        }
      },
      "execution_count": null,
      "outputs": [
        {
          "output_type": "execute_result",
          "data": {
            "text/plain": [
              "95.36135794837219"
            ]
          },
          "metadata": {},
          "execution_count": 74
        }
      ]
    },
    {
      "cell_type": "code",
      "source": [
        "r2_score(y_test, preds)"
      ],
      "metadata": {
        "id": "aetEAhR9wMUk",
        "outputId": "ee517912-72b2-447a-cd9a-19eba0e00350",
        "colab": {
          "base_uri": "https://localhost:8080/"
        }
      },
      "execution_count": null,
      "outputs": [
        {
          "output_type": "execute_result",
          "data": {
            "text/plain": [
              "0.7005852013861341"
            ]
          },
          "metadata": {},
          "execution_count": 75
        }
      ]
    },
    {
      "cell_type": "markdown",
      "source": [
        "Model Optimizasyonu"
      ],
      "metadata": {
        "id": "PDtrkxO8xO6E"
      }
    },
    {
      "cell_type": "code",
      "source": [
        "params = {\"n_estimators\": range(2,40)}\n",
        "bag_cv = GridSearchCV(model, params, cv = 10).fit(x_egitim, y_egitim)\n",
        "bag_cv.best_params_"
      ],
      "metadata": {
        "colab": {
          "base_uri": "https://localhost:8080/"
        },
        "id": "RGtRqJtSo8zg",
        "outputId": "f2506c53-d322-4ff1-e482-c223482672da"
      },
      "execution_count": null,
      "outputs": [
        {
          "output_type": "execute_result",
          "data": {
            "text/plain": [
              "{'n_estimators': 38}"
            ]
          },
          "metadata": {},
          "execution_count": 76
        }
      ]
    },
    {
      "cell_type": "code",
      "source": [
        "model = BaggingRegressor(bootstrap_features=(True),\n",
        "                         n_estimators = 36).fit(x_egitim, y_egitim)\n",
        "\n",
        "preds = model.predict(x_test)\n",
        "mean_squared_error(y_test, preds)"
      ],
      "metadata": {
        "colab": {
          "base_uri": "https://localhost:8080/"
        },
        "id": "BNcJWB2vo824",
        "outputId": "5b3e08f9-ef3b-4b79-a5f4-4e12e4687e2b"
      },
      "execution_count": null,
      "outputs": [
        {
          "output_type": "execute_result",
          "data": {
            "text/plain": [
              "41.59564642564591"
            ]
          },
          "metadata": {},
          "execution_count": 77
        }
      ]
    },
    {
      "cell_type": "code",
      "source": [
        "r2_score(y_test, preds)"
      ],
      "metadata": {
        "colab": {
          "base_uri": "https://localhost:8080/"
        },
        "id": "RXrdNBs5l1sF",
        "outputId": "95caeca9-b433-4b1e-f859-64e04735617f"
      },
      "execution_count": null,
      "outputs": [
        {
          "output_type": "execute_result",
          "data": {
            "text/plain": [
              "0.8693983352828195"
            ]
          },
          "metadata": {},
          "execution_count": 78
        }
      ]
    },
    {
      "cell_type": "markdown",
      "source": [
        "# Random Forest"
      ],
      "metadata": {
        "id": "JICWmEv4xteM"
      }
    },
    {
      "cell_type": "code",
      "source": [
        "from sklearn.ensemble import RandomForestRegressor\n",
        "model = RandomForestRegressor().fit(x_egitim, y_egitim)\n",
        "preds = model.predict(x_test)\n",
        "mean_squared_error(y_test, preds)"
      ],
      "metadata": {
        "id": "OcKMDZgtxWbo",
        "outputId": "2a3fafe7-159d-466c-a7bc-0f3fe52da5e9",
        "colab": {
          "base_uri": "https://localhost:8080/"
        }
      },
      "execution_count": null,
      "outputs": [
        {
          "output_type": "execute_result",
          "data": {
            "text/plain": [
              "9.720968534853776"
            ]
          },
          "metadata": {},
          "execution_count": 79
        }
      ]
    },
    {
      "cell_type": "code",
      "source": [
        "r2_score(y_test, preds)"
      ],
      "metadata": {
        "id": "EI7zLNIuxWez",
        "outputId": "22cca1aa-8887-445a-c553-9d83e7781e41",
        "colab": {
          "base_uri": "https://localhost:8080/"
        }
      },
      "execution_count": null,
      "outputs": [
        {
          "output_type": "execute_result",
          "data": {
            "text/plain": [
              "0.9694781838386703"
            ]
          },
          "metadata": {},
          "execution_count": 80
        }
      ]
    },
    {
      "cell_type": "markdown",
      "source": [
        "Model Optimizasyonu"
      ],
      "metadata": {
        "id": "cDC1c2y4x1Wb"
      }
    },
    {
      "cell_type": "code",
      "source": [
        "params = {\"max_depth\": range(1, 15), \"max_features\":[2,3,5],\n",
        "          \"n_estimators\": [100,200]}\n",
        "rf_cv = GridSearchCV(model, params, cv = 10).fit(x_egitim, y_egitim)\n",
        "rf_cv.best_params_"
      ],
      "metadata": {
        "id": "w4MeRwJ2xWiS",
        "outputId": "3183ee94-44bf-416f-9104-6203940cfb67",
        "colab": {
          "base_uri": "https://localhost:8080/"
        }
      },
      "execution_count": null,
      "outputs": [
        {
          "output_type": "execute_result",
          "data": {
            "text/plain": [
              "{'max_depth': 12, 'max_features': 5, 'n_estimators': 200}"
            ]
          },
          "metadata": {},
          "execution_count": 81
        }
      ]
    },
    {
      "cell_type": "code",
      "source": [
        "model = RandomForestRegressor(max_depth= 14, max_features = 5,\n",
        "                         n_estimators = 100).fit(x_egitim, y_egitim)\n",
        "\n",
        "preds = model.predict(x_test)\n",
        "mean_squared_error(y_test, preds)"
      ],
      "metadata": {
        "id": "DzRvS2NCxWz4",
        "outputId": "4fec2aed-4104-4634-f631-58a7cf9cd595",
        "colab": {
          "base_uri": "https://localhost:8080/"
        }
      },
      "execution_count": null,
      "outputs": [
        {
          "output_type": "execute_result",
          "data": {
            "text/plain": [
              "9.936547724201343"
            ]
          },
          "metadata": {},
          "execution_count": 82
        }
      ]
    },
    {
      "cell_type": "code",
      "source": [
        "r2_score(y_test, preds)"
      ],
      "metadata": {
        "id": "UvpFnd2xxW2I",
        "outputId": "b5b8adc0-6fca-4ae7-ace1-bf72afd0370e",
        "colab": {
          "base_uri": "https://localhost:8080/"
        }
      },
      "execution_count": null,
      "outputs": [
        {
          "output_type": "execute_result",
          "data": {
            "text/plain": [
              "0.9688013100928204"
            ]
          },
          "metadata": {},
          "execution_count": 83
        }
      ]
    },
    {
      "cell_type": "markdown",
      "source": [
        "# Gradiend boosting ve XGBoost"
      ],
      "metadata": {
        "id": "Rcp4LSOYz-v6"
      }
    },
    {
      "cell_type": "code",
      "source": [
        "from sklearn.ensemble import GradientBoostingRegressor\n",
        "\n",
        "model = GradientBoostingRegressor().fit(x_egitim, y_egitim)\n",
        "preds = model.predict(x_test)\n",
        "mean_squared_error(y_test, preds)"
      ],
      "metadata": {
        "id": "Q0ByQrblz8b7",
        "outputId": "a0ea04ef-6bd7-4bb2-bad2-996da624efa1",
        "colab": {
          "base_uri": "https://localhost:8080/"
        }
      },
      "execution_count": null,
      "outputs": [
        {
          "output_type": "execute_result",
          "data": {
            "text/plain": [
              "29.522194825196625"
            ]
          },
          "metadata": {},
          "execution_count": 84
        }
      ]
    },
    {
      "cell_type": "code",
      "source": [
        "r2_score(y_test, preds)"
      ],
      "metadata": {
        "id": "Nh5nIKvqz8eX",
        "outputId": "18a18bd6-189d-4567-b62a-8abfe7ceb86f",
        "colab": {
          "base_uri": "https://localhost:8080/"
        }
      },
      "execution_count": null,
      "outputs": [
        {
          "output_type": "execute_result",
          "data": {
            "text/plain": [
              "0.907306458209088"
            ]
          },
          "metadata": {},
          "execution_count": 85
        }
      ]
    },
    {
      "cell_type": "markdown",
      "source": [
        "Model Optimizasyonu"
      ],
      "metadata": {
        "id": "OcCg1c4t0O_t"
      }
    },
    {
      "cell_type": "code",
      "source": [
        "params = {\"learning_rate\":[0.001, 0.01, 0.1], \"max_depth\":[3,5,10],\n",
        "          \"n_estimators\": [100, 200], \"subsample\": [1, 0.5, 0.75]}\n",
        "gb_cv = GridSearchCV(model, params, cv = 10,\n",
        "                     n_jobs=-1, verbose = 2).fit(x_egitim, y_egitim)\n",
        "\n",
        "model = GradientBoostingRegressor(learning_rate=0.1, max_depth = 3,\n",
        "                                  n_estimators=200,\n",
        "                                  subsample=0.75).fit(x_egitim, y_egitim)\n",
        "preds = model.predict(x_test)\n",
        "mean_squared_error(y_test, preds)"
      ],
      "metadata": {
        "id": "1eyFTVmUz8hD",
        "outputId": "6af0d759-4ecd-46ed-931e-b181d262372b",
        "colab": {
          "base_uri": "https://localhost:8080/"
        }
      },
      "execution_count": null,
      "outputs": [
        {
          "output_type": "stream",
          "name": "stdout",
          "text": [
            "Fitting 10 folds for each of 54 candidates, totalling 540 fits\n"
          ]
        },
        {
          "output_type": "execute_result",
          "data": {
            "text/plain": [
              "22.643103709253968"
            ]
          },
          "metadata": {},
          "execution_count": 86
        }
      ]
    },
    {
      "cell_type": "code",
      "source": [
        "r2_score(y_test, preds)"
      ],
      "metadata": {
        "id": "QyaOef-ez8je",
        "outputId": "564785d1-76c3-40ac-cc2f-f0ce593954ba",
        "colab": {
          "base_uri": "https://localhost:8080/"
        }
      },
      "execution_count": null,
      "outputs": [
        {
          "output_type": "execute_result",
          "data": {
            "text/plain": [
              "0.9289053712849851"
            ]
          },
          "metadata": {},
          "execution_count": 87
        }
      ]
    },
    {
      "cell_type": "markdown",
      "source": [
        "# XGBoots"
      ],
      "metadata": {
        "id": "SuXryvAp0ZeG"
      }
    },
    {
      "cell_type": "code",
      "source": [
        "from xgboost import XGBRegressor\n",
        "model = XGBRegressor().fit(x_egitim, y_egitim)\n",
        "\n",
        "preds = model.predict(x_test)\n",
        "mean_squared_error(y_test, preds)"
      ],
      "metadata": {
        "id": "KZsEuhAez8mF",
        "outputId": "fc6f4a9a-74f4-42bc-8157-ae2fd84ba83f",
        "colab": {
          "base_uri": "https://localhost:8080/"
        }
      },
      "execution_count": null,
      "outputs": [
        {
          "output_type": "execute_result",
          "data": {
            "text/plain": [
              "10.707329580992894"
            ]
          },
          "metadata": {},
          "execution_count": 88
        }
      ]
    },
    {
      "cell_type": "code",
      "source": [
        "r2_score(y_test, preds)"
      ],
      "metadata": {
        "id": "QGuvKIda0fXA",
        "outputId": "ee39b9fc-cdb2-4504-8eec-2f80c0eebbe1",
        "colab": {
          "base_uri": "https://localhost:8080/"
        }
      },
      "execution_count": null,
      "outputs": [
        {
          "output_type": "execute_result",
          "data": {
            "text/plain": [
              "0.9663812156290713"
            ]
          },
          "metadata": {},
          "execution_count": 89
        }
      ]
    },
    {
      "cell_type": "markdown",
      "source": [
        "Model Optimizasyonu"
      ],
      "metadata": {
        "id": "etMe2Zb64LUQ"
      }
    },
    {
      "cell_type": "code",
      "source": [
        "params = {\"colsample_bytree\":[0.4,0.5,0.6,0.7,0.9,1],\n",
        "          \"n_estimators\": [100, 250, 500],\n",
        "          \"learning_rate\":[0.001, 0.01, 0.1]}\n",
        "xgb_cv = GridSearchCV(model, params, cv = 10,\n",
        "                      n_jobs = -1, verbose = 2).fit(x_egitim, y_egitim)\n",
        "xgb_cv.best_params_"
      ],
      "metadata": {
        "id": "NXZhN63A0gR7",
        "outputId": "cccb2473-7cb2-47fa-b9cc-6ddb2c7ace56",
        "colab": {
          "base_uri": "https://localhost:8080/"
        }
      },
      "execution_count": null,
      "outputs": [
        {
          "output_type": "stream",
          "name": "stdout",
          "text": [
            "Fitting 10 folds for each of 54 candidates, totalling 540 fits\n"
          ]
        },
        {
          "output_type": "execute_result",
          "data": {
            "text/plain": [
              "{'colsample_bytree': 0.9, 'learning_rate': 0.1, 'n_estimators': 500}"
            ]
          },
          "metadata": {},
          "execution_count": 90
        }
      ]
    },
    {
      "cell_type": "code",
      "source": [
        "model = XGBRegressor(colsample_bytree = 0.7, learning_rate = 0.1,\n",
        "                     n_estimators = 500).fit(x_egitim, y_egitim)\n",
        "\n",
        "preds = model.predict(x_test)\n",
        "mean_squared_error(y_test, preds)"
      ],
      "metadata": {
        "id": "aSaonBjo0fUG",
        "outputId": "572f16a7-0bff-42ed-f94b-117b14af215c",
        "colab": {
          "base_uri": "https://localhost:8080/"
        }
      },
      "execution_count": null,
      "outputs": [
        {
          "output_type": "execute_result",
          "data": {
            "text/plain": [
              "14.67055241319717"
            ]
          },
          "metadata": {},
          "execution_count": 91
        }
      ]
    },
    {
      "cell_type": "code",
      "source": [
        "r2_score(y_test, preds)"
      ],
      "metadata": {
        "id": "o5ptbdNA0fPn",
        "outputId": "6ec7878d-81e5-4065-a678-639651997ef5",
        "colab": {
          "base_uri": "https://localhost:8080/"
        }
      },
      "execution_count": null,
      "outputs": [
        {
          "output_type": "execute_result",
          "data": {
            "text/plain": [
              "0.9539375215406465"
            ]
          },
          "metadata": {},
          "execution_count": 92
        }
      ]
    },
    {
      "cell_type": "markdown",
      "source": [
        "#Elastic Net Regresyon"
      ],
      "metadata": {
        "id": "5SVbzUXKgmV-"
      }
    },
    {
      "cell_type": "code",
      "source": [
        "from sklearn.linear_model import ElasticNet\n",
        "enet_model = ElasticNet(alpha=1.0, l1_ratio=0.5, random_state=42)\n",
        "enet_model.fit(x_egitim, y_egitim)\n",
        "enet_pred = enet_model.predict(x_test)\n",
        "print(mean_squared_error(y_test, enet_pred))\n"
      ],
      "metadata": {
        "id": "pKFRvuT53RGZ",
        "colab": {
          "base_uri": "https://localhost:8080/"
        },
        "outputId": "43ee65d3-e98c-4766-86d9-a0bfa1b1d7fe"
      },
      "execution_count": null,
      "outputs": [
        {
          "output_type": "stream",
          "name": "stdout",
          "text": [
            "94.77915592192336\n"
          ]
        }
      ]
    },
    {
      "cell_type": "code",
      "source": [
        "print(r2_score(y_test, enet_pred))"
      ],
      "metadata": {
        "colab": {
          "base_uri": "https://localhost:8080/"
        },
        "id": "t5iLxb2LgXGq",
        "outputId": "49606efd-8c01-4e53-c496-2f4b812f704a"
      },
      "execution_count": null,
      "outputs": [
        {
          "output_type": "stream",
          "name": "stdout",
          "text": [
            "0.7024131944668968\n"
          ]
        }
      ]
    },
    {
      "cell_type": "markdown",
      "source": [
        "#PLSR (Partial Least Squares Regression)"
      ],
      "metadata": {
        "id": "gUw-HWurgn_M"
      }
    },
    {
      "cell_type": "code",
      "source": [
        "from sklearn.cross_decomposition import PLSRegression\n",
        "from sklearn.model_selection import cross_val_score\n",
        "from sklearn.metrics import mean_squared_error, r2_score\n",
        "\n",
        "pls_model = PLSRegression(n_components=2)\n",
        "pls_model.fit(x_egitim, y_egitim)\n",
        "pls_pred = pls_model.predict(x_test)\n",
        "mean_squared_error(y_test, pls_pred)"
      ],
      "metadata": {
        "colab": {
          "base_uri": "https://localhost:8080/"
        },
        "id": "zmQwtntRghYV",
        "outputId": "deb96d9e-8ecf-4328-f2b0-cf8114d1d075"
      },
      "execution_count": null,
      "outputs": [
        {
          "output_type": "execute_result",
          "data": {
            "text/plain": [
              "88.52512059763968"
            ]
          },
          "metadata": {},
          "execution_count": 95
        }
      ]
    },
    {
      "cell_type": "code",
      "source": [
        "r2_score(y_test, pls_pred)"
      ],
      "metadata": {
        "colab": {
          "base_uri": "https://localhost:8080/"
        },
        "id": "Xo8C1fy3ghan",
        "outputId": "f86e8663-ee90-4651-f45e-285606d33d87"
      },
      "execution_count": null,
      "outputs": [
        {
          "output_type": "execute_result",
          "data": {
            "text/plain": [
              "0.7220495625664176"
            ]
          },
          "metadata": {},
          "execution_count": 96
        }
      ]
    },
    {
      "cell_type": "code",
      "source": [
        "best_n_components = None\n",
        "best_score = float('inf')\n",
        "for i in range(1, min(x_egitim.shape[1], 20)):\n",
        "    pls = PLSRegression(n_components=i)\n",
        "    scores = cross_val_score(pls, x_egitim, y_egitim, cv=5, scoring='neg_mean_squared_error')\n",
        "    mean_score = -scores.mean()\n",
        "\n",
        "    if mean_score < best_score:\n",
        "        best_score = mean_score\n",
        "        best_n_components = i\n",
        "\n",
        "print(best_n_components)"
      ],
      "metadata": {
        "colab": {
          "base_uri": "https://localhost:8080/"
        },
        "id": "ANLAh6PVghcv",
        "outputId": "b3a24477-9dc1-46f2-f4aa-932efb480b65"
      },
      "execution_count": null,
      "outputs": [
        {
          "output_type": "stream",
          "name": "stdout",
          "text": [
            "7\n"
          ]
        }
      ]
    },
    {
      "cell_type": "code",
      "source": [
        "best_pls = PLSRegression(n_components=7)\n",
        "best_pls.fit(x_egitim, y_egitim)\n",
        "\n",
        "pls_final_pred = best_pls.predict(x_test)\n",
        "mean_squared_error(y_test, pls_final_pred)"
      ],
      "metadata": {
        "colab": {
          "base_uri": "https://localhost:8080/"
        },
        "id": "7qTr07Qsghe7",
        "outputId": "3243e893-70aa-4da7-f604-5ac5b81c5b74"
      },
      "execution_count": null,
      "outputs": [
        {
          "output_type": "execute_result",
          "data": {
            "text/plain": [
              "93.34995829102859"
            ]
          },
          "metadata": {},
          "execution_count": 98
        }
      ]
    },
    {
      "cell_type": "code",
      "source": [
        "r2_score(y_test, pls_final_pred)"
      ],
      "metadata": {
        "colab": {
          "base_uri": "https://localhost:8080/"
        },
        "id": "9yjZwqoYghhU",
        "outputId": "cd4d08b6-0d32-4485-95cc-6b05a0077314"
      },
      "execution_count": null,
      "outputs": [
        {
          "output_type": "execute_result",
          "data": {
            "text/plain": [
              "0.7069005773024626"
            ]
          },
          "metadata": {},
          "execution_count": 99
        }
      ]
    },
    {
      "cell_type": "markdown",
      "source": [
        "#TensorFlow"
      ],
      "metadata": {
        "id": "GC-T8nhXnYb1"
      }
    },
    {
      "cell_type": "code",
      "source": [
        "import warnings\n",
        "warnings.filterwarnings(\"ignore\", category=UserWarning)\n",
        "import tensorflow as tf\n",
        "from tensorflow.keras.models import Sequential\n",
        "from tensorflow.keras.layers import Dense\n",
        "from tensorflow.keras.optimizers import Adam\n",
        "from sklearn.preprocessing import StandardScaler\n",
        "\n",
        "scaler = StandardScaler()\n",
        "x_egitim_scl = scaler.fit_transform(x_egitim)\n",
        "x_test_scl = scaler.transform(x_test)\n",
        "\n",
        "model = Sequential([\n",
        "    Dense(128, activation='relu', input_shape=(x_egitim_scl.shape[1],)),\n",
        "    Dense(64, activation='relu'),\n",
        "    Dense(32, activation='relu'),\n",
        "    Dense(1)\n",
        "])\n",
        "\n",
        "model.compile(optimizer=Adam(learning_rate=0.001), loss='mse', metrics=['mae'])\n",
        "history = model.fit(x_egitim_scl, y_egitim, validation_split=0.2, epochs=100, batch_size=32, verbose=0)\n",
        "y_pred = model.predict(x_test_scl).flatten()\n",
        "\n",
        "mean_squared_error(y_test, y_pred)"
      ],
      "metadata": {
        "colab": {
          "base_uri": "https://localhost:8080/"
        },
        "id": "N7kpl281iYQI",
        "outputId": "3d19ab8f-527a-4743-9722-33ea49a9a4c2"
      },
      "execution_count": null,
      "outputs": [
        {
          "output_type": "stream",
          "name": "stdout",
          "text": [
            "\u001b[1m1/1\u001b[0m \u001b[32m━━━━━━━━━━━━━━━━━━━━\u001b[0m\u001b[37m\u001b[0m \u001b[1m0s\u001b[0m 77ms/step\n"
          ]
        },
        {
          "output_type": "execute_result",
          "data": {
            "text/plain": [
              "46.092479125521734"
            ]
          },
          "metadata": {},
          "execution_count": 112
        }
      ]
    },
    {
      "cell_type": "code",
      "source": [
        "r2_score(y_test, y_pred)"
      ],
      "metadata": {
        "colab": {
          "base_uri": "https://localhost:8080/"
        },
        "id": "7-flIGmpiYUT",
        "outputId": "4c47449a-7edf-4b06-f4c7-223e957542c5"
      },
      "execution_count": null,
      "outputs": [
        {
          "output_type": "execute_result",
          "data": {
            "text/plain": [
              "0.8552792173696444"
            ]
          },
          "metadata": {},
          "execution_count": 113
        }
      ]
    },
    {
      "cell_type": "markdown",
      "source": [
        "#LightGBM"
      ],
      "metadata": {
        "id": "MWoQsbrOjaX1"
      }
    },
    {
      "cell_type": "code",
      "source": [
        "from lightgbm import LGBMRegressor\n",
        "from sklearn.metrics import mean_squared_error, r2_score\n",
        "from sklearn.model_selection import train_test_split\n",
        "\n",
        "warnings.filterwarnings(\"ignore\", category=UserWarning)\n",
        "x.columns = [col.replace(\" \", \"_\") for col in x.columns]\n",
        "y = dat[\"Basinc_Dayanimi\"]\n",
        "x = dat.drop(\"Basinc_Dayanimi\", axis=1)\n",
        "\n",
        "x_train, x_test, y_train, y_test = train_test_split(X, y, test_size=0.2, random_state=42)\n",
        "\n",
        "model = LGBMRegressor(min_gain_to_split=0.0, min_data_in_leaf=5, random_state=42)\n",
        "model.fit(x_train, y_train)\n",
        "\n",
        "y_pred = model.predict(x_test)\n",
        "\n",
        "\n",
        "mean_squared_error(y_test, lgbm_pred)"
      ],
      "metadata": {
        "id": "Q5abLzJLi9D_",
        "outputId": "a15b25fa-5798-4ae4-9042-e08e7598595b",
        "colab": {
          "base_uri": "https://localhost:8080/"
        }
      },
      "execution_count": 135,
      "outputs": [
        {
          "output_type": "stream",
          "name": "stdout",
          "text": [
            "[LightGBM] [Warning] min_data_in_leaf is set=5, min_child_samples=20 will be ignored. Current value: min_data_in_leaf=5\n",
            "[LightGBM] [Warning] min_gain_to_split is set=0.0, min_split_gain=0.0 will be ignored. Current value: min_gain_to_split=0.0\n",
            "[LightGBM] [Warning] min_data_in_leaf is set=5, min_child_samples=20 will be ignored. Current value: min_data_in_leaf=5\n",
            "[LightGBM] [Warning] min_gain_to_split is set=0.0, min_split_gain=0.0 will be ignored. Current value: min_gain_to_split=0.0\n",
            "[LightGBM] [Info] Auto-choosing col-wise multi-threading, the overhead of testing was 0.000206 seconds.\n",
            "You can set `force_col_wise=true` to remove the overhead.\n",
            "[LightGBM] [Info] Total Bins 1071\n",
            "[LightGBM] [Info] Number of data points in the train set: 824, number of used features: 8\n",
            "[LightGBM] [Info] Start training from score 35.857718\n",
            "[LightGBM] [Warning] min_gain_to_split is set=0.0, min_split_gain=0.0 will be ignored. Current value: min_gain_to_split=0.0\n",
            "[LightGBM] [Warning] min_data_in_leaf is set=5, min_child_samples=20 will be ignored. Current value: min_data_in_leaf=5\n"
          ]
        },
        {
          "output_type": "execute_result",
          "data": {
            "text/plain": [
              "21.613823175607465"
            ]
          },
          "metadata": {},
          "execution_count": 135
        }
      ]
    },
    {
      "cell_type": "code",
      "source": [
        "r2_score(y_test, lgbm_pred)"
      ],
      "metadata": {
        "id": "8k7GrFcbi-C0",
        "outputId": "da317d08-7f0d-46bb-edcf-1299c312df5c",
        "colab": {
          "base_uri": "https://localhost:8080/"
        }
      },
      "execution_count": 124,
      "outputs": [
        {
          "output_type": "execute_result",
          "data": {
            "text/plain": [
              "0.9161218103528841"
            ]
          },
          "metadata": {},
          "execution_count": 124
        }
      ]
    },
    {
      "cell_type": "markdown",
      "source": [
        "#PyTorch Regresyon"
      ],
      "metadata": {
        "id": "prD3V0Y-mgPQ"
      }
    },
    {
      "cell_type": "code",
      "source": [
        "import torch\n",
        "import torch.nn as nn\n",
        "import torch.optim as optim\n",
        "from sklearn.preprocessing import StandardScaler\n",
        "\n",
        "\n",
        "y = dat[\"Basinc_Dayanimi\"].values\n",
        "X = dat.drop(\"Basinc_Dayanimi\", axis=1).values\n",
        "x_train, x_test, y_train, y_test = train_test_split(X, y, test_size=0.2, random_state=42)\n",
        "\n",
        "scaler = StandardScaler()\n",
        "x_train = scaler.fit_transform(x_train)\n",
        "x_test = scaler.transform(x_test)\n",
        "\n",
        "x_train_tensor = torch.tensor(x_train, dtype=torch.float32)\n",
        "y_train_tensor = torch.tensor(y_train.reshape(-1, 1), dtype=torch.float32)\n",
        "x_test_tensor = torch.tensor(x_test, dtype=torch.float32)\n",
        "\n",
        "class RegressionModel(nn.Module):\n",
        "    def __init__(self):\n",
        "        super(RegressionModel, self).__init__()\n",
        "        self.linear = nn.Sequential(\n",
        "            nn.Linear(x_train.shape[1], 64),\n",
        "            nn.ReLU(),\n",
        "            nn.Linear(64, 32),\n",
        "            nn.ReLU(),\n",
        "            nn.Linear(32, 1)\n",
        "        )\n",
        "\n",
        "    def forward(self, x):\n",
        "        return self.linear(x)\n",
        "\n",
        "model = RegressionModel()\n",
        "criterion = nn.MSELoss()\n",
        "optimizer = optim.Adam(model.parameters(), lr=0.001)\n",
        "\n",
        "epochs = 300\n",
        "for epoch in range(epochs):\n",
        "    model.train()\n",
        "    optimizer.zero_grad()\n",
        "    outputs = model(x_train_tensor)\n",
        "    loss = criterion(outputs, y_train_tensor)\n",
        "    loss.backward()\n",
        "    optimizer.step()\n",
        "\n",
        "model.eval()\n",
        "with torch.no_grad():\n",
        "    predictions = model(x_test_tensor).numpy()\n",
        "\n",
        "\n",
        "mean_squared_error(y_test, predictions)"
      ],
      "metadata": {
        "id": "KtQJyAFMmCyc",
        "outputId": "e2b04644-a1d8-4791-9490-cefae5fa1cc7",
        "colab": {
          "base_uri": "https://localhost:8080/"
        }
      },
      "execution_count": 125,
      "outputs": [
        {
          "output_type": "execute_result",
          "data": {
            "text/plain": [
              "153.27598923648517"
            ]
          },
          "metadata": {},
          "execution_count": 125
        }
      ]
    },
    {
      "cell_type": "code",
      "source": [
        "r2_score(y_test, predictions)"
      ],
      "metadata": {
        "id": "0Z0elKrpmC0-",
        "outputId": "e239e317-2435-496a-caae-eb4d884ba53a",
        "colab": {
          "base_uri": "https://localhost:8080/"
        }
      },
      "execution_count": 126,
      "outputs": [
        {
          "output_type": "execute_result",
          "data": {
            "text/plain": [
              "0.4051717556366161"
            ]
          },
          "metadata": {},
          "execution_count": 126
        }
      ]
    }
  ],
  "metadata": {
    "colab": {
      "provenance": []
    },
    "kernelspec": {
      "display_name": "base",
      "language": "python",
      "name": "python3"
    },
    "language_info": {
      "codemirror_mode": {
        "name": "ipython",
        "version": 3
      },
      "file_extension": ".py",
      "mimetype": "text/x-python",
      "name": "python",
      "nbconvert_exporter": "python",
      "pygments_lexer": "ipython3",
      "version": "3.12.4"
    }
  },
  "nbformat": 4,
  "nbformat_minor": 0
}
